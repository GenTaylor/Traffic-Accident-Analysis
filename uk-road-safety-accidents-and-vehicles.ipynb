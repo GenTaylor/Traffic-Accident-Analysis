{
 "cells": [
  {
   "cell_type": "markdown",
   "metadata": {},
   "source": [
    "https://www.kaggle.com/tsiaras/uk-road-safety-accidents-and-vehicles"
   ]
  },
  {
   "cell_type": "code",
   "execution_count": 1,
   "metadata": {},
   "outputs": [],
   "source": [
    "#Import modules\n",
    "import numpy as np\n",
    "import holidays\n",
    "import pandas as pd\n",
    "import datetime\n",
    "import sklearn\n",
    "import scipy\n",
    "from scipy import stats\n",
    "import matplotlib.pyplot as plt\n",
    "from sklearn.model_selection import GridSearchCV\n",
    "import seaborn as sns\n",
    "import math\n",
    "from sklearn.model_selection import cross_val_score\n",
    "%matplotlib inline\n",
    "import warnings\n",
    "warnings.filterwarnings(\"ignore\")"
   ]
  },
  {
   "cell_type": "code",
   "execution_count": 2,
   "metadata": {},
   "outputs": [],
   "source": [
    "#import files\n",
    "\n",
    "df1 = pd.read_csv('Accident_Information.csv')\n",
    "df2 = pd.read_csv('Vehicle_Information.csv')"
   ]
  },
  {
   "cell_type": "code",
   "execution_count": 3,
   "metadata": {},
   "outputs": [
    {
     "name": "stdout",
     "output_type": "stream",
     "text": [
      "Accident's Columns:\n",
      " Index(['Accident_Index', '1st_Road_Class', '1st_Road_Number', '2nd_Road_Class',\n",
      "       '2nd_Road_Number', 'Accident_Severity', 'Carriageway_Hazards', 'Date',\n",
      "       'Day_of_Week', 'Did_Police_Officer_Attend_Scene_of_Accident',\n",
      "       'Junction_Control', 'Junction_Detail', 'Latitude', 'Light_Conditions',\n",
      "       'Local_Authority_(District)', 'Local_Authority_(Highway)',\n",
      "       'Location_Easting_OSGR', 'Location_Northing_OSGR', 'Longitude',\n",
      "       'LSOA_of_Accident_Location', 'Number_of_Casualties',\n",
      "       'Number_of_Vehicles', 'Pedestrian_Crossing-Human_Control',\n",
      "       'Pedestrian_Crossing-Physical_Facilities', 'Police_Force',\n",
      "       'Road_Surface_Conditions', 'Road_Type', 'Special_Conditions_at_Site',\n",
      "       'Speed_limit', 'Time', 'Urban_or_Rural_Area', 'Weather_Conditions',\n",
      "       'Year', 'InScotland'],\n",
      "      dtype='object') \n",
      "\n",
      "Vehicle's Columns:\n",
      " Index(['Accident_Index', 'Age_Band_of_Driver', 'Age_of_Vehicle',\n",
      "       'Driver_Home_Area_Type', 'Driver_IMD_Decile', 'Engine_Capacity_.CC.',\n",
      "       'Hit_Object_in_Carriageway', 'Hit_Object_off_Carriageway',\n",
      "       'Journey_Purpose_of_Driver', 'Junction_Location', 'make', 'model',\n",
      "       'Propulsion_Code', 'Sex_of_Driver', 'Skidding_and_Overturning',\n",
      "       'Towing_and_Articulation', 'Vehicle_Leaving_Carriageway',\n",
      "       'Vehicle_Location.Restricted_Lane', 'Vehicle_Manoeuvre',\n",
      "       'Vehicle_Reference', 'Vehicle_Type', 'Was_Vehicle_Left_Hand_Drive',\n",
      "       'X1st_Point_of_Impact', 'Year'],\n",
      "      dtype='object')\n"
     ]
    }
   ],
   "source": [
    "#check columns\n",
    "print(\"Accident's Columns:\\n\",df1.columns, \"\\n\")\n",
    "\n",
    "print(\"Vehicle's Columns:\\n\",df2.columns)"
   ]
  },
  {
   "cell_type": "code",
   "execution_count": 4,
   "metadata": {},
   "outputs": [],
   "source": [
    "#merge dataframes\n",
    "df3 = df1.merge(df2, on='Accident_Index')"
   ]
  },
  {
   "cell_type": "code",
   "execution_count": 5,
   "metadata": {},
   "outputs": [
    {
     "data": {
      "text/html": [
       "<div>\n",
       "<style scoped>\n",
       "    .dataframe tbody tr th:only-of-type {\n",
       "        vertical-align: middle;\n",
       "    }\n",
       "\n",
       "    .dataframe tbody tr th {\n",
       "        vertical-align: top;\n",
       "    }\n",
       "\n",
       "    .dataframe thead th {\n",
       "        text-align: right;\n",
       "    }\n",
       "</style>\n",
       "<table border=\"1\" class=\"dataframe\">\n",
       "  <thead>\n",
       "    <tr style=\"text-align: right;\">\n",
       "      <th></th>\n",
       "      <th>Accident_Index</th>\n",
       "      <th>1st_Road_Class</th>\n",
       "      <th>1st_Road_Number</th>\n",
       "      <th>2nd_Road_Class</th>\n",
       "      <th>2nd_Road_Number</th>\n",
       "      <th>Accident_Severity</th>\n",
       "      <th>Carriageway_Hazards</th>\n",
       "      <th>Date</th>\n",
       "      <th>Day_of_Week</th>\n",
       "      <th>Did_Police_Officer_Attend_Scene_of_Accident</th>\n",
       "      <th>...</th>\n",
       "      <th>Skidding_and_Overturning</th>\n",
       "      <th>Towing_and_Articulation</th>\n",
       "      <th>Vehicle_Leaving_Carriageway</th>\n",
       "      <th>Vehicle_Location.Restricted_Lane</th>\n",
       "      <th>Vehicle_Manoeuvre</th>\n",
       "      <th>Vehicle_Reference</th>\n",
       "      <th>Vehicle_Type</th>\n",
       "      <th>Was_Vehicle_Left_Hand_Drive</th>\n",
       "      <th>X1st_Point_of_Impact</th>\n",
       "      <th>Year_y</th>\n",
       "    </tr>\n",
       "  </thead>\n",
       "  <tbody>\n",
       "    <tr>\n",
       "      <th>0</th>\n",
       "      <td>200501BS00002</td>\n",
       "      <td>B</td>\n",
       "      <td>450.0</td>\n",
       "      <td>C</td>\n",
       "      <td>0.0</td>\n",
       "      <td>Slight</td>\n",
       "      <td>None</td>\n",
       "      <td>2005-01-05</td>\n",
       "      <td>Wednesday</td>\n",
       "      <td>1.0</td>\n",
       "      <td>...</td>\n",
       "      <td>None</td>\n",
       "      <td>No tow/articulation</td>\n",
       "      <td>Did not leave carriageway</td>\n",
       "      <td>0.0</td>\n",
       "      <td>Slowing or stopping</td>\n",
       "      <td>1</td>\n",
       "      <td>Bus or coach (17 or more pass seats)</td>\n",
       "      <td>No</td>\n",
       "      <td>Nearside</td>\n",
       "      <td>2005</td>\n",
       "    </tr>\n",
       "    <tr>\n",
       "      <th>1</th>\n",
       "      <td>200501BS00003</td>\n",
       "      <td>C</td>\n",
       "      <td>0.0</td>\n",
       "      <td>NaN</td>\n",
       "      <td>0.0</td>\n",
       "      <td>Slight</td>\n",
       "      <td>None</td>\n",
       "      <td>2005-01-06</td>\n",
       "      <td>Thursday</td>\n",
       "      <td>1.0</td>\n",
       "      <td>...</td>\n",
       "      <td>None</td>\n",
       "      <td>No tow/articulation</td>\n",
       "      <td>Did not leave carriageway</td>\n",
       "      <td>0.0</td>\n",
       "      <td>Going ahead right-hand bend</td>\n",
       "      <td>1</td>\n",
       "      <td>Bus or coach (17 or more pass seats)</td>\n",
       "      <td>No</td>\n",
       "      <td>Nearside</td>\n",
       "      <td>2005</td>\n",
       "    </tr>\n",
       "    <tr>\n",
       "      <th>2</th>\n",
       "      <td>200501BS00004</td>\n",
       "      <td>A</td>\n",
       "      <td>3220.0</td>\n",
       "      <td>NaN</td>\n",
       "      <td>0.0</td>\n",
       "      <td>Slight</td>\n",
       "      <td>None</td>\n",
       "      <td>2005-01-07</td>\n",
       "      <td>Friday</td>\n",
       "      <td>1.0</td>\n",
       "      <td>...</td>\n",
       "      <td>None</td>\n",
       "      <td>No tow/articulation</td>\n",
       "      <td>Did not leave carriageway</td>\n",
       "      <td>0.0</td>\n",
       "      <td>Going ahead other</td>\n",
       "      <td>1</td>\n",
       "      <td>Car</td>\n",
       "      <td>No</td>\n",
       "      <td>Front</td>\n",
       "      <td>2005</td>\n",
       "    </tr>\n",
       "    <tr>\n",
       "      <th>3</th>\n",
       "      <td>200501BS00005</td>\n",
       "      <td>Unclassified</td>\n",
       "      <td>0.0</td>\n",
       "      <td>NaN</td>\n",
       "      <td>0.0</td>\n",
       "      <td>Slight</td>\n",
       "      <td>None</td>\n",
       "      <td>2005-01-10</td>\n",
       "      <td>Monday</td>\n",
       "      <td>1.0</td>\n",
       "      <td>...</td>\n",
       "      <td>Skidded</td>\n",
       "      <td>No tow/articulation</td>\n",
       "      <td>Did not leave carriageway</td>\n",
       "      <td>0.0</td>\n",
       "      <td>Going ahead other</td>\n",
       "      <td>1</td>\n",
       "      <td>Motorcycle 125cc and under</td>\n",
       "      <td>No</td>\n",
       "      <td>Front</td>\n",
       "      <td>2005</td>\n",
       "    </tr>\n",
       "    <tr>\n",
       "      <th>4</th>\n",
       "      <td>200501BS00006</td>\n",
       "      <td>Unclassified</td>\n",
       "      <td>0.0</td>\n",
       "      <td>NaN</td>\n",
       "      <td>0.0</td>\n",
       "      <td>Slight</td>\n",
       "      <td>None</td>\n",
       "      <td>2005-01-11</td>\n",
       "      <td>Tuesday</td>\n",
       "      <td>1.0</td>\n",
       "      <td>...</td>\n",
       "      <td>None</td>\n",
       "      <td>No tow/articulation</td>\n",
       "      <td>Did not leave carriageway</td>\n",
       "      <td>0.0</td>\n",
       "      <td>Moving off</td>\n",
       "      <td>1</td>\n",
       "      <td>Car</td>\n",
       "      <td>No</td>\n",
       "      <td>Did not impact</td>\n",
       "      <td>2005</td>\n",
       "    </tr>\n",
       "  </tbody>\n",
       "</table>\n",
       "<p>5 rows × 57 columns</p>\n",
       "</div>"
      ],
      "text/plain": [
       "  Accident_Index 1st_Road_Class  1st_Road_Number 2nd_Road_Class  \\\n",
       "0  200501BS00002              B            450.0              C   \n",
       "1  200501BS00003              C              0.0            NaN   \n",
       "2  200501BS00004              A           3220.0            NaN   \n",
       "3  200501BS00005   Unclassified              0.0            NaN   \n",
       "4  200501BS00006   Unclassified              0.0            NaN   \n",
       "\n",
       "   2nd_Road_Number Accident_Severity Carriageway_Hazards        Date  \\\n",
       "0              0.0            Slight                None  2005-01-05   \n",
       "1              0.0            Slight                None  2005-01-06   \n",
       "2              0.0            Slight                None  2005-01-07   \n",
       "3              0.0            Slight                None  2005-01-10   \n",
       "4              0.0            Slight                None  2005-01-11   \n",
       "\n",
       "  Day_of_Week  Did_Police_Officer_Attend_Scene_of_Accident  ...  \\\n",
       "0   Wednesday                                          1.0  ...   \n",
       "1    Thursday                                          1.0  ...   \n",
       "2      Friday                                          1.0  ...   \n",
       "3      Monday                                          1.0  ...   \n",
       "4     Tuesday                                          1.0  ...   \n",
       "\n",
       "  Skidding_and_Overturning Towing_and_Articulation  \\\n",
       "0                     None     No tow/articulation   \n",
       "1                     None     No tow/articulation   \n",
       "2                     None     No tow/articulation   \n",
       "3                  Skidded     No tow/articulation   \n",
       "4                     None     No tow/articulation   \n",
       "\n",
       "   Vehicle_Leaving_Carriageway Vehicle_Location.Restricted_Lane  \\\n",
       "0    Did not leave carriageway                              0.0   \n",
       "1    Did not leave carriageway                              0.0   \n",
       "2    Did not leave carriageway                              0.0   \n",
       "3    Did not leave carriageway                              0.0   \n",
       "4    Did not leave carriageway                              0.0   \n",
       "\n",
       "             Vehicle_Manoeuvre Vehicle_Reference  \\\n",
       "0          Slowing or stopping                 1   \n",
       "1  Going ahead right-hand bend                 1   \n",
       "2            Going ahead other                 1   \n",
       "3            Going ahead other                 1   \n",
       "4                   Moving off                 1   \n",
       "\n",
       "                           Vehicle_Type  Was_Vehicle_Left_Hand_Drive  \\\n",
       "0  Bus or coach (17 or more pass seats)                           No   \n",
       "1  Bus or coach (17 or more pass seats)                           No   \n",
       "2                                   Car                           No   \n",
       "3            Motorcycle 125cc and under                           No   \n",
       "4                                   Car                           No   \n",
       "\n",
       "   X1st_Point_of_Impact Year_y  \n",
       "0              Nearside   2005  \n",
       "1              Nearside   2005  \n",
       "2                 Front   2005  \n",
       "3                 Front   2005  \n",
       "4        Did not impact   2005  \n",
       "\n",
       "[5 rows x 57 columns]"
      ]
     },
     "execution_count": 5,
     "metadata": {},
     "output_type": "execute_result"
    }
   ],
   "source": [
    "#check\n",
    "df3.head()"
   ]
  },
  {
   "cell_type": "code",
   "execution_count": 6,
   "metadata": {},
   "outputs": [
    {
     "name": "stdout",
     "output_type": "stream",
     "text": [
      "Column's Datatypes:\n",
      "\n",
      " Accident_Index                                  object\n",
      "1st_Road_Class                                  object\n",
      "1st_Road_Number                                float64\n",
      "2nd_Road_Class                                  object\n",
      "2nd_Road_Number                                float64\n",
      "Accident_Severity                               object\n",
      "Carriageway_Hazards                             object\n",
      "Date                                            object\n",
      "Day_of_Week                                     object\n",
      "Did_Police_Officer_Attend_Scene_of_Accident    float64\n",
      "Junction_Control                                object\n",
      "Junction_Detail                                 object\n",
      "Latitude                                       float64\n",
      "Light_Conditions                                object\n",
      "Local_Authority_(District)                      object\n",
      "Local_Authority_(Highway)                       object\n",
      "Location_Easting_OSGR                          float64\n",
      "Location_Northing_OSGR                         float64\n",
      "Longitude                                      float64\n",
      "LSOA_of_Accident_Location                       object\n",
      "Number_of_Casualties                             int64\n",
      "Number_of_Vehicles                               int64\n",
      "Pedestrian_Crossing-Human_Control              float64\n",
      "Pedestrian_Crossing-Physical_Facilities        float64\n",
      "Police_Force                                    object\n",
      "Road_Surface_Conditions                         object\n",
      "Road_Type                                       object\n",
      "Special_Conditions_at_Site                      object\n",
      "Speed_limit                                    float64\n",
      "Time                                            object\n",
      "Urban_or_Rural_Area                             object\n",
      "Weather_Conditions                              object\n",
      "Year_x                                           int64\n",
      "InScotland                                      object\n",
      "Age_Band_of_Driver                              object\n",
      "Age_of_Vehicle                                 float64\n",
      "Driver_Home_Area_Type                           object\n",
      "Driver_IMD_Decile                              float64\n",
      "Engine_Capacity_.CC.                           float64\n",
      "Hit_Object_in_Carriageway                       object\n",
      "Hit_Object_off_Carriageway                      object\n",
      "Journey_Purpose_of_Driver                       object\n",
      "Junction_Location                               object\n",
      "make                                            object\n",
      "model                                           object\n",
      "Propulsion_Code                                 object\n",
      "Sex_of_Driver                                   object\n",
      "Skidding_and_Overturning                        object\n",
      "Towing_and_Articulation                         object\n",
      "Vehicle_Leaving_Carriageway                     object\n",
      "Vehicle_Location.Restricted_Lane               float64\n",
      "Vehicle_Manoeuvre                               object\n",
      "Vehicle_Reference                                int64\n",
      "Vehicle_Type                                    object\n",
      "Was_Vehicle_Left_Hand_Drive                     object\n",
      "X1st_Point_of_Impact                            object\n",
      "Year_y                                           int64\n",
      "dtype: object\n"
     ]
    }
   ],
   "source": [
    "#check columns and datatypes\n",
    "print(\"Column's Datatypes:\\n\\n\",df3.dtypes)"
   ]
  },
  {
   "cell_type": "code",
   "execution_count": 7,
   "metadata": {},
   "outputs": [],
   "source": [
    "#some column cleanups\n",
    "\n",
    "#change \" Accident_Index\" to \"Accident_Index\"\n",
    "df3 = df3.rename(columns={' Accident_Index':'Accident_Index'})\n",
    "\n",
    "#delete \"Year_y\" and change \"Year_x\" to \"Year\" (duplicates)\n",
    "df3 = df3.drop(['Year_y'], axis=1)\n",
    "\n",
    "df3 = df3.rename(columns={'Year_x':'Year'})"
   ]
  },
  {
   "cell_type": "code",
   "execution_count": 8,
   "metadata": {},
   "outputs": [
    {
     "name": "stdout",
     "output_type": "stream",
     "text": [
      "0.9993670195112463\n",
      "0.9999728865576533\n"
     ]
    }
   ],
   "source": [
    "#check corr b/t Location_Easting_OSGR & Location_Northing_OSGR AND Longitude and Latitude\n",
    "\n",
    "print(df3['Location_Easting_OSGR'].corr(df3['Longitude']))\n",
    "\n",
    "\n",
    "print(df3['Location_Northing_OSGR'].corr(df3['Latitude']))"
   ]
  },
  {
   "cell_type": "code",
   "execution_count": 9,
   "metadata": {},
   "outputs": [],
   "source": [
    "#drop Location_Easting_OSGR & Location_Northing_OSGR\n",
    "#because they are the similar to Latitude and Longitude \n",
    "\n",
    "df3 = df3.drop(['Location_Easting_OSGR', 'Location_Northing_OSGR'], axis=1)"
   ]
  },
  {
   "cell_type": "code",
   "execution_count": 10,
   "metadata": {},
   "outputs": [],
   "source": [
    "#UNCOMMENT THIS COLUMN AND THE NEXT AFTER SOME ANALYSIS MAYBE\n",
    "# #check % of null values\n",
    "# df3.isnull().sum().sort_values(ascending=False)/df3.shape[0]*100"
   ]
  },
  {
   "cell_type": "code",
   "execution_count": 11,
   "metadata": {},
   "outputs": [],
   "source": [
    "#standardize all column names to lowercase, and remove some characters \n",
    "#for ease of use in querying\n",
    "df3.columns = map(str.lower, df3.columns)\n",
    "df3.columns = df3.columns.str.replace('.','')\n",
    "df3.columns = df3.columns.str.replace('(','')\n",
    "df3.columns = df3.columns.str.replace(')','')"
   ]
  },
  {
   "cell_type": "code",
   "execution_count": 12,
   "metadata": {},
   "outputs": [],
   "source": [
    "#import UK holidays\n",
    "year = range(2005,2018)\n",
    "uk_holidays = holidays.UnitedKingdom(years=year)"
   ]
  },
  {
   "cell_type": "code",
   "execution_count": 13,
   "metadata": {},
   "outputs": [],
   "source": [
    "#create UK holiday dataframes\n",
    "ukh  = pd.DataFrame(list(uk_holidays.items()))"
   ]
  },
  {
   "cell_type": "code",
   "execution_count": 14,
   "metadata": {},
   "outputs": [],
   "source": [
    "#rename columns\n",
    "ukh = ukh.rename(columns={0:\"date\", 1:\"holiday\"})"
   ]
  },
  {
   "cell_type": "code",
   "execution_count": 15,
   "metadata": {},
   "outputs": [],
   "source": [
    "#combine holiday with traffic dataframe\n",
    "df = pd.concat([df3,ukh])"
   ]
  },
  {
   "cell_type": "code",
   "execution_count": 17,
   "metadata": {},
   "outputs": [],
   "source": [
    "df_num=df.select_dtypes(exclude=['object'])\n",
    "\n",
    "df_Zscore=df_num[(np.abs(stats.zscore(df_num))<3).all(axis=1)]"
   ]
  },
  {
   "cell_type": "code",
   "execution_count": null,
   "metadata": {},
   "outputs": [],
   "source": []
  },
  {
   "cell_type": "code",
   "execution_count": null,
   "metadata": {},
   "outputs": [],
   "source": [
    "#Check Missing Data\n",
    "df.isnull().sum().sort_values(ascending=False)/df.shape[0]*100"
   ]
  },
  {
   "cell_type": "code",
   "execution_count": null,
   "metadata": {},
   "outputs": [],
   "source": [
    "#adding holidays created a lot of missing values that needed to be deleted or fixed\n",
    "\n",
    "#filled null holiday spots with \"Non-Holiday\"\n",
    "df['holiday'].fillna(\"Non-Holiday\", inplace=True)\n",
    "\n",
    "#dropped null 'accident_index' rows that came about after adding holidays to the dataframe\n",
    "df = df.dropna(subset=['accident_index'])"
   ]
  },
  {
   "cell_type": "code",
   "execution_count": null,
   "metadata": {},
   "outputs": [],
   "source": [
    "#check values of vehicle age before handling nulls\n",
    "\n",
    "print(\"Vehicle Age Values\")\n",
    "print(\"Average Vehicle Age: \", df['age_of_vehicle'].mean())\n",
    "print(\"Minimum Vehicle Age: \", df['age_of_vehicle'].min())\n",
    "print(\"Median of Vehicle Age\", df['age_of_vehicle'].median())\n",
    "print(\"Maximum Vehicle Age: \", df['age_of_vehicle'].max())\n",
    "print(\"Null values: \", pd.isnull(df['age_of_vehicle']).sum())"
   ]
  },
  {
   "cell_type": "code",
   "execution_count": null,
   "metadata": {},
   "outputs": [],
   "source": [
    "#A car being 111 years old IS possible so I'll leave it\n",
    "#Next I'm going to replace the null values of the vehicle ages with the mean & mediam of 7\n",
    "\n",
    "#age_of_vehicle\n",
    "df['age_of_vehicle'].fillna(df['age_of_vehicle'].mean(),inplace=True)\n"
   ]
  },
  {
   "cell_type": "code",
   "execution_count": 19,
   "metadata": {},
   "outputs": [
    {
     "data": {
      "text/plain": [
       "Petrol                 63.474802\n",
       "Heavy oil              35.928093\n",
       "Hybrid electric         0.445352\n",
       "Gas/Bi-fuel             0.077043\n",
       "Petrol/Gas (LPG)        0.030263\n",
       "Electric                0.028855\n",
       "Gas                     0.007578\n",
       "Electric diesel         0.006946\n",
       "New fuel technology     0.000534\n",
       "Gas Diesel              0.000340\n",
       "Steam                   0.000146\n",
       "Fuel cells              0.000049\n",
       "Name: propulsion_code, dtype: float64"
      ]
     },
     "execution_count": 19,
     "metadata": {},
     "output_type": "execute_result"
    }
   ],
   "source": [
    "df['propulsion_code'].value_counts()/df.shape[0]*100"
   ]
  },
  {
   "cell_type": "code",
   "execution_count": 18,
   "metadata": {},
   "outputs": [],
   "source": [
    "#decided to fill the na for propulsion code with petrol. (The majority of cars are petrol/gas)\n",
    "df['propulsion_code'].fillna('Petrol', inplace=True)"
   ]
  },
  {
   "cell_type": "code",
   "execution_count": null,
   "metadata": {},
   "outputs": [],
   "source": [
    "#Change Gas to Petrol\n",
    "df['propulsion_code'] = df['propulsion_code'].replace(to_replace=\"Gas\", value=\"Petrol\")\n",
    "df['propulsion_code'] = df['propulsion_code'].replace(to_replace=\"Gas/Bi-fuel\", value=\"Bio-fuel\")\n",
    "df['propulsion_code'] = df['propulsion_code'].replace(to_replace=\"Petrol/Gas (LPG)\", value=\"LPG Petrol\")\n",
    "df['propulsion_code'] = df['propulsion_code'].replace(to_replace=\"Gas Diesel\", value=\"Diesel\")"
   ]
  },
  {
   "cell_type": "code",
   "execution_count": null,
   "metadata": {},
   "outputs": [],
   "source": [
    "df['propulsion_code'].value_counts()/df.shape[0]*100"
   ]
  },
  {
   "cell_type": "code",
   "execution_count": 20,
   "metadata": {},
   "outputs": [
    {
     "data": {
      "text/plain": [
       "holiday                                        99.990770\n",
       "2nd_road_class                                 40.227718\n",
       "driver_imd_decile                              33.492697\n",
       "age_of_vehicle                                 16.426325\n",
       "model                                          14.551020\n",
       "engine_capacity_cc                             12.168816\n",
       "lsoa_of_accident_location                       6.771453\n",
       "make                                            5.393719\n",
       "2nd_road_number                                 0.928642\n",
       "pedestrian_crossing-physical_facilities         0.075780\n",
       "vehicle_locationrestricted_lane                 0.063830\n",
       "pedestrian_crossing-human_control               0.040999\n",
       "time                                            0.016322\n",
       "longitude                                       0.015302\n",
       "latitude                                        0.015253\n",
       "did_police_officer_attend_scene_of_accident     0.014767\n",
       "speed_limit                                     0.012387\n",
       "inscotland                                      0.011367\n",
       "1st_road_number                                 0.009278\n",
       "journey_purpose_of_driver                       0.009230\n",
       "junction_control                                0.009230\n",
       "junction_detail                                 0.009230\n",
       "driver_home_area_type                           0.009230\n",
       "hit_object_off_carriageway                      0.009230\n",
       "hit_object_in_carriageway                       0.009230\n",
       "day_of_week                                     0.009230\n",
       "carriageway_hazards                             0.009230\n",
       "age_band_of_driver                              0.009230\n",
       "accident_severity                               0.009230\n",
       "accident_index                                  0.009230\n",
       "junction_location                               0.009230\n",
       "year                                            0.009230\n",
       "light_conditions                                0.009230\n",
       "local_authority_district                        0.009230\n",
       "weather_conditions                              0.009230\n",
       "was_vehicle_left_hand_drive                     0.009230\n",
       "vehicle_type                                    0.009230\n",
       "vehicle_reference                               0.009230\n",
       "vehicle_manoeuvre                               0.009230\n",
       "vehicle_leaving_carriageway                     0.009230\n",
       "urban_or_rural_area                             0.009230\n",
       "towing_and_articulation                         0.009230\n",
       "special_conditions_at_site                      0.009230\n",
       "skidding_and_overturning                        0.009230\n",
       "sex_of_driver                                   0.009230\n",
       "road_type                                       0.009230\n",
       "road_surface_conditions                         0.009230\n",
       "police_force                                    0.009230\n",
       "number_of_vehicles                              0.009230\n",
       "number_of_casualties                            0.009230\n",
       "x1st_point_of_impact                            0.009230\n",
       "local_authority_highway                         0.009230\n",
       "1st_road_class                                  0.009230\n",
       "date                                            0.000000\n",
       "propulsion_code                                 0.000000\n",
       "dtype: float64"
      ]
     },
     "execution_count": 20,
     "metadata": {},
     "output_type": "execute_result"
    }
   ],
   "source": [
    "#Check Missing Data\n",
    "df.isnull().sum().sort_values(ascending=False)/df.shape[0]*100"
   ]
  },
  {
   "cell_type": "code",
   "execution_count": 21,
   "metadata": {},
   "outputs": [
    {
     "data": {
      "text/plain": [
       "Unclassified    40.097824\n",
       "A               10.119849\n",
       "C                4.674103\n",
       "B                3.999712\n",
       "Motorway         0.796270\n",
       "A(M)             0.084524\n",
       "Name: 2nd_road_class, dtype: float64"
      ]
     },
     "execution_count": 21,
     "metadata": {},
     "output_type": "execute_result"
    }
   ],
   "source": [
    "df['2nd_road_class'].value_counts()/df.shape[0]*100"
   ]
  },
  {
   "cell_type": "code",
   "execution_count": null,
   "metadata": {},
   "outputs": [],
   "source": [
    "#the majority of 2nd road class is either unclassified (40.1%) or null (40.2%)\n",
    "#dropping column\n",
    "\n",
    "df = df.drop(['2nd_road_class'], axis=1)"
   ]
  },
  {
   "cell_type": "code",
   "execution_count": null,
   "metadata": {},
   "outputs": [],
   "source": [
    "df['driver_imd_decile'].value_counts()/df.shape[0]*100"
   ]
  },
  {
   "cell_type": "code",
   "execution_count": null,
   "metadata": {},
   "outputs": [],
   "source": [
    "print(\"Median\", df['driver_imd_decile'].median())\n",
    "print(\"Mean\",df['driver_imd_decile'].mean())"
   ]
  },
  {
   "cell_type": "code",
   "execution_count": null,
   "metadata": {},
   "outputs": [],
   "source": [
    "#both are around 5 so I'm going to fill the null values of driver_imd_decile with 5 \n",
    "#and I'll do it through the median.\n",
    "df['driver_imd_decile'].fillna(df['driver_imd_decile'].median(),inplace=True)"
   ]
  },
  {
   "cell_type": "code",
   "execution_count": null,
   "metadata": {},
   "outputs": [],
   "source": [
    "df['driver_imd_decile'].value_counts()/df.shape[0]*100"
   ]
  },
  {
   "cell_type": "code",
   "execution_count": null,
   "metadata": {},
   "outputs": [],
   "source": [
    "print(\"Median\", df['driver_imd_decile'].median())\n",
    "print(\"Mean\",df['driver_imd_decile'].mean())\n",
    "\n",
    "#not much change in mean and media after change"
   ]
  },
  {
   "cell_type": "code",
   "execution_count": null,
   "metadata": {},
   "outputs": [],
   "source": [
    "df['model'].value_counts()/df.shape[0]*100"
   ]
  },
  {
   "cell_type": "code",
   "execution_count": null,
   "metadata": {},
   "outputs": [],
   "source": [
    "#decided to fill the na for model with \"model unknown\"\n",
    "df['model'].fillna(\"Model Unknown\", inplace=True)"
   ]
  },
  {
   "cell_type": "code",
   "execution_count": null,
   "metadata": {},
   "outputs": [],
   "source": [
    "df['model'].value_counts()/df.shape[0]*100"
   ]
  },
  {
   "cell_type": "code",
   "execution_count": null,
   "metadata": {},
   "outputs": [],
   "source": [
    "df['make'].value_counts()/df.shape[0]*100"
   ]
  },
  {
   "cell_type": "code",
   "execution_count": 22,
   "metadata": {},
   "outputs": [
    {
     "name": "stdout",
     "output_type": "stream",
     "text": [
      "engine_capacity_cc Values\n",
      "Average engine_capacity_cc:  2028.2906977580221\n",
      "Minimum engine_capacity_cc:  1.0\n",
      "Median of engine_capacity_cc 1598.0\n",
      "Maximum engine_capacity_cc:  96000.0\n",
      "Null values of engine_capacity_cc:  250507\n"
     ]
    }
   ],
   "source": [
    "#check values of vehicle age before handling nulls\n",
    "\n",
    "print(\"engine_capacity_cc Values\")\n",
    "print(\"Average engine_capacity_cc: \", df['engine_capacity_cc'].mean())\n",
    "print(\"Minimum engine_capacity_cc: \", df['engine_capacity_cc'].min())\n",
    "print(\"Median of engine_capacity_cc\", df['engine_capacity_cc'].median())\n",
    "print(\"Maximum engine_capacity_cc: \", df['engine_capacity_cc'].max())\n",
    "print(\"Null values of engine_capacity_cc: \", pd.isnull(df['engine_capacity_cc']).sum())"
   ]
  },
  {
   "cell_type": "code",
   "execution_count": null,
   "metadata": {},
   "outputs": [],
   "source": []
  },
  {
   "cell_type": "code",
   "execution_count": null,
   "metadata": {},
   "outputs": [],
   "source": []
  },
  {
   "cell_type": "code",
   "execution_count": null,
   "metadata": {},
   "outputs": [],
   "source": [
    "#Check % Missing Data again\n",
    "df.isnull().sum().sort_values(ascending=False)/df.shape[0]*100"
   ]
  },
  {
   "cell_type": "code",
   "execution_count": null,
   "metadata": {},
   "outputs": [],
   "source": []
  },
  {
   "cell_type": "code",
   "execution_count": null,
   "metadata": {},
   "outputs": [],
   "source": [
    "#pickling here bc of errors\n",
    "df.to_pickle('./df.pkl')\n"
   ]
  },
  {
   "cell_type": "code",
   "execution_count": null,
   "metadata": {},
   "outputs": [],
   "source": []
  },
  {
   "cell_type": "code",
   "execution_count": null,
   "metadata": {},
   "outputs": [],
   "source": []
  },
  {
   "cell_type": "code",
   "execution_count": null,
   "metadata": {},
   "outputs": [],
   "source": []
  }
 ],
 "metadata": {
  "kernelspec": {
   "display_name": "Python 3",
   "language": "python",
   "name": "python3"
  },
  "language_info": {
   "codemirror_mode": {
    "name": "ipython",
    "version": 3
   },
   "file_extension": ".py",
   "mimetype": "text/x-python",
   "name": "python",
   "nbconvert_exporter": "python",
   "pygments_lexer": "ipython3",
   "version": "3.7.4"
  }
 },
 "nbformat": 4,
 "nbformat_minor": 2
}
