{
 "cells": [
  {
   "cell_type": "markdown",
   "metadata": {},
   "source": [
    " ## UK Road Safety: Traffic Accidents and Vehicles\n",
    " #### (Introduction, Data Cleaning, and Feature Manipulation)\n",
    " \n",
    " The goal of this project is the investigate what causes Serious and Fatal accidents in hopes of preventing and decreasing the number of them. The dataset consists of accident records from the UK over the course of 15+ years. I hope to show the causes of these accidents through visualizations and create an algorithm that can predict the severity of accidents. \n",
    " \n",
    "The UK government collects and publishes (usually on an annual basis) detailed information about traffic accidents across the country. This information includes, but is not limited to, geographical locations, weather conditions, type of vehicles, number of casualties and vehicle manoeuvres, making this a very interesting and comprehensive dataset for analysis and research.\n",
    "\n",
    "The data that I'm using is compiled and available through [Kaggle](https://www.kaggle.com/tsiaras/uk-road-safety-accidents-and-vehicles) and in a less compliled form, [here](https://beta.ukdataservice.ac.uk/datacatalogue/series/series?id=2000045). "
   ]
  },
  {
   "cell_type": "markdown",
   "metadata": {},
   "source": [
    "Genesis L. Taylor<br>\n",
    "[Github](https://github.com/GenTaylor/) | [Linkedin](https://linkedin.com/in/genesistaylor/) | [Tableau](https://public.tableau.com/profile/genesis.taylor#!/) | [genesisltaylor@gmail.com](mailto:genesisltaylor@gmail.com)\n"
   ]
  },
  {
   "cell_type": "markdown",
   "metadata": {},
   "source": [
    "Problem: Traffic Accidents<br>\n",
    "Solution Method: Use data to figure out how to lower the number of accidents and the severity of them."
   ]
  },
  {
   "cell_type": "markdown",
   "metadata": {},
   "source": [
    "### Table of Contents\n",
    "[Importing and Data Merging](#Importing-and-Data-Merging)<br>\n",
    "[Data Cleaning](#Data-Cleaning)<br>\n",
    "[Nulls and Outliers](#Nulls-and-Outliers)<br>\n",
    "[Feature Manipulation Creation and Engineering](#Feature-Manipulation-Creation-and-Engineering)<br>"
   ]
  },
  {
   "cell_type": "markdown",
   "metadata": {},
   "source": [
    "### Links to Other Notebooks\n",
    "__[UK Road Safety: Traffic Accidents and Vehicles Introduction, Data Cleaning, and Feature Manipulation](UK_Road_Safety_Traffic_Accidents_and_Vehicles_Data_Cleaning_and_Feature_Manipulation.ipynb)__<br>\n",
    "__[UK Road Safety: Traffic Accidents and Vehicles Introduction, Data Cleaning, and Feature Manipulation: Github Link](https://github.com/GenTaylor/Traffic-Accident-Analysis/blob/master/UK_Road_Safety_Traffic_Accidents_and_Vehicles_Data_Cleaning_and_Feature_Manipulation.ipynb)__<br>\n",
    "<br>\n",
    "\n",
    "__[UK Road Safety: Traffic Accidents and Vehicles Visualizations and Solution](UK_Road_Safety_Traffic_Accidents_and_Vehicles_Visualizations_and_Solution.ipynb)__<br>\n",
    "__[UK Road Safety: Traffic Accidents and Vehicles Visualizations and Solution: Github Link](https://github.com/GenTaylor/Traffic-Accident-Analysis/blob/master/UK_Road_Safety_Traffic_Accidents_and_Vehicles_Visualizations_and_Solution.ipynb)__<br>\n",
    "<br>\n",
    "__[UK Road Safety: Traffic Accidents and Vehicles Machine Learning](UK_Road_Safety_Traffic_Accidents_and_Vehicles_Machine_Learning.ipynb)__<br>\n",
    "__[UK Road Safety: Traffic Accidents and Vehicles Machine Learning: Github Link](https://github.com/GenTaylor/Traffic-Accident-Analysis/blob/master/UK_Road_Safety_Traffic_Accidents_and_Vehicles_Machine_Learning.ipynb)__<br>\n",
    "<br>\n",
    "__[Traffic Analysis and Severity Prediction Powerpoint Presentation](\"Traffic_Analysis_and_Severity_Prediction.pptx\")__<br>\n",
    "__[Traffic Analysis and Severity Prediction Powerpoint Presentation: Github Link](https://github.com/GenTaylor/Traffic-Accident-Analysis/blob/master/Traffic_Analysis_and_Severity_Prediction.pptx)__<br>"
   ]
  },
  {
   "cell_type": "markdown",
   "metadata": {},
   "source": [
    "### Importing and Data Merging"
   ]
  },
  {
   "cell_type": "code",
   "execution_count": 2,
   "metadata": {},
   "outputs": [],
   "source": [
    "#Import modules\n",
    "import numpy as np\n",
    "import holidays\n",
    "import pandas as pd\n",
    "import seaborn as sns\n",
    "import pickle\n",
    "import time\n",
    "import timeit\n",
    "\n",
    "\n",
    "import matplotlib.pyplot as plt\n",
    "plt.style.use('dark_background')\n",
    "%matplotlib inline\n",
    "\n",
    "import datetime\n",
    "import math\n",
    "from collections import Counter\n",
    "\n",
    "#scipy\n",
    "import scipy.stats as stats\n",
    "from scipy import stats\n",
    "from scipy.stats import chi2_contingency\n",
    "\n",
    "#sklearn\n",
    "import sklearn\n",
    "from sklearn import ensemble\n",
    "from sklearn import preprocessing\n",
    "from sklearn.decomposition import PCA\n",
    "from sklearn.ensemble import AdaBoostClassifier, BaggingClassifier, ExtraTreesClassifier\n",
    "from sklearn.ensemble import RandomForestClassifier\n",
    "from sklearn.feature_selection import SelectFromModel\n",
    "from sklearn.impute import SimpleImputer\n",
    "from sklearn.linear_model import LogisticRegression\n",
    "from sklearn.metrics import accuracy_score, f1_score, precision_score, recall_score \n",
    "from sklearn.metrics import classification_report, confusion_matrix, roc_auc_score\n",
    "from sklearn.model_selection import cross_val_score, GridSearchCV, train_test_split\n",
    "from sklearn.preprocessing import LabelEncoder, OneHotEncoder, StandardScaler, OrdinalEncoder\n",
    "from sklearn.svm import SVC\n",
    "from sklearn.tree import DecisionTreeClassifier\n",
    "from sklearn.utils import resample\n",
    "\n",
    "#for clustering\n",
    "from sklearn.cluster import KMeans\n",
    "from sklearn.preprocessing import normalize\n",
    "from sklearn.decomposition import PCA\n",
    "from sklearn.cluster import MiniBatchKMeans\n",
    "from sklearn.metrics import silhouette_score\n",
    "\n",
    "#other learners\n",
    "from xgboost import XGBClassifier\n",
    "import lightgbm as lgb\n",
    "from kmodes.kmodes import KModes\n",
    "\n",
    "#imblearn\n",
    "from imblearn.ensemble import BalancedBaggingClassifier\n",
    "from imblearn.ensemble import EasyEnsembleClassifier\n",
    "from imblearn.ensemble import BalancedRandomForestClassifier\n",
    "\n",
    "#webscraping\n",
    "import requests\n",
    "from bs4 import BeautifulSoup\n",
    "import re\n",
    "import urllib\n",
    "from IPython.core.display import HTML\n",
    "\n",
    "#time series\n",
    "import statsmodels.api as sm\n",
    "from pylab import rcParams\n",
    "import itertools\n",
    "from statsmodels.tsa.stattools import adfuller\n",
    "from statsmodels.tsa.stattools import acf, pacf\n",
    "from statsmodels.tsa.seasonal import seasonal_decompose\n",
    "from statsmodels.tsa.arima_model import ARIMA\n",
    "\n",
    "\n",
    "#warning ignorer\n",
    "import warnings\n",
    "warnings.filterwarnings(\"ignore\")"
   ]
  },
  {
   "cell_type": "code",
   "execution_count": 2,
   "metadata": {},
   "outputs": [],
   "source": [
    "# #DATAFRAME PICKLE (with cleaning etc.)CREATED IN CELLS BELOW INSTEAD OF RUNNING THROUGH ENTIRE PROCESS AFTER RESTARTING\n",
    "# #import pickled file\n",
    "# df = pd.read_pickle(\"df.pkl\")"
   ]
  },
  {
   "cell_type": "code",
   "execution_count": 2,
   "metadata": {},
   "outputs": [],
   "source": [
    "#import files\n",
    "\n",
    "ac = pd.read_csv(r'Accident_Information.csv', low_memory=False, chunksize=30000)\n",
    "vc = pd.read_csv(r'Vehicle_Information.csv', low_memory=False, chunksize=30000)"
   ]
  },
  {
   "cell_type": "markdown",
   "metadata": {},
   "source": [
    "Previously, I did not remove \"Data missing or out of range\" from the datasets however through cleaning and checking the value counts I decided to do so for sanity purposes only. Most of the percentages that had this as a value were not a high percentage either. "
   ]
  },
  {
   "cell_type": "code",
   "execution_count": 3,
   "metadata": {},
   "outputs": [],
   "source": [
    "#chunk cleaning and dataframing for accident column\n",
    "acchunk = []\n",
    "for chunk in ac:\n",
    "    acchunk_filter = chunk[\n",
    "        (chunk.Year.astype(int) >= 2010) &\n",
    "        (chunk.Year.astype(int) <= 2017) &\n",
    "        (chunk['Road_Type'] != \"Unknown\") &\n",
    "        (chunk['Junction_Control'] != \"Data missing or out of range\") &\n",
    "        (chunk['Carriageway_Hazards'] != \"Data missing or out of range\") &\n",
    "        (chunk['Junction_Detail'] != \"Data missing or out of range\") &\n",
    "        (chunk['Road_Surface_Conditions'] != \"Data missing or out of range\") &\n",
    "        (chunk['Special_Conditions_at_Site'] != \"Data missing or out of range\") &\n",
    "        (chunk['Weather_Conditions'] != \"Data missing or out of range\") &\n",
    "        (chunk['Latitude'].notnull()) &\n",
    "        (chunk['Longitude'].notnull())\n",
    "    ]\n",
    "    acchunk.append(acchunk_filter)\n",
    "df1 = pd.concat(acchunk)\n"
   ]
  },
  {
   "cell_type": "code",
   "execution_count": 4,
   "metadata": {},
   "outputs": [],
   "source": [
    "#chunk cleaning for vehicles column\n",
    "vcchunk = []\n",
    "for chunk2 in vc:\n",
    "    vcchunk_filter = chunk2[\n",
    "        (chunk2.Year.astype(int) >= 2010)&\n",
    "        (chunk2.Year.astype(int) <= 2017) &\n",
    "        (chunk2['Driver_Home_Area_Type'] != \"Data missing or out of range\") &\n",
    "        (chunk2['Journey_Purpose_of_Driver'] != \"Data missing or out of range\") &\n",
    "        (chunk2['Junction_Location'] != \"Data missing or out of range\") &\n",
    "        (chunk2['Was_Vehicle_Left_Hand_Drive'] != \"Data missing or out of range\") &\n",
    "        (chunk2['Hit_Object_in_Carriageway'] != \"Data missing or out of range\") &\n",
    "        (chunk2['Skidding_and_Overturning'] != \"Data missing or out of range\") &\n",
    "        (chunk2['Towing_and_Articulation'] != \"Data missing or out of range\") &\n",
    "        (chunk2['Vehicle_Leaving_Carriageway'] != \"Data missing or out of range\") &\n",
    "        (chunk2['Vehicle_Manoeuvre'] != \"Data missing or out of range\") &\n",
    "        (chunk2['Vehicle_Type'] != \"Data missing or out of range\") &\n",
    "        (chunk2['X1st_Point_of_Impact'] != \"Data missing or out of range\") &\n",
    "        (chunk2['Sex_of_Driver'] != \"Data missing or out of range\") &\n",
    "        (chunk2['Age_Band_of_Driver'] != \"Data missing or out of range\")\n",
    "        \n",
    "    ]\n",
    "    vcchunk.append(vcchunk_filter)\n",
    "df2 = pd.concat(vcchunk)"
   ]
  },
  {
   "cell_type": "code",
   "execution_count": 5,
   "metadata": {},
   "outputs": [
    {
     "name": "stdout",
     "output_type": "stream",
     "text": [
      "Accident's Columns:\n",
      " Index(['Accident_Index', '1st_Road_Class', '1st_Road_Number', '2nd_Road_Class',\n",
      "       '2nd_Road_Number', 'Accident_Severity', 'Carriageway_Hazards', 'Date',\n",
      "       'Day_of_Week', 'Did_Police_Officer_Attend_Scene_of_Accident',\n",
      "       'Junction_Control', 'Junction_Detail', 'Latitude', 'Light_Conditions',\n",
      "       'Local_Authority_(District)', 'Local_Authority_(Highway)',\n",
      "       'Location_Easting_OSGR', 'Location_Northing_OSGR', 'Longitude',\n",
      "       'LSOA_of_Accident_Location', 'Number_of_Casualties',\n",
      "       'Number_of_Vehicles', 'Pedestrian_Crossing-Human_Control',\n",
      "       'Pedestrian_Crossing-Physical_Facilities', 'Police_Force',\n",
      "       'Road_Surface_Conditions', 'Road_Type', 'Special_Conditions_at_Site',\n",
      "       'Speed_limit', 'Time', 'Urban_or_Rural_Area', 'Weather_Conditions',\n",
      "       'Year', 'InScotland'],\n",
      "      dtype='object') \n",
      "\n",
      "Vehicle's Columns:\n",
      " Index(['Accident_Index', 'Age_Band_of_Driver', 'Age_of_Vehicle',\n",
      "       'Driver_Home_Area_Type', 'Driver_IMD_Decile', 'Engine_Capacity_.CC.',\n",
      "       'Hit_Object_in_Carriageway', 'Hit_Object_off_Carriageway',\n",
      "       'Journey_Purpose_of_Driver', 'Junction_Location', 'make', 'model',\n",
      "       'Propulsion_Code', 'Sex_of_Driver', 'Skidding_and_Overturning',\n",
      "       'Towing_and_Articulation', 'Vehicle_Leaving_Carriageway',\n",
      "       'Vehicle_Location.Restricted_Lane', 'Vehicle_Manoeuvre',\n",
      "       'Vehicle_Reference', 'Vehicle_Type', 'Was_Vehicle_Left_Hand_Drive',\n",
      "       'X1st_Point_of_Impact', 'Year'],\n",
      "      dtype='object')\n"
     ]
    }
   ],
   "source": [
    "#check columns\n",
    "print(\"Accident's Columns:\\n\",df1.columns, \"\\n\")\n",
    "\n",
    "print(\"Vehicle's Columns:\\n\",df2.columns)"
   ]
  },
  {
   "cell_type": "code",
   "execution_count": 6,
   "metadata": {},
   "outputs": [
    {
     "name": "stdout",
     "output_type": "stream",
     "text": [
      "Accident Shape (691195, 34)\n",
      "Vehicle Shape (1167198, 24)\n"
     ]
    }
   ],
   "source": [
    "print('Accident Shape', df1.shape)\n",
    "print('Vehicle Shape',df2.shape)"
   ]
  },
  {
   "cell_type": "code",
   "execution_count": 7,
   "metadata": {},
   "outputs": [],
   "source": [
    "#merge dataframes\n",
    "df = pd.merge(df1,df2)"
   ]
  },
  {
   "cell_type": "code",
   "execution_count": 8,
   "metadata": {},
   "outputs": [
    {
     "name": "stdout",
     "output_type": "stream",
     "text": [
      "Names of Combined Columns:\n",
      " Index(['Accident_Index', '1st_Road_Class', '1st_Road_Number', '2nd_Road_Class',\n",
      "       '2nd_Road_Number', 'Accident_Severity', 'Carriageway_Hazards', 'Date',\n",
      "       'Day_of_Week', 'Did_Police_Officer_Attend_Scene_of_Accident',\n",
      "       'Junction_Control', 'Junction_Detail', 'Latitude', 'Light_Conditions',\n",
      "       'Local_Authority_(District)', 'Local_Authority_(Highway)',\n",
      "       'Location_Easting_OSGR', 'Location_Northing_OSGR', 'Longitude',\n",
      "       'LSOA_of_Accident_Location', 'Number_of_Casualties',\n",
      "       'Number_of_Vehicles', 'Pedestrian_Crossing-Human_Control',\n",
      "       'Pedestrian_Crossing-Physical_Facilities', 'Police_Force',\n",
      "       'Road_Surface_Conditions', 'Road_Type', 'Special_Conditions_at_Site',\n",
      "       'Speed_limit', 'Time', 'Urban_or_Rural_Area', 'Weather_Conditions',\n",
      "       'Year', 'InScotland', 'Age_Band_of_Driver', 'Age_of_Vehicle',\n",
      "       'Driver_Home_Area_Type', 'Driver_IMD_Decile', 'Engine_Capacity_.CC.',\n",
      "       'Hit_Object_in_Carriageway', 'Hit_Object_off_Carriageway',\n",
      "       'Journey_Purpose_of_Driver', 'Junction_Location', 'make', 'model',\n",
      "       'Propulsion_Code', 'Sex_of_Driver', 'Skidding_and_Overturning',\n",
      "       'Towing_and_Articulation', 'Vehicle_Leaving_Carriageway',\n",
      "       'Vehicle_Location.Restricted_Lane', 'Vehicle_Manoeuvre',\n",
      "       'Vehicle_Reference', 'Vehicle_Type', 'Was_Vehicle_Left_Hand_Drive',\n",
      "       'X1st_Point_of_Impact'],\n",
      "      dtype='object') \n",
      "\n",
      "\n",
      "Shape:\n",
      " (720280, 56)\n"
     ]
    }
   ],
   "source": [
    "#check columns\n",
    "print(\"Names of Combined Columns:\\n\",df.columns, \"\\n\")\n",
    "print(\"\\nShape:\\n\",df.shape)"
   ]
  },
  {
   "cell_type": "code",
   "execution_count": 9,
   "metadata": {},
   "outputs": [
    {
     "data": {
      "text/html": [
       "<div>\n",
       "<style scoped>\n",
       "    .dataframe tbody tr th:only-of-type {\n",
       "        vertical-align: middle;\n",
       "    }\n",
       "\n",
       "    .dataframe tbody tr th {\n",
       "        vertical-align: top;\n",
       "    }\n",
       "\n",
       "    .dataframe thead th {\n",
       "        text-align: right;\n",
       "    }\n",
       "</style>\n",
       "<table border=\"1\" class=\"dataframe\">\n",
       "  <thead>\n",
       "    <tr style=\"text-align: right;\">\n",
       "      <th></th>\n",
       "      <th>Accident_Index</th>\n",
       "      <th>1st_Road_Class</th>\n",
       "      <th>1st_Road_Number</th>\n",
       "      <th>2nd_Road_Class</th>\n",
       "      <th>2nd_Road_Number</th>\n",
       "      <th>Accident_Severity</th>\n",
       "      <th>Carriageway_Hazards</th>\n",
       "      <th>Date</th>\n",
       "      <th>Day_of_Week</th>\n",
       "      <th>Did_Police_Officer_Attend_Scene_of_Accident</th>\n",
       "      <th>...</th>\n",
       "      <th>Sex_of_Driver</th>\n",
       "      <th>Skidding_and_Overturning</th>\n",
       "      <th>Towing_and_Articulation</th>\n",
       "      <th>Vehicle_Leaving_Carriageway</th>\n",
       "      <th>Vehicle_Location.Restricted_Lane</th>\n",
       "      <th>Vehicle_Manoeuvre</th>\n",
       "      <th>Vehicle_Reference</th>\n",
       "      <th>Vehicle_Type</th>\n",
       "      <th>Was_Vehicle_Left_Hand_Drive</th>\n",
       "      <th>X1st_Point_of_Impact</th>\n",
       "    </tr>\n",
       "  </thead>\n",
       "  <tbody>\n",
       "    <tr>\n",
       "      <th>count</th>\n",
       "      <td>720280</td>\n",
       "      <td>720280</td>\n",
       "      <td>720280.000000</td>\n",
       "      <td>699431</td>\n",
       "      <td>710979.000000</td>\n",
       "      <td>720280</td>\n",
       "      <td>720280</td>\n",
       "      <td>720280</td>\n",
       "      <td>720280</td>\n",
       "      <td>720279.000000</td>\n",
       "      <td>...</td>\n",
       "      <td>720280</td>\n",
       "      <td>720280</td>\n",
       "      <td>720280</td>\n",
       "      <td>720280</td>\n",
       "      <td>720269.000000</td>\n",
       "      <td>720280</td>\n",
       "      <td>720280.000000</td>\n",
       "      <td>720280</td>\n",
       "      <td>720280</td>\n",
       "      <td>720280</td>\n",
       "    </tr>\n",
       "    <tr>\n",
       "      <th>unique</th>\n",
       "      <td>488010</td>\n",
       "      <td>6</td>\n",
       "      <td>NaN</td>\n",
       "      <td>6</td>\n",
       "      <td>NaN</td>\n",
       "      <td>3</td>\n",
       "      <td>6</td>\n",
       "      <td>2557</td>\n",
       "      <td>7</td>\n",
       "      <td>NaN</td>\n",
       "      <td>...</td>\n",
       "      <td>3</td>\n",
       "      <td>6</td>\n",
       "      <td>6</td>\n",
       "      <td>9</td>\n",
       "      <td>NaN</td>\n",
       "      <td>18</td>\n",
       "      <td>NaN</td>\n",
       "      <td>20</td>\n",
       "      <td>2</td>\n",
       "      <td>5</td>\n",
       "    </tr>\n",
       "    <tr>\n",
       "      <th>top</th>\n",
       "      <td>2016140142191</td>\n",
       "      <td>A</td>\n",
       "      <td>NaN</td>\n",
       "      <td>Unclassified</td>\n",
       "      <td>NaN</td>\n",
       "      <td>Slight</td>\n",
       "      <td>None</td>\n",
       "      <td>2015-05-13</td>\n",
       "      <td>Friday</td>\n",
       "      <td>NaN</td>\n",
       "      <td>...</td>\n",
       "      <td>Male</td>\n",
       "      <td>None</td>\n",
       "      <td>No tow/articulation</td>\n",
       "      <td>Did not leave carriageway</td>\n",
       "      <td>NaN</td>\n",
       "      <td>Going ahead other</td>\n",
       "      <td>NaN</td>\n",
       "      <td>Car</td>\n",
       "      <td>No</td>\n",
       "      <td>Front</td>\n",
       "    </tr>\n",
       "    <tr>\n",
       "      <th>freq</th>\n",
       "      <td>15</td>\n",
       "      <td>365390</td>\n",
       "      <td>NaN</td>\n",
       "      <td>473098</td>\n",
       "      <td>NaN</td>\n",
       "      <td>626656</td>\n",
       "      <td>714068</td>\n",
       "      <td>515</td>\n",
       "      <td>119324</td>\n",
       "      <td>NaN</td>\n",
       "      <td>...</td>\n",
       "      <td>484205</td>\n",
       "      <td>659742</td>\n",
       "      <td>713570</td>\n",
       "      <td>663463</td>\n",
       "      <td>NaN</td>\n",
       "      <td>314008</td>\n",
       "      <td>NaN</td>\n",
       "      <td>534189</td>\n",
       "      <td>719140</td>\n",
       "      <td>354438</td>\n",
       "    </tr>\n",
       "    <tr>\n",
       "      <th>mean</th>\n",
       "      <td>NaN</td>\n",
       "      <td>NaN</td>\n",
       "      <td>1051.470728</td>\n",
       "      <td>NaN</td>\n",
       "      <td>607.761499</td>\n",
       "      <td>NaN</td>\n",
       "      <td>NaN</td>\n",
       "      <td>NaN</td>\n",
       "      <td>NaN</td>\n",
       "      <td>1.147353</td>\n",
       "      <td>...</td>\n",
       "      <td>NaN</td>\n",
       "      <td>NaN</td>\n",
       "      <td>NaN</td>\n",
       "      <td>NaN</td>\n",
       "      <td>0.086026</td>\n",
       "      <td>NaN</td>\n",
       "      <td>1.506420</td>\n",
       "      <td>NaN</td>\n",
       "      <td>NaN</td>\n",
       "      <td>NaN</td>\n",
       "    </tr>\n",
       "    <tr>\n",
       "      <th>std</th>\n",
       "      <td>NaN</td>\n",
       "      <td>NaN</td>\n",
       "      <td>1825.784600</td>\n",
       "      <td>NaN</td>\n",
       "      <td>1593.978070</td>\n",
       "      <td>NaN</td>\n",
       "      <td>NaN</td>\n",
       "      <td>NaN</td>\n",
       "      <td>NaN</td>\n",
       "      <td>0.357791</td>\n",
       "      <td>...</td>\n",
       "      <td>NaN</td>\n",
       "      <td>NaN</td>\n",
       "      <td>NaN</td>\n",
       "      <td>NaN</td>\n",
       "      <td>0.784117</td>\n",
       "      <td>NaN</td>\n",
       "      <td>0.644346</td>\n",
       "      <td>NaN</td>\n",
       "      <td>NaN</td>\n",
       "      <td>NaN</td>\n",
       "    </tr>\n",
       "    <tr>\n",
       "      <th>min</th>\n",
       "      <td>NaN</td>\n",
       "      <td>NaN</td>\n",
       "      <td>0.000000</td>\n",
       "      <td>NaN</td>\n",
       "      <td>0.000000</td>\n",
       "      <td>NaN</td>\n",
       "      <td>NaN</td>\n",
       "      <td>NaN</td>\n",
       "      <td>NaN</td>\n",
       "      <td>1.000000</td>\n",
       "      <td>...</td>\n",
       "      <td>NaN</td>\n",
       "      <td>NaN</td>\n",
       "      <td>NaN</td>\n",
       "      <td>NaN</td>\n",
       "      <td>0.000000</td>\n",
       "      <td>NaN</td>\n",
       "      <td>1.000000</td>\n",
       "      <td>NaN</td>\n",
       "      <td>NaN</td>\n",
       "      <td>NaN</td>\n",
       "    </tr>\n",
       "    <tr>\n",
       "      <th>25%</th>\n",
       "      <td>NaN</td>\n",
       "      <td>NaN</td>\n",
       "      <td>0.000000</td>\n",
       "      <td>NaN</td>\n",
       "      <td>0.000000</td>\n",
       "      <td>NaN</td>\n",
       "      <td>NaN</td>\n",
       "      <td>NaN</td>\n",
       "      <td>NaN</td>\n",
       "      <td>1.000000</td>\n",
       "      <td>...</td>\n",
       "      <td>NaN</td>\n",
       "      <td>NaN</td>\n",
       "      <td>NaN</td>\n",
       "      <td>NaN</td>\n",
       "      <td>0.000000</td>\n",
       "      <td>NaN</td>\n",
       "      <td>1.000000</td>\n",
       "      <td>NaN</td>\n",
       "      <td>NaN</td>\n",
       "      <td>NaN</td>\n",
       "    </tr>\n",
       "    <tr>\n",
       "      <th>50%</th>\n",
       "      <td>NaN</td>\n",
       "      <td>NaN</td>\n",
       "      <td>191.000000</td>\n",
       "      <td>NaN</td>\n",
       "      <td>0.000000</td>\n",
       "      <td>NaN</td>\n",
       "      <td>NaN</td>\n",
       "      <td>NaN</td>\n",
       "      <td>NaN</td>\n",
       "      <td>1.000000</td>\n",
       "      <td>...</td>\n",
       "      <td>NaN</td>\n",
       "      <td>NaN</td>\n",
       "      <td>NaN</td>\n",
       "      <td>NaN</td>\n",
       "      <td>0.000000</td>\n",
       "      <td>NaN</td>\n",
       "      <td>1.000000</td>\n",
       "      <td>NaN</td>\n",
       "      <td>NaN</td>\n",
       "      <td>NaN</td>\n",
       "    </tr>\n",
       "    <tr>\n",
       "      <th>75%</th>\n",
       "      <td>NaN</td>\n",
       "      <td>NaN</td>\n",
       "      <td>900.000000</td>\n",
       "      <td>NaN</td>\n",
       "      <td>173.000000</td>\n",
       "      <td>NaN</td>\n",
       "      <td>NaN</td>\n",
       "      <td>NaN</td>\n",
       "      <td>NaN</td>\n",
       "      <td>1.000000</td>\n",
       "      <td>...</td>\n",
       "      <td>NaN</td>\n",
       "      <td>NaN</td>\n",
       "      <td>NaN</td>\n",
       "      <td>NaN</td>\n",
       "      <td>0.000000</td>\n",
       "      <td>NaN</td>\n",
       "      <td>2.000000</td>\n",
       "      <td>NaN</td>\n",
       "      <td>NaN</td>\n",
       "      <td>NaN</td>\n",
       "    </tr>\n",
       "    <tr>\n",
       "      <th>max</th>\n",
       "      <td>NaN</td>\n",
       "      <td>NaN</td>\n",
       "      <td>9999.000000</td>\n",
       "      <td>NaN</td>\n",
       "      <td>9999.000000</td>\n",
       "      <td>NaN</td>\n",
       "      <td>NaN</td>\n",
       "      <td>NaN</td>\n",
       "      <td>NaN</td>\n",
       "      <td>3.000000</td>\n",
       "      <td>...</td>\n",
       "      <td>NaN</td>\n",
       "      <td>NaN</td>\n",
       "      <td>NaN</td>\n",
       "      <td>NaN</td>\n",
       "      <td>9.000000</td>\n",
       "      <td>NaN</td>\n",
       "      <td>91.000000</td>\n",
       "      <td>NaN</td>\n",
       "      <td>NaN</td>\n",
       "      <td>NaN</td>\n",
       "    </tr>\n",
       "  </tbody>\n",
       "</table>\n",
       "<p>11 rows × 56 columns</p>\n",
       "</div>"
      ],
      "text/plain": [
       "       Accident_Index 1st_Road_Class  1st_Road_Number 2nd_Road_Class  \\\n",
       "count          720280         720280    720280.000000         699431   \n",
       "unique         488010              6              NaN              6   \n",
       "top     2016140142191              A              NaN   Unclassified   \n",
       "freq               15         365390              NaN         473098   \n",
       "mean              NaN            NaN      1051.470728            NaN   \n",
       "std               NaN            NaN      1825.784600            NaN   \n",
       "min               NaN            NaN         0.000000            NaN   \n",
       "25%               NaN            NaN         0.000000            NaN   \n",
       "50%               NaN            NaN       191.000000            NaN   \n",
       "75%               NaN            NaN       900.000000            NaN   \n",
       "max               NaN            NaN      9999.000000            NaN   \n",
       "\n",
       "        2nd_Road_Number Accident_Severity Carriageway_Hazards        Date  \\\n",
       "count     710979.000000            720280              720280      720280   \n",
       "unique              NaN                 3                   6        2557   \n",
       "top                 NaN            Slight                None  2015-05-13   \n",
       "freq                NaN            626656              714068         515   \n",
       "mean         607.761499               NaN                 NaN         NaN   \n",
       "std         1593.978070               NaN                 NaN         NaN   \n",
       "min            0.000000               NaN                 NaN         NaN   \n",
       "25%            0.000000               NaN                 NaN         NaN   \n",
       "50%            0.000000               NaN                 NaN         NaN   \n",
       "75%          173.000000               NaN                 NaN         NaN   \n",
       "max         9999.000000               NaN                 NaN         NaN   \n",
       "\n",
       "       Day_of_Week  Did_Police_Officer_Attend_Scene_of_Accident  ...  \\\n",
       "count       720280                                720279.000000  ...   \n",
       "unique           7                                          NaN  ...   \n",
       "top         Friday                                          NaN  ...   \n",
       "freq        119324                                          NaN  ...   \n",
       "mean           NaN                                     1.147353  ...   \n",
       "std            NaN                                     0.357791  ...   \n",
       "min            NaN                                     1.000000  ...   \n",
       "25%            NaN                                     1.000000  ...   \n",
       "50%            NaN                                     1.000000  ...   \n",
       "75%            NaN                                     1.000000  ...   \n",
       "max            NaN                                     3.000000  ...   \n",
       "\n",
       "       Sex_of_Driver Skidding_and_Overturning  Towing_and_Articulation  \\\n",
       "count         720280                   720280                   720280   \n",
       "unique             3                        6                        6   \n",
       "top             Male                     None      No tow/articulation   \n",
       "freq          484205                   659742                   713570   \n",
       "mean             NaN                      NaN                      NaN   \n",
       "std              NaN                      NaN                      NaN   \n",
       "min              NaN                      NaN                      NaN   \n",
       "25%              NaN                      NaN                      NaN   \n",
       "50%              NaN                      NaN                      NaN   \n",
       "75%              NaN                      NaN                      NaN   \n",
       "max              NaN                      NaN                      NaN   \n",
       "\n",
       "       Vehicle_Leaving_Carriageway Vehicle_Location.Restricted_Lane  \\\n",
       "count                       720280                    720269.000000   \n",
       "unique                           9                              NaN   \n",
       "top      Did not leave carriageway                              NaN   \n",
       "freq                        663463                              NaN   \n",
       "mean                           NaN                         0.086026   \n",
       "std                            NaN                         0.784117   \n",
       "min                            NaN                         0.000000   \n",
       "25%                            NaN                         0.000000   \n",
       "50%                            NaN                         0.000000   \n",
       "75%                            NaN                         0.000000   \n",
       "max                            NaN                         9.000000   \n",
       "\n",
       "        Vehicle_Manoeuvre  Vehicle_Reference  Vehicle_Type  \\\n",
       "count              720280      720280.000000        720280   \n",
       "unique                 18                NaN            20   \n",
       "top     Going ahead other                NaN           Car   \n",
       "freq               314008                NaN        534189   \n",
       "mean                  NaN           1.506420           NaN   \n",
       "std                   NaN           0.644346           NaN   \n",
       "min                   NaN           1.000000           NaN   \n",
       "25%                   NaN           1.000000           NaN   \n",
       "50%                   NaN           1.000000           NaN   \n",
       "75%                   NaN           2.000000           NaN   \n",
       "max                   NaN          91.000000           NaN   \n",
       "\n",
       "        Was_Vehicle_Left_Hand_Drive X1st_Point_of_Impact  \n",
       "count                        720280               720280  \n",
       "unique                            2                    5  \n",
       "top                              No                Front  \n",
       "freq                         719140               354438  \n",
       "mean                            NaN                  NaN  \n",
       "std                             NaN                  NaN  \n",
       "min                             NaN                  NaN  \n",
       "25%                             NaN                  NaN  \n",
       "50%                             NaN                  NaN  \n",
       "75%                             NaN                  NaN  \n",
       "max                             NaN                  NaN  \n",
       "\n",
       "[11 rows x 56 columns]"
      ]
     },
     "execution_count": 9,
     "metadata": {},
     "output_type": "execute_result"
    }
   ],
   "source": [
    "df.describe(include ='all')"
   ]
  },
  {
   "cell_type": "markdown",
   "metadata": {},
   "source": [
    "### Data Cleaning"
   ]
  },
  {
   "cell_type": "code",
   "execution_count": 10,
   "metadata": {},
   "outputs": [
    {
     "name": "stdout",
     "output_type": "stream",
     "text": [
      "0.999425701544617\n",
      "0.9999733124707393\n"
     ]
    }
   ],
   "source": [
    "#check corr b/t Location_Easting_OSGR & Location_Northing_OSGR AND Longitude and Latitude\n",
    "\n",
    "print(df['Location_Easting_OSGR'].corr(df['Longitude']))\n",
    "\n",
    "\n",
    "print(df['Location_Northing_OSGR'].corr(df['Latitude']))"
   ]
  },
  {
   "cell_type": "code",
   "execution_count": 11,
   "metadata": {},
   "outputs": [],
   "source": [
    "#drop Location_Easting_OSGR & Location_Northing_OSGR\n",
    "#because they are the similar to Latitude and Longitude \n",
    "\n",
    "df = df.drop(['Location_Easting_OSGR', 'Location_Northing_OSGR'], axis=1)"
   ]
  },
  {
   "cell_type": "code",
   "execution_count": 12,
   "metadata": {},
   "outputs": [
    {
     "data": {
      "text/plain": [
       "(720280, 54)"
      ]
     },
     "execution_count": 12,
     "metadata": {},
     "output_type": "execute_result"
    }
   ],
   "source": [
    "df.shape"
   ]
  },
  {
   "cell_type": "code",
   "execution_count": 13,
   "metadata": {},
   "outputs": [],
   "source": [
    "#standardize all column names to lowercase, and remove some characters \n",
    "#for ease of use in querying\n",
    "df.columns = map(str.lower, df.columns)\n",
    "df.columns = df.columns.str.replace('.','')\n",
    "df.columns = df.columns.str.replace('(','')\n",
    "df.columns = df.columns.str.replace(')','')"
   ]
  },
  {
   "cell_type": "code",
   "execution_count": 14,
   "metadata": {},
   "outputs": [],
   "source": [
    "#convert date/time to datetime datatype\n",
    "\n",
    "df['date'] = pd.to_datetime((df['date']), format= \"%Y-%m-%d\")\n",
    "\n"
   ]
  },
  {
   "cell_type": "code",
   "execution_count": 15,
   "metadata": {},
   "outputs": [],
   "source": [
    "#df.dtypes"
   ]
  },
  {
   "cell_type": "code",
   "execution_count": 16,
   "metadata": {},
   "outputs": [],
   "source": [
    "#mistyped datatypes\n",
    "\n",
    "df[['did_police_officer_attend_scene_of_accident',\n",
    "    'driver_imd_decile','vehicle_reference',\n",
    "    'vehicle_locationrestricted_lane','1st_road_number',\n",
    "    '2nd_road_number','driver_imd_decile',\n",
    "    'pedestrian_crossing-physical_facilities',\n",
    "   'pedestrian_crossing-human_control']]= df[['did_police_officer_attend_scene_of_accident',\n",
    "    'driver_imd_decile','vehicle_reference',\n",
    "    'vehicle_locationrestricted_lane','1st_road_number',\n",
    "    '2nd_road_number','driver_imd_decile',\n",
    "    'pedestrian_crossing-physical_facilities',\n",
    "   'pedestrian_crossing-human_control']].astype('object')\n",
    "\n"
   ]
  },
  {
   "cell_type": "code",
   "execution_count": 17,
   "metadata": {},
   "outputs": [
    {
     "data": {
      "text/plain": [
       "{dtype('<M8[ns]'): Index(['date'], dtype='object'),\n",
       " dtype('int64'): Index(['number_of_casualties', 'number_of_vehicles', 'year'], dtype='object'),\n",
       " dtype('float64'): Index(['latitude', 'longitude', 'speed_limit', 'age_of_vehicle',\n",
       "        'engine_capacity_cc'],\n",
       "       dtype='object'),\n",
       " dtype('O'): Index(['accident_index', '1st_road_class', '1st_road_number', '2nd_road_class',\n",
       "        '2nd_road_number', 'accident_severity', 'carriageway_hazards',\n",
       "        'day_of_week', 'did_police_officer_attend_scene_of_accident',\n",
       "        'junction_control', 'junction_detail', 'light_conditions',\n",
       "        'local_authority_district', 'local_authority_highway',\n",
       "        'lsoa_of_accident_location', 'pedestrian_crossing-human_control',\n",
       "        'pedestrian_crossing-physical_facilities', 'police_force',\n",
       "        'road_surface_conditions', 'road_type', 'special_conditions_at_site',\n",
       "        'time', 'urban_or_rural_area', 'weather_conditions', 'inscotland',\n",
       "        'age_band_of_driver', 'driver_home_area_type', 'driver_imd_decile',\n",
       "        'hit_object_in_carriageway', 'hit_object_off_carriageway',\n",
       "        'journey_purpose_of_driver', 'junction_location', 'make', 'model',\n",
       "        'propulsion_code', 'sex_of_driver', 'skidding_and_overturning',\n",
       "        'towing_and_articulation', 'vehicle_leaving_carriageway',\n",
       "        'vehicle_locationrestricted_lane', 'vehicle_manoeuvre',\n",
       "        'vehicle_reference', 'vehicle_type', 'was_vehicle_left_hand_drive',\n",
       "        'x1st_point_of_impact'],\n",
       "       dtype='object')}"
      ]
     },
     "execution_count": 17,
     "metadata": {},
     "output_type": "execute_result"
    }
   ],
   "source": [
    "df.columns.to_series().groupby(df.dtypes).groups"
   ]
  },
  {
   "cell_type": "markdown",
   "metadata": {},
   "source": [
    "#### Nulls and Outliers"
   ]
  },
  {
   "cell_type": "code",
   "execution_count": 18,
   "metadata": {},
   "outputs": [
    {
     "data": {
      "text/plain": [
       "driver_imd_decile                              25.118565\n",
       "age_of_vehicle                                 15.287805\n",
       "model                                          11.636447\n",
       "engine_capacity_cc                             11.283251\n",
       "propulsion_code                                10.899928\n",
       "make                                            5.846476\n",
       "lsoa_of_accident_location                       5.674738\n",
       "2nd_road_class                                  2.894569\n",
       "2nd_road_number                                 1.291303\n",
       "pedestrian_crossing-physical_facilities         0.006109\n",
       "pedestrian_crossing-human_control               0.005276\n",
       "time                                            0.004582\n",
       "speed_limit                                     0.001805\n",
       "vehicle_locationrestricted_lane                 0.001527\n",
       "did_police_officer_attend_scene_of_accident     0.000139\n",
       "day_of_week                                     0.000000\n",
       "1st_road_class                                  0.000000\n",
       "number_of_vehicles                              0.000000\n",
       "number_of_casualties                            0.000000\n",
       "1st_road_number                                 0.000000\n",
       "longitude                                       0.000000\n",
       "local_authority_highway                         0.000000\n",
       "local_authority_district                        0.000000\n",
       "light_conditions                                0.000000\n",
       "accident_severity                               0.000000\n",
       "latitude                                        0.000000\n",
       "carriageway_hazards                             0.000000\n",
       "date                                            0.000000\n",
       "junction_detail                                 0.000000\n",
       "police_force                                    0.000000\n",
       "junction_control                                0.000000\n",
       "x1st_point_of_impact                            0.000000\n",
       "road_surface_conditions                         0.000000\n",
       "road_type                                       0.000000\n",
       "vehicle_type                                    0.000000\n",
       "vehicle_reference                               0.000000\n",
       "vehicle_manoeuvre                               0.000000\n",
       "vehicle_leaving_carriageway                     0.000000\n",
       "towing_and_articulation                         0.000000\n",
       "skidding_and_overturning                        0.000000\n",
       "sex_of_driver                                   0.000000\n",
       "junction_location                               0.000000\n",
       "journey_purpose_of_driver                       0.000000\n",
       "hit_object_off_carriageway                      0.000000\n",
       "hit_object_in_carriageway                       0.000000\n",
       "driver_home_area_type                           0.000000\n",
       "age_band_of_driver                              0.000000\n",
       "inscotland                                      0.000000\n",
       "year                                            0.000000\n",
       "weather_conditions                              0.000000\n",
       "urban_or_rural_area                             0.000000\n",
       "was_vehicle_left_hand_drive                     0.000000\n",
       "special_conditions_at_site                      0.000000\n",
       "accident_index                                  0.000000\n",
       "dtype: float64"
      ]
     },
     "execution_count": 18,
     "metadata": {},
     "output_type": "execute_result"
    }
   ],
   "source": [
    "df.isnull().sum().sort_values(ascending=False)/df.shape[0]*100"
   ]
  },
  {
   "cell_type": "markdown",
   "metadata": {},
   "source": [
    "##### 2nd_road_class"
   ]
  },
  {
   "cell_type": "code",
   "execution_count": 19,
   "metadata": {},
   "outputs": [
    {
     "data": {
      "text/plain": [
       "Unclassified    65.682512\n",
       "A               15.892292\n",
       "C                7.591909\n",
       "B                6.494558\n",
       "Motorway         1.301716\n",
       "A(M)             0.142445\n",
       "Name: 2nd_road_class, dtype: float64"
      ]
     },
     "execution_count": 19,
     "metadata": {},
     "output_type": "execute_result"
    }
   ],
   "source": [
    "# #2nd_road_class\n",
    "df['2nd_road_class'].value_counts()/df.shape[0]*100"
   ]
  },
  {
   "cell_type": "markdown",
   "metadata": {},
   "source": [
    "With 40% of non null being unclassified and 39% of the overall 2nd_road_class column being null, I have decided to drop it in it's entirely. "
   ]
  },
  {
   "cell_type": "code",
   "execution_count": 20,
   "metadata": {},
   "outputs": [],
   "source": [
    "df = df.drop(['2nd_road_class'], axis=1)"
   ]
  },
  {
   "cell_type": "markdown",
   "metadata": {},
   "source": [
    "##### driver_imd_decile"
   ]
  },
  {
   "cell_type": "code",
   "execution_count": 21,
   "metadata": {},
   "outputs": [
    {
     "data": {
      "text/plain": [
       "2.0     8.366469\n",
       "3.0     8.281640\n",
       "4.0     7.986339\n",
       "1.0     7.888321\n",
       "5.0     7.717554\n",
       "6.0     7.530683\n",
       "7.0     7.195674\n",
       "8.0     6.948270\n",
       "9.0     6.803049\n",
       "10.0    6.163436\n",
       "Name: driver_imd_decile, dtype: float64"
      ]
     },
     "execution_count": 21,
     "metadata": {},
     "output_type": "execute_result"
    }
   ],
   "source": [
    "#driver_imd_decile\n",
    "df['driver_imd_decile'].value_counts()/df.shape[0]*100"
   ]
  },
  {
   "cell_type": "markdown",
   "metadata": {},
   "source": [
    "Since the distribution of categories for 'driver_imd_decile seem very similar, I've decided not to use the mode but \"method='ffill'\""
   ]
  },
  {
   "cell_type": "code",
   "execution_count": 23,
   "metadata": {},
   "outputs": [],
   "source": [
    "df['driver_imd_decile'].fillna(method='ffill', inplace=True)"
   ]
  },
  {
   "cell_type": "markdown",
   "metadata": {},
   "source": [
    "##### age_of_vehicle"
   ]
  },
  {
   "cell_type": "code",
   "execution_count": 24,
   "metadata": {},
   "outputs": [
    {
     "data": {
      "text/plain": [
       "count    610165.000000\n",
       "mean          7.567473\n",
       "std           4.751567\n",
       "min           1.000000\n",
       "25%           4.000000\n",
       "50%           7.000000\n",
       "75%          11.000000\n",
       "max         105.000000\n",
       "Name: age_of_vehicle, dtype: float64"
      ]
     },
     "execution_count": 24,
     "metadata": {},
     "output_type": "execute_result"
    }
   ],
   "source": [
    "df['age_of_vehicle'].describe()"
   ]
  },
  {
   "cell_type": "code",
   "execution_count": 25,
   "metadata": {},
   "outputs": [
    {
     "data": {
      "text/plain": [
       "7.0"
      ]
     },
     "execution_count": 25,
     "metadata": {},
     "output_type": "execute_result"
    }
   ],
   "source": [
    "df['age_of_vehicle'].median()"
   ]
  },
  {
   "cell_type": "markdown",
   "metadata": {},
   "source": [
    "Changing the nulls of \"age of vehicle\" to median, then creating it as a category"
   ]
  },
  {
   "cell_type": "code",
   "execution_count": 26,
   "metadata": {},
   "outputs": [],
   "source": [
    "#fillna by 7 \n",
    "df['age_of_vehicle'].fillna(7, inplace=True)\n",
    "\n",
    "#group age_of_vehicle\n",
    "#1=0-3, 2=3-5, 3=5-8, 4=8-11, 5=\n",
    "def fixedvehicleage(age):\n",
    "    if age>=0 and age<=120:\n",
    "        return age\n",
    "    else:\n",
    "        return np.nan\n",
    "\n",
    "df['age_of_vehicle'] = df['age_of_vehicle'].apply(fixedvehicleage)\n",
    "\n",
    "\n",
    "df['age_of_vehicle'] = pd.cut(df['age_of_vehicle'], \n",
    "                             [0,2,5,8,11,14,17,120], labels=['1', '2', '3','4','5','6','7'])\n"
   ]
  },
  {
   "cell_type": "markdown",
   "metadata": {},
   "source": [
    "##### Model"
   ]
  },
  {
   "cell_type": "code",
   "execution_count": 27,
   "metadata": {},
   "outputs": [
    {
     "data": {
      "text/plain": [
       "MISSING                          0.743183\n",
       "KA                               0.336675\n",
       "CLIO DYNAMIQUE 16V               0.279058\n",
       "FIESTA ZETEC                     0.247681\n",
       "SPRINTER 313 CDI                 0.236158\n",
       "206 LX                           0.220331\n",
       "PUNTO ACTIVE                     0.212279\n",
       "CLIO EXPRESSION 16V              0.199783\n",
       "YBR 125                          0.194785\n",
       "FIESTA FINESSE                   0.177570\n",
       "MINI COOPER                      0.175904\n",
       "KA COLLECTION                    0.174793\n",
       "CORSA CLUB 12V                   0.160910\n",
       "MICRA S                          0.160493\n",
       "FIESTA ZETEC CLIMATE             0.158827\n",
       "CORSA CLUB 16V                   0.158272\n",
       "PUNTO ACTIVE 8V                  0.141889\n",
       "MINI ONE                         0.141334\n",
       "KA STYLE                         0.140640\n",
       "FIESTA STYLE                     0.140223\n",
       "FIESTA LX                        0.140084\n",
       "FOCUS ZETEC TDCI                 0.139113\n",
       "107 URBAN                        0.137308\n",
       "CORSA SXI                        0.137308\n",
       "FOCUS ZETEC 100                  0.136614\n",
       "ASTRA CLUB 8V                    0.136058\n",
       "SPRINTER 311 CDI LWB             0.133837\n",
       "ZAFIRA EXCLUSIV                  0.132032\n",
       "FOCUS ZETEC                      0.125784\n",
       "206 LOOK                         0.124535\n",
       "                                   ...   \n",
       "325 TDS SE TOURING AUTO          0.000139\n",
       "COMBO 2300 L2H1 CDTI SPORTIVE    0.000139\n",
       "6 KUMANO D                       0.000139\n",
       "V70 T S AUTO                     0.000139\n",
       "THUNDERBIRD LT                   0.000139\n",
       "420D GRAN COUPE SPORT AUTO       0.000139\n",
       "ZR + 120                         0.000139\n",
       "407 ST HDI                       0.000139\n",
       "T-SPORTER T30 180 TDI LWB        0.000139\n",
       "A5 S LINE BLACK EDT TFSI QU      0.000139\n",
       "ZAFIRA SRI CDTI 8V A             0.000139\n",
       "C3 RHYTHM HDI 16V                0.000139\n",
       "C230 K SPORT EDITION             0.000139\n",
       "C50LA-E                          0.000139\n",
       "208 ACTIVE S-A                   0.000139\n",
       "C200 AMG LINE PREMIUM + AUTO     0.000139\n",
       "ORION LX                         0.000139\n",
       "3.5 LITRE                        0.000139\n",
       "CLIO EXPRESSION + 16V QS5        0.000139\n",
       "TRANSPORTER SD SWB               0.000139\n",
       "CORSARO 1200 VELOCE              0.000139\n",
       "CLK 200 KOMP. AVANTGARDE         0.000139\n",
       "BORA S TDI AUTO                  0.000139\n",
       "GTV V6 LUSSO 24V                 0.000139\n",
       "A4 SLINE SPEC ED TDI QUAT        0.000139\n",
       "A5 S LINE SPECIAL ED TFSI C      0.000139\n",
       "306 D                            0.000139\n",
       "ESPACE EXECUTIVE TD              0.000139\n",
       "PRELUDE 4WS AUTO                 0.000139\n",
       "SCENIC XMOD D-QUE TT NRG DC      0.000139\n",
       "Name: model, Length: 28664, dtype: float64"
      ]
     },
     "execution_count": 27,
     "metadata": {},
     "output_type": "execute_result"
    }
   ],
   "source": [
    "#model\n",
    "df['model'].value_counts()/df.shape[0]*100"
   ]
  },
  {
   "cell_type": "code",
   "execution_count": 28,
   "metadata": {},
   "outputs": [
    {
     "data": {
      "text/plain": [
       "count      636465\n",
       "unique      28664\n",
       "top       MISSING\n",
       "freq         5353\n",
       "Name: model, dtype: object"
      ]
     },
     "execution_count": 28,
     "metadata": {},
     "output_type": "execute_result"
    }
   ],
   "source": [
    "df['model'].describe()"
   ]
  },
  {
   "cell_type": "markdown",
   "metadata": {},
   "source": [
    "Knowing that there are 28824 unique models for the model column I have decided to use the ffill method on it as well. "
   ]
  },
  {
   "cell_type": "code",
   "execution_count": 29,
   "metadata": {},
   "outputs": [],
   "source": [
    "df['model'].fillna(method='ffill', inplace=True)"
   ]
  },
  {
   "cell_type": "markdown",
   "metadata": {},
   "source": [
    "Note: A lot of the values of \"model' are labeled as \"missing\". I do not want to change these because the model could have actually been missing from the car from the accident or it could not be recognizable at the time of the accident."
   ]
  },
  {
   "cell_type": "markdown",
   "metadata": {},
   "source": [
    "#### engine_capacity_cc"
   ]
  },
  {
   "cell_type": "code",
   "execution_count": 30,
   "metadata": {},
   "outputs": [
    {
     "data": {
      "text/plain": [
       "count    639009.000000\n",
       "mean       1848.094816\n",
       "std        1573.057956\n",
       "min           2.000000\n",
       "25%        1248.000000\n",
       "50%        1598.000000\n",
       "75%        1995.000000\n",
       "max       91000.000000\n",
       "Name: engine_capacity_cc, dtype: float64"
      ]
     },
     "execution_count": 30,
     "metadata": {},
     "output_type": "execute_result"
    }
   ],
   "source": [
    "#engine_capacity_cc\n",
    "df['engine_capacity_cc'].describe()"
   ]
  },
  {
   "cell_type": "markdown",
   "metadata": {},
   "source": [
    "I am going to handle both outliers and the null values of engine_capacity_cc using the ideals of quantiles and the interquartile range (IQR)."
   ]
  },
  {
   "cell_type": "code",
   "execution_count": 32,
   "metadata": {},
   "outputs": [
    {
     "name": "stdout",
     "output_type": "stream",
     "text": [
      "3115.5\n",
      "127.5\n"
     ]
    }
   ],
   "source": [
    "#first I'm going to handle both ends of outliers.\n",
    "#(determine the min and max cuttoffs for detecting the outlier)\n",
    "q75, q25 = np.percentile(df['engine_capacity_cc'].dropna(), [75 ,25])\n",
    "iqr = q75 - q25\n",
    " \n",
    "ecmin = q25 - (iqr*1.5)\n",
    "ecmax = q75 + (iqr*1.5)\n",
    "\n",
    "print(ecmax)\n",
    "print(ecmin)"
   ]
  },
  {
   "cell_type": "markdown",
   "metadata": {},
   "source": [
    "To explain, what I am going to do is use the ecmax number for the maximum engine_capacity_cc and ecmin for my engine_capacity_cc. Then I'm going to take the mean of those and use it as my fillna."
   ]
  },
  {
   "cell_type": "code",
   "execution_count": 33,
   "metadata": {},
   "outputs": [],
   "source": [
    "df = df[df['engine_capacity_cc']<=ecmax]"
   ]
  },
  {
   "cell_type": "code",
   "execution_count": 34,
   "metadata": {},
   "outputs": [],
   "source": [
    "df = df[df['engine_capacity_cc']>=ecmin]"
   ]
  },
  {
   "cell_type": "code",
   "execution_count": 35,
   "metadata": {},
   "outputs": [
    {
     "data": {
      "image/png": "[encoded data removed]",
      "text/plain": [
       "<Figure size 432x288 with 1 Axes>"
      ]
     },
     "metadata": {},
     "output_type": "display_data"
    }
   ],
   "source": [
    "df['engine_capacity_cc'].hist(bins=20)\n",
    "plt.style.use('dark_background')"
   ]
  },
  {
   "cell_type": "markdown",
   "metadata": {},
   "source": [
    "I can accept this distribution and will now check and handle their nulls"
   ]
  },
  {
   "cell_type": "code",
   "execution_count": 36,
   "metadata": {},
   "outputs": [
    {
     "data": {
      "text/plain": [
       "count    569057.000000\n",
       "mean       1633.351432\n",
       "std         473.765085\n",
       "min         128.000000\n",
       "25%        1299.000000\n",
       "50%        1598.000000\n",
       "75%        1968.000000\n",
       "max        3110.000000\n",
       "Name: engine_capacity_cc, dtype: float64"
      ]
     },
     "execution_count": 36,
     "metadata": {},
     "output_type": "execute_result"
    }
   ],
   "source": [
    "#check values of 'engine_capacity_cc'\n",
    "df['engine_capacity_cc'].describe()"
   ]
  },
  {
   "cell_type": "code",
   "execution_count": 37,
   "metadata": {},
   "outputs": [
    {
     "data": {
      "text/plain": [
       "1633.3514322818276"
      ]
     },
     "execution_count": 37,
     "metadata": {},
     "output_type": "execute_result"
    }
   ],
   "source": [
    "df['engine_capacity_cc'].mean()"
   ]
  },
  {
   "cell_type": "markdown",
   "metadata": {},
   "source": [
    "Going to round this mean value"
   ]
  },
  {
   "cell_type": "code",
   "execution_count": 38,
   "metadata": {},
   "outputs": [],
   "source": [
    "df['engine_capacity_cc'].fillna(1652, inplace=True)"
   ]
  },
  {
   "cell_type": "markdown",
   "metadata": {},
   "source": [
    "Note: After doing the above null fixes, propulsion_code dropped from having 10% null values to 0. (see below). I will continue on and fix lsoa_of_accident_location then drop the rest of the null values with are all <5%."
   ]
  },
  {
   "cell_type": "code",
   "execution_count": 39,
   "metadata": {},
   "outputs": [
    {
     "data": {
      "text/plain": [
       "lsoa_of_accident_location                      5.902045\n",
       "2nd_road_number                                1.317618\n",
       "make                                           0.063087\n",
       "pedestrian_crossing-human_control              0.005448\n",
       "pedestrian_crossing-physical_facilities        0.005096\n",
       "time                                           0.003866\n",
       "vehicle_locationrestricted_lane                0.001406\n",
       "speed_limit                                    0.001230\n",
       "did_police_officer_attend_scene_of_accident    0.000176\n",
       "date                                           0.000000\n",
       "accident_severity                              0.000000\n",
       "road_type                                      0.000000\n",
       "road_surface_conditions                        0.000000\n",
       "police_force                                   0.000000\n",
       "1st_road_class                                 0.000000\n",
       "1st_road_number                                0.000000\n",
       "number_of_vehicles                             0.000000\n",
       "number_of_casualties                           0.000000\n",
       "longitude                                      0.000000\n",
       "day_of_week                                    0.000000\n",
       "local_authority_highway                        0.000000\n",
       "local_authority_district                       0.000000\n",
       "light_conditions                               0.000000\n",
       "special_conditions_at_site                     0.000000\n",
       "junction_detail                                0.000000\n",
       "carriageway_hazards                            0.000000\n",
       "junction_control                               0.000000\n",
       "latitude                                       0.000000\n",
       "x1st_point_of_impact                           0.000000\n",
       "was_vehicle_left_hand_drive                    0.000000\n",
       "urban_or_rural_area                            0.000000\n",
       "vehicle_type                                   0.000000\n",
       "vehicle_reference                              0.000000\n",
       "vehicle_manoeuvre                              0.000000\n",
       "vehicle_leaving_carriageway                    0.000000\n",
       "towing_and_articulation                        0.000000\n",
       "skidding_and_overturning                       0.000000\n",
       "sex_of_driver                                  0.000000\n",
       "propulsion_code                                0.000000\n",
       "model                                          0.000000\n",
       "junction_location                              0.000000\n",
       "journey_purpose_of_driver                      0.000000\n",
       "hit_object_off_carriageway                     0.000000\n",
       "hit_object_in_carriageway                      0.000000\n",
       "engine_capacity_cc                             0.000000\n",
       "driver_imd_decile                              0.000000\n",
       "driver_home_area_type                          0.000000\n",
       "age_of_vehicle                                 0.000000\n",
       "age_band_of_driver                             0.000000\n",
       "inscotland                                     0.000000\n",
       "year                                           0.000000\n",
       "weather_conditions                             0.000000\n",
       "accident_index                                 0.000000\n",
       "dtype: float64"
      ]
     },
     "execution_count": 39,
     "metadata": {},
     "output_type": "execute_result"
    }
   ],
   "source": [
    "df.isnull().sum().sort_values(ascending=False)/df.shape[0]*100"
   ]
  },
  {
   "cell_type": "markdown",
   "metadata": {},
   "source": [
    "#### lsoa_of_accident_location"
   ]
  },
  {
   "cell_type": "code",
   "execution_count": 40,
   "metadata": {},
   "outputs": [
    {
     "data": {
      "text/plain": [
       "E01032739    440\n",
       "E01004736    412\n",
       "E01000004    410\n",
       "E01018648    303\n",
       "E01004689    261\n",
       "E01002444    231\n",
       "E01030458    229\n",
       "E01011365    213\n",
       "E01016012    203\n",
       "E01012851    192\n",
       "E01024335    188\n",
       "E01010521    185\n",
       "E01011107    184\n",
       "E01007913    178\n",
       "E01023732    176\n",
       "E01008440    176\n",
       "E01013607    176\n",
       "E01009200    175\n",
       "E01016952    173\n",
       "E01022677    173\n",
       "E01031587    171\n",
       "E01031583    171\n",
       "E01032740    170\n",
       "E01023584    168\n",
       "E01008397    167\n",
       "E01007611    166\n",
       "E01003482    165\n",
       "E01018337    164\n",
       "E01005131    163\n",
       "E01024721    162\n",
       "            ... \n",
       "E01020417      1\n",
       "E01001776      1\n",
       "E01001842      1\n",
       "E01005410      1\n",
       "E01010078      1\n",
       "E01032493      1\n",
       "E01024642      1\n",
       "E01013208      1\n",
       "E01029822      1\n",
       "E01030386      1\n",
       "E01014887      1\n",
       "E01028665      1\n",
       "E01012928      1\n",
       "E01030956      1\n",
       "E01028815      1\n",
       "E01033056      1\n",
       "E01026820      1\n",
       "E01014938      1\n",
       "E01001967      1\n",
       "E01018642      1\n",
       "E01018682      1\n",
       "E01024749      1\n",
       "E01031616      1\n",
       "W01000170      1\n",
       "W01000305      1\n",
       "E01003999      1\n",
       "E01012436      1\n",
       "E01021050      1\n",
       "E01028837      1\n",
       "W01001389      1\n",
       "Name: lsoa_of_accident_location, Length: 33936, dtype: int64"
      ]
     },
     "execution_count": 40,
     "metadata": {},
     "output_type": "execute_result"
    }
   ],
   "source": [
    "# #lsoa_of_accident_location\n",
    "df['lsoa_of_accident_location'].value_counts()"
   ]
  },
  {
   "cell_type": "code",
   "execution_count": 41,
   "metadata": {},
   "outputs": [
    {
     "data": {
      "text/plain": [
       "count        535471\n",
       "unique        33936\n",
       "top       E01032739\n",
       "freq            440\n",
       "Name: lsoa_of_accident_location, dtype: object"
      ]
     },
     "execution_count": 41,
     "metadata": {},
     "output_type": "execute_result"
    }
   ],
   "source": [
    "df['lsoa_of_accident_location'].describe()"
   ]
  },
  {
   "cell_type": "markdown",
   "metadata": {},
   "source": [
    "With 35061 unique variable and a high count amount the top variables I am deciding to do ffill again. "
   ]
  },
  {
   "cell_type": "code",
   "execution_count": 42,
   "metadata": {},
   "outputs": [],
   "source": [
    "df['lsoa_of_accident_location'].fillna(method='ffill', inplace=True)"
   ]
  },
  {
   "cell_type": "code",
   "execution_count": 43,
   "metadata": {},
   "outputs": [
    {
     "data": {
      "text/plain": [
       "2nd_road_number                                1.317618\n",
       "make                                           0.063087\n",
       "pedestrian_crossing-human_control              0.005448\n",
       "pedestrian_crossing-physical_facilities        0.005096\n",
       "time                                           0.003866\n",
       "vehicle_locationrestricted_lane                0.001406\n",
       "speed_limit                                    0.001230\n",
       "did_police_officer_attend_scene_of_accident    0.000176\n",
       "carriageway_hazards                            0.000000\n",
       "longitude                                      0.000000\n",
       "road_type                                      0.000000\n",
       "road_surface_conditions                        0.000000\n",
       "police_force                                   0.000000\n",
       "1st_road_class                                 0.000000\n",
       "1st_road_number                                0.000000\n",
       "number_of_vehicles                             0.000000\n",
       "number_of_casualties                           0.000000\n",
       "lsoa_of_accident_location                      0.000000\n",
       "local_authority_highway                        0.000000\n",
       "date                                           0.000000\n",
       "local_authority_district                       0.000000\n",
       "light_conditions                               0.000000\n",
       "special_conditions_at_site                     0.000000\n",
       "junction_detail                                0.000000\n",
       "accident_severity                              0.000000\n",
       "junction_control                               0.000000\n",
       "day_of_week                                    0.000000\n",
       "latitude                                       0.000000\n",
       "x1st_point_of_impact                           0.000000\n",
       "was_vehicle_left_hand_drive                    0.000000\n",
       "urban_or_rural_area                            0.000000\n",
       "vehicle_type                                   0.000000\n",
       "vehicle_reference                              0.000000\n",
       "vehicle_manoeuvre                              0.000000\n",
       "vehicle_leaving_carriageway                    0.000000\n",
       "towing_and_articulation                        0.000000\n",
       "skidding_and_overturning                       0.000000\n",
       "sex_of_driver                                  0.000000\n",
       "propulsion_code                                0.000000\n",
       "model                                          0.000000\n",
       "junction_location                              0.000000\n",
       "journey_purpose_of_driver                      0.000000\n",
       "hit_object_off_carriageway                     0.000000\n",
       "hit_object_in_carriageway                      0.000000\n",
       "engine_capacity_cc                             0.000000\n",
       "driver_imd_decile                              0.000000\n",
       "driver_home_area_type                          0.000000\n",
       "age_of_vehicle                                 0.000000\n",
       "age_band_of_driver                             0.000000\n",
       "inscotland                                     0.000000\n",
       "year                                           0.000000\n",
       "weather_conditions                             0.000000\n",
       "accident_index                                 0.000000\n",
       "dtype: float64"
      ]
     },
     "execution_count": 43,
     "metadata": {},
     "output_type": "execute_result"
    }
   ],
   "source": [
    "#### Check nulls for again\n",
    "df.isnull().sum().sort_values(ascending=False)/df.shape[0]*100"
   ]
  },
  {
   "cell_type": "markdown",
   "metadata": {},
   "source": [
    "Dropping the remaining nulls that are <1%."
   ]
  },
  {
   "cell_type": "code",
   "execution_count": 44,
   "metadata": {},
   "outputs": [
    {
     "data": {
      "text/plain": [
       "x1st_point_of_impact                           0.0\n",
       "speed_limit                                    0.0\n",
       "road_type                                      0.0\n",
       "road_surface_conditions                        0.0\n",
       "police_force                                   0.0\n",
       "pedestrian_crossing-physical_facilities        0.0\n",
       "pedestrian_crossing-human_control              0.0\n",
       "number_of_vehicles                             0.0\n",
       "number_of_casualties                           0.0\n",
       "lsoa_of_accident_location                      0.0\n",
       "longitude                                      0.0\n",
       "local_authority_highway                        0.0\n",
       "local_authority_district                       0.0\n",
       "light_conditions                               0.0\n",
       "latitude                                       0.0\n",
       "junction_detail                                0.0\n",
       "junction_control                               0.0\n",
       "did_police_officer_attend_scene_of_accident    0.0\n",
       "day_of_week                                    0.0\n",
       "date                                           0.0\n",
       "carriageway_hazards                            0.0\n",
       "accident_severity                              0.0\n",
       "2nd_road_number                                0.0\n",
       "1st_road_number                                0.0\n",
       "1st_road_class                                 0.0\n",
       "special_conditions_at_site                     0.0\n",
       "time                                           0.0\n",
       "was_vehicle_left_hand_drive                    0.0\n",
       "urban_or_rural_area                            0.0\n",
       "vehicle_type                                   0.0\n",
       "vehicle_reference                              0.0\n",
       "vehicle_manoeuvre                              0.0\n",
       "vehicle_locationrestricted_lane                0.0\n",
       "vehicle_leaving_carriageway                    0.0\n",
       "towing_and_articulation                        0.0\n",
       "skidding_and_overturning                       0.0\n",
       "sex_of_driver                                  0.0\n",
       "propulsion_code                                0.0\n",
       "model                                          0.0\n",
       "make                                           0.0\n",
       "junction_location                              0.0\n",
       "journey_purpose_of_driver                      0.0\n",
       "hit_object_off_carriageway                     0.0\n",
       "hit_object_in_carriageway                      0.0\n",
       "engine_capacity_cc                             0.0\n",
       "driver_imd_decile                              0.0\n",
       "driver_home_area_type                          0.0\n",
       "age_of_vehicle                                 0.0\n",
       "age_band_of_driver                             0.0\n",
       "inscotland                                     0.0\n",
       "year                                           0.0\n",
       "weather_conditions                             0.0\n",
       "accident_index                                 0.0\n",
       "dtype: float64"
      ]
     },
     "execution_count": 44,
     "metadata": {},
     "output_type": "execute_result"
    }
   ],
   "source": [
    "#drop the remaining nulls that are <1%\n",
    "df.dropna(inplace=True)\n",
    "\n",
    "#last check\n",
    "df.isnull().sum().sort_values(ascending=False)/df.shape[0]*100"
   ]
  },
  {
   "cell_type": "code",
   "execution_count": 45,
   "metadata": {},
   "outputs": [
    {
     "data": {
      "text/plain": [
       "(561135, 53)"
      ]
     },
     "execution_count": 45,
     "metadata": {},
     "output_type": "execute_result"
    }
   ],
   "source": [
    "df.shape"
   ]
  },
  {
   "cell_type": "code",
   "execution_count": 46,
   "metadata": {},
   "outputs": [
    {
     "name": "stdout",
     "output_type": "stream",
     "text": [
      "<class 'pandas.core.frame.DataFrame'>\n",
      "Int64Index: 561135 entries, 0 to 720279\n",
      "Data columns (total 53 columns):\n",
      "accident_index                                 561135 non-null object\n",
      "1st_road_class                                 561135 non-null object\n",
      "1st_road_number                                561135 non-null object\n",
      "2nd_road_number                                561135 non-null object\n",
      "accident_severity                              561135 non-null object\n",
      "carriageway_hazards                            561135 non-null object\n",
      "date                                           561135 non-null datetime64[ns]\n",
      "day_of_week                                    561135 non-null object\n",
      "did_police_officer_attend_scene_of_accident    561135 non-null object\n",
      "junction_control                               561135 non-null object\n",
      "junction_detail                                561135 non-null object\n",
      "latitude                                       561135 non-null float64\n",
      "light_conditions                               561135 non-null object\n",
      "local_authority_district                       561135 non-null object\n",
      "local_authority_highway                        561135 non-null object\n",
      "longitude                                      561135 non-null float64\n",
      "lsoa_of_accident_location                      561135 non-null object\n",
      "number_of_casualties                           561135 non-null int64\n",
      "number_of_vehicles                             561135 non-null int64\n",
      "pedestrian_crossing-human_control              561135 non-null object\n",
      "pedestrian_crossing-physical_facilities        561135 non-null object\n",
      "police_force                                   561135 non-null object\n",
      "road_surface_conditions                        561135 non-null object\n",
      "road_type                                      561135 non-null object\n",
      "special_conditions_at_site                     561135 non-null object\n",
      "speed_limit                                    561135 non-null float64\n",
      "time                                           561135 non-null object\n",
      "urban_or_rural_area                            561135 non-null object\n",
      "weather_conditions                             561135 non-null object\n",
      "year                                           561135 non-null int64\n",
      "inscotland                                     561135 non-null object\n",
      "age_band_of_driver                             561135 non-null object\n",
      "age_of_vehicle                                 561135 non-null category\n",
      "driver_home_area_type                          561135 non-null object\n",
      "driver_imd_decile                              561135 non-null float64\n",
      "engine_capacity_cc                             561135 non-null float64\n",
      "hit_object_in_carriageway                      561135 non-null object\n",
      "hit_object_off_carriageway                     561135 non-null object\n",
      "journey_purpose_of_driver                      561135 non-null object\n",
      "junction_location                              561135 non-null object\n",
      "make                                           561135 non-null object\n",
      "model                                          561135 non-null object\n",
      "propulsion_code                                561135 non-null object\n",
      "sex_of_driver                                  561135 non-null object\n",
      "skidding_and_overturning                       561135 non-null object\n",
      "towing_and_articulation                        561135 non-null object\n",
      "vehicle_leaving_carriageway                    561135 non-null object\n",
      "vehicle_locationrestricted_lane                561135 non-null object\n",
      "vehicle_manoeuvre                              561135 non-null object\n",
      "vehicle_reference                              561135 non-null object\n",
      "vehicle_type                                   561135 non-null object\n",
      "was_vehicle_left_hand_drive                    561135 non-null object\n",
      "x1st_point_of_impact                           561135 non-null object\n",
      "dtypes: category(1), datetime64[ns](1), float64(5), int64(3), object(43)\n",
      "memory usage: 227.4+ MB\n"
     ]
    }
   ],
   "source": [
    "df.info()"
   ]
  },
  {
   "cell_type": "markdown",
   "metadata": {},
   "source": [
    "#### More outliers, categorizing, and other cleanup"
   ]
  },
  {
   "cell_type": "code",
   "execution_count": 47,
   "metadata": {},
   "outputs": [],
   "source": [
    "#detecting outliers of numerical columns (all floats/ints excluding lat/long and year)\n",
    "\n",
    "df_num = df[['engine_capacity_cc','number_of_casualties','number_of_vehicles','speed_limit']]\n"
   ]
  },
  {
   "cell_type": "code",
   "execution_count": 48,
   "metadata": {},
   "outputs": [
    {
     "data": {
      "image/png": "[encoded data removed]",
      "text/plain": [
       "<Figure size 864x576 with 4 Axes>"
      ]
     },
     "metadata": {},
     "output_type": "display_data"
    }
   ],
   "source": [
    "df_num.hist( bins=25, grid=False, figsize=(12,8))\n",
    "plt.style.use('dark_background')"
   ]
  },
  {
   "cell_type": "markdown",
   "metadata": {},
   "source": [
    "Column 'speed_limit' seems ok and was previously altered 'engine_capacity_cc'. However, 'number_of_casualties', and 'number_of_vehicles',will be evaluated. "
   ]
  },
  {
   "cell_type": "code",
   "execution_count": 49,
   "metadata": {},
   "outputs": [
    {
     "data": {
      "text/plain": [
       "1     391938\n",
       "2     113736\n",
       "3      35451\n",
       "4      12511\n",
       "5       4621\n",
       "6       1739\n",
       "7        599\n",
       "8        243\n",
       "9        146\n",
       "10        52\n",
       "11        29\n",
       "12        28\n",
       "13        15\n",
       "16        10\n",
       "14         4\n",
       "15         3\n",
       "17         3\n",
       "24         2\n",
       "21         2\n",
       "19         1\n",
       "22         1\n",
       "43         1\n",
       "Name: number_of_casualties, dtype: int64"
      ]
     },
     "execution_count": 49,
     "metadata": {},
     "output_type": "execute_result"
    }
   ],
   "source": [
    "# #number_of_casualties\n",
    "df['number_of_casualties'].value_counts()"
   ]
  },
  {
   "cell_type": "code",
   "execution_count": 50,
   "metadata": {},
   "outputs": [],
   "source": [
    "#create casualities grouping\n",
    "\n",
    "def casualities(num_cas):\n",
    "    if num_cas >=1 and num_cas <2:\n",
    "        return \"1\"\n",
    "    elif num_cas >=2 and num_cas <3:\n",
    "        return \"2\"\n",
    "    elif num_cas >=3 and num_cas <4:\n",
    "        return \"3\"\n",
    "    elif num_cas >= 4 and num_cas <5:\n",
    "        return \"4\"\n",
    "    elif num_cas >= 5:\n",
    "        return \"5+\"\n",
    "  \n",
    "    "
   ]
  },
  {
   "cell_type": "code",
   "execution_count": 51,
   "metadata": {},
   "outputs": [],
   "source": [
    "#apply function   \n",
    "df['number_of_casualties']= df['number_of_casualties'].apply(casualities)"
   ]
  },
  {
   "cell_type": "code",
   "execution_count": 52,
   "metadata": {},
   "outputs": [
    {
     "data": {
      "text/plain": [
       "1     391938\n",
       "2     113736\n",
       "3      35451\n",
       "4      12511\n",
       "5+      7499\n",
       "Name: number_of_casualties, dtype: int64"
      ]
     },
     "execution_count": 52,
     "metadata": {},
     "output_type": "execute_result"
    }
   ],
   "source": [
    "#number_of_casualties\n",
    "df['number_of_casualties'].value_counts()"
   ]
  },
  {
   "cell_type": "code",
   "execution_count": 53,
   "metadata": {},
   "outputs": [
    {
     "data": {
      "text/plain": [
       "Petrol                 60.540155\n",
       "Heavy oil              38.544913\n",
       "Hybrid electric         0.782699\n",
       "Gas/Bi-fuel             0.094808\n",
       "Petrol/Gas (LPG)        0.021207\n",
       "Electric diesel         0.013188\n",
       "Gas                     0.002317\n",
       "New fuel technology     0.000356\n",
       "Gas Diesel              0.000178\n",
       "Fuel cells              0.000178\n",
       "Name: propulsion_code, dtype: float64"
      ]
     },
     "execution_count": 53,
     "metadata": {},
     "output_type": "execute_result"
    }
   ],
   "source": [
    "df['propulsion_code'].value_counts()/df.shape[0]*100"
   ]
  },
  {
   "cell_type": "code",
   "execution_count": 54,
   "metadata": {},
   "outputs": [],
   "source": [
    "#Clean the values for Propulsion Code. \n",
    "df['propulsion_code'] = df['propulsion_code'].replace(to_replace=\"Gas\", value=\"Petrol\")\n",
    "df['propulsion_code'] = df['propulsion_code'].replace(to_replace=\"Gas/Bi-fuel\", value=\"Bio-fuel\")\n",
    "df['propulsion_code'] = df['propulsion_code'].replace(to_replace=\"Petrol/Gas (LPG)\", value=\"LPG Petrol\")\n",
    "df['propulsion_code'] = df['propulsion_code'].replace(to_replace=\"Gas Diesel\", value=\"Diesel\")"
   ]
  },
  {
   "cell_type": "code",
   "execution_count": 55,
   "metadata": {},
   "outputs": [
    {
     "data": {
      "text/plain": [
       "Petrol                 60.542472\n",
       "Heavy oil              38.544913\n",
       "Hybrid electric         0.782699\n",
       "Bio-fuel                0.094808\n",
       "LPG Petrol              0.021207\n",
       "Electric diesel         0.013188\n",
       "New fuel technology     0.000356\n",
       "Diesel                  0.000178\n",
       "Fuel cells              0.000178\n",
       "Name: propulsion_code, dtype: float64"
      ]
     },
     "execution_count": 55,
     "metadata": {},
     "output_type": "execute_result"
    }
   ],
   "source": [
    "df['propulsion_code'].value_counts()/df.shape[0]*100"
   ]
  },
  {
   "cell_type": "markdown",
   "metadata": {},
   "source": [
    "### Feature Manipulation Creation and Engineering\n"
   ]
  },
  {
   "cell_type": "code",
   "execution_count": 56,
   "metadata": {},
   "outputs": [
    {
     "data": {
      "text/plain": [
       "accident_index                                 412838\n",
       "longitude                                      356283\n",
       "latitude                                       346962\n",
       "lsoa_of_accident_location                       33895\n",
       "model                                           25688\n",
       "2nd_road_number                                  5781\n",
       "1st_road_number                                  5088\n",
       "date                                             2557\n",
       "time                                             1439\n",
       "engine_capacity_cc                               1023\n",
       "local_authority_district                          380\n",
       "make                                              226\n",
       "local_authority_highway                           207\n",
       "police_force                                       51\n",
       "vehicle_manoeuvre                                  18\n",
       "vehicle_type                                       16\n",
       "number_of_vehicles                                 15\n",
       "vehicle_reference                                  15\n",
       "hit_object_in_carriageway                          12\n",
       "hit_object_off_carriageway                         12\n",
       "age_band_of_driver                                 11\n",
       "driver_imd_decile                                  10\n",
       "vehicle_locationrestricted_lane                    10\n",
       "weather_conditions                                  9\n",
       "junction_location                                   9\n",
       "vehicle_leaving_carriageway                         9\n",
       "junction_detail                                     9\n",
       "propulsion_code                                     9\n",
       "special_conditions_at_site                          8\n",
       "day_of_week                                         7\n",
       "journey_purpose_of_driver                           7\n",
       "year                                                7\n",
       "age_of_vehicle                                      7\n",
       "speed_limit                                         7\n",
       "carriageway_hazards                                 6\n",
       "pedestrian_crossing-physical_facilities             6\n",
       "towing_and_articulation                             6\n",
       "1st_road_class                                      6\n",
       "skidding_and_overturning                            6\n",
       "junction_control                                    5\n",
       "x1st_point_of_impact                                5\n",
       "light_conditions                                    5\n",
       "number_of_casualties                                5\n",
       "road_surface_conditions                             5\n",
       "road_type                                           5\n",
       "pedestrian_crossing-human_control                   3\n",
       "did_police_officer_attend_scene_of_accident         3\n",
       "accident_severity                                   3\n",
       "driver_home_area_type                               3\n",
       "sex_of_driver                                       3\n",
       "was_vehicle_left_hand_drive                         2\n",
       "urban_or_rural_area                                 2\n",
       "inscotland                                          2\n",
       "dtype: int64"
      ]
     },
     "execution_count": 56,
     "metadata": {},
     "output_type": "execute_result"
    }
   ],
   "source": [
    "# #unique values\n",
    "df.nunique().sort_values(ascending=False)"
   ]
  },
  {
   "cell_type": "code",
   "execution_count": 57,
   "metadata": {},
   "outputs": [],
   "source": [
    "df['date'] = pd.to_datetime(df['date'])"
   ]
  },
  {
   "cell_type": "code",
   "execution_count": 58,
   "metadata": {},
   "outputs": [],
   "source": [
    "df['month'] = df ['date'].apply(lambda time: time.month)"
   ]
  },
  {
   "cell_type": "code",
   "execution_count": 59,
   "metadata": {},
   "outputs": [],
   "source": [
    "#creating a weekend feature that includes Friday-Sunday\n",
    "df['weekend']= np.where(df['day_of_week'].isin(['Friday', 'Saturday', 'Sunday']), 1, 0)"
   ]
  },
  {
   "cell_type": "code",
   "execution_count": 225,
   "metadata": {},
   "outputs": [],
   "source": [
    "#create time of day feature with Morning Rush, Day, Noon Rush, Afternoon, After Work Rush, Night\n",
    "\n",
    "#time of day dictionary\n",
    "timeofdaygroups = {1: \"Morning Rush (6-10)\",\n",
    "                   2: \"Day (10-12)\",\n",
    "                   3: \"Lunch Rush (12-14)\",\n",
    "                   4: \"Afternoon (14-16)\",\n",
    "                   5: \"After Work Rush (16-18)\",\n",
    "                   6: \"Evening (18-22)\",\n",
    "                   7: \"Night (22-6)\"}"
   ]
  },
  {
   "cell_type": "code",
   "execution_count": 61,
   "metadata": {},
   "outputs": [],
   "source": [
    "#pull time data and create hour column\n",
    "df['hour'] = df['time'].str[0:2]\n",
    " \n",
    "#convert to numeric    \n",
    "df['hour'] =  pd.to_numeric(df['hour'])\n",
    "\n",
    "#convert to integer\n",
    "df['hour'] = df['hour'].astype('int')"
   ]
  },
  {
   "cell_type": "code",
   "execution_count": 228,
   "metadata": {},
   "outputs": [],
   "source": [
    "#create time_of_day grouping\n",
    "\n",
    "def daygroup(hour):\n",
    "    if hour >= 6 and hour < 10:\n",
    "        return \"1\"\n",
    "    elif hour >= 10 and hour < 12:\n",
    "        return \"2\"\n",
    "    elif hour >= 12 and hour < 14:\n",
    "        return \"3\"\n",
    "    elif hour >= 14 and hour < 16:\n",
    "        return \"4\"\n",
    "    elif hour >= 16 and hour < 18:\n",
    "        return \"5\"\n",
    "    elif hour >= 18 and hour < 22:\n",
    "        return \"6\"\n",
    "    else:\n",
    "        return \"7\"\n",
    "    "
   ]
  },
  {
   "cell_type": "code",
   "execution_count": 229,
   "metadata": {},
   "outputs": [],
   "source": [
    "#apply function   \n",
    "#time of day function\n",
    "df['time_of_day']= df['hour'].apply(daygroup)   "
   ]
  },
  {
   "cell_type": "code",
   "execution_count": 64,
   "metadata": {},
   "outputs": [
    {
     "data": {
      "text/html": [
       "<div>\n",
       "<style scoped>\n",
       "    .dataframe tbody tr th:only-of-type {\n",
       "        vertical-align: middle;\n",
       "    }\n",
       "\n",
       "    .dataframe tbody tr th {\n",
       "        vertical-align: top;\n",
       "    }\n",
       "\n",
       "    .dataframe thead th {\n",
       "        text-align: right;\n",
       "    }\n",
       "</style>\n",
       "<table border=\"1\" class=\"dataframe\">\n",
       "  <thead>\n",
       "    <tr style=\"text-align: right;\">\n",
       "      <th></th>\n",
       "      <th>weekend</th>\n",
       "      <th>day_of_week</th>\n",
       "      <th>time</th>\n",
       "      <th>time_of_day</th>\n",
       "    </tr>\n",
       "  </thead>\n",
       "  <tbody>\n",
       "    <tr>\n",
       "      <th>720270</th>\n",
       "      <td>0</td>\n",
       "      <td>Wednesday</td>\n",
       "      <td>08:45</td>\n",
       "      <td>1</td>\n",
       "    </tr>\n",
       "    <tr>\n",
       "      <th>720271</th>\n",
       "      <td>0</td>\n",
       "      <td>Wednesday</td>\n",
       "      <td>08:45</td>\n",
       "      <td>1</td>\n",
       "    </tr>\n",
       "    <tr>\n",
       "      <th>720272</th>\n",
       "      <td>0</td>\n",
       "      <td>Tuesday</td>\n",
       "      <td>18:12</td>\n",
       "      <td>6</td>\n",
       "    </tr>\n",
       "    <tr>\n",
       "      <th>720273</th>\n",
       "      <td>1</td>\n",
       "      <td>Sunday</td>\n",
       "      <td>11:00</td>\n",
       "      <td>2</td>\n",
       "    </tr>\n",
       "    <tr>\n",
       "      <th>720274</th>\n",
       "      <td>1</td>\n",
       "      <td>Sunday</td>\n",
       "      <td>11:00</td>\n",
       "      <td>2</td>\n",
       "    </tr>\n",
       "    <tr>\n",
       "      <th>720275</th>\n",
       "      <td>0</td>\n",
       "      <td>Monday</td>\n",
       "      <td>16:32</td>\n",
       "      <td>5</td>\n",
       "    </tr>\n",
       "    <tr>\n",
       "      <th>720276</th>\n",
       "      <td>0</td>\n",
       "      <td>Monday</td>\n",
       "      <td>16:32</td>\n",
       "      <td>5</td>\n",
       "    </tr>\n",
       "    <tr>\n",
       "      <th>720277</th>\n",
       "      <td>1</td>\n",
       "      <td>Friday</td>\n",
       "      <td>06:45</td>\n",
       "      <td>1</td>\n",
       "    </tr>\n",
       "    <tr>\n",
       "      <th>720278</th>\n",
       "      <td>0</td>\n",
       "      <td>Tuesday</td>\n",
       "      <td>16:45</td>\n",
       "      <td>5</td>\n",
       "    </tr>\n",
       "    <tr>\n",
       "      <th>720279</th>\n",
       "      <td>0</td>\n",
       "      <td>Tuesday</td>\n",
       "      <td>16:45</td>\n",
       "      <td>5</td>\n",
       "    </tr>\n",
       "  </tbody>\n",
       "</table>\n",
       "</div>"
      ],
      "text/plain": [
       "        weekend day_of_week   time time_of_day\n",
       "720270        0   Wednesday  08:45           1\n",
       "720271        0   Wednesday  08:45           1\n",
       "720272        0     Tuesday  18:12           6\n",
       "720273        1      Sunday  11:00           2\n",
       "720274        1      Sunday  11:00           2\n",
       "720275        0      Monday  16:32           5\n",
       "720276        0      Monday  16:32           5\n",
       "720277        1      Friday  06:45           1\n",
       "720278        0     Tuesday  16:45           5\n",
       "720279        0     Tuesday  16:45           5"
      ]
     },
     "execution_count": 64,
     "metadata": {},
     "output_type": "execute_result"
    }
   ],
   "source": [
    "df[['weekend','day_of_week','time', 'time_of_day']].tail(10)"
   ]
  },
  {
   "cell_type": "code",
   "execution_count": 65,
   "metadata": {},
   "outputs": [
    {
     "data": {
      "text/plain": [
       "Car                                      86.052020\n",
       "Van / Goods 3.5 tonnes mgw or under       5.481212\n",
       "Motorcycle over 500cc                     3.999929\n",
       "Taxi/Private hire car                     2.932628\n",
       "Motorcycle over 125cc and up to 500cc     0.881428\n",
       "Motorcycle 125cc and under                0.178567\n",
       "Minibus (8 - 16 passenger seats)          0.140251\n",
       "Other vehicle                             0.131519\n",
       "Goods over 3.5t. and under 7.5t           0.083937\n",
       "Motorcycle 50cc and under                 0.043840\n",
       "Bus or coach (17 or more pass seats)      0.024771\n",
       "Goods vehicle - unknown weight            0.015326\n",
       "Goods 7.5 tonnes mgw and over             0.013188\n",
       "Motorcycle - unknown cc                   0.013009\n",
       "Agricultural vehicle                      0.007128\n",
       "Electric motorcycle                       0.001247\n",
       "Name: vehicle_type, dtype: float64"
      ]
     },
     "execution_count": 65,
     "metadata": {},
     "output_type": "execute_result"
    }
   ],
   "source": [
    "#vehicle_type\n",
    "df['vehicle_type'].value_counts()/df.shape[0]*100"
   ]
  },
  {
   "cell_type": "markdown",
   "metadata": {},
   "source": [
    "I want to condense the vehicle type variables. "
   ]
  },
  {
   "cell_type": "code",
   "execution_count": 3,
   "metadata": {},
   "outputs": [],
   "source": [
    "#motorcycles\n",
    "df['vehicle_type'] = df['vehicle_type'].replace(to_replace=\"Motorcycle over 500cc\", \n",
    "                                                        value=\"Motorcycle\")\n",
    "df['vehicle_type'] = df['vehicle_type'].replace(to_replace=\n",
    "                                                        \"Motorcycle over 125cc and up to 500cc\",\n",
    "                                                        value=\"Motorcycle\")\n",
    "df['vehicle_type'] = df['vehicle_type'].replace(to_replace=\"Motorcycle 125cc and under\", \n",
    "                                                value=\"Motorcycle\")\n",
    "df['vehicle_type'] = df['vehicle_type'].replace(to_replace=\"Motorcycle 50cc and under\", \n",
    "                                                        value=\"Motorcycle\")\n",
    "df['vehicle_type'] = df['vehicle_type'].replace(to_replace=\"Electric motorcycle\", \n",
    "                                                        value=\"Motorcycle\")\n",
    "df['vehicle_type'] = df['vehicle_type'].replace(to_replace=\"Motorcycle - unknown cc\", \n",
    "                                                        value=\"Motorcycle\")\n",
    "\n",
    "\n",
    "#Goods_vehicle\n",
    "df['vehicle_type'] = df['vehicle_type'].replace(to_replace=\n",
    "                                                        \"Van / Goods 3.5 tonnes mgw or under\", \n",
    "                                                        value=\"Goods Vehicle\")\n",
    "df['vehicle_type'] = df['vehicle_type'].replace(to_replace=\"Goods over 3.5t. and under 7.5t\", \n",
    "                                                        value=\"Goods Vehicle\")\n",
    "df['vehicle_type'] = df['vehicle_type'].replace(to_replace=\"Goods vehicle - unknown weight\", \n",
    "                                                        value=\"Goods Vehicle\")\n",
    "df['vehicle_type'] = df['vehicle_type'].replace(to_replace=\"Goods 7.5 tonnes mgw and over\", \n",
    "                                                        value=\"Goods Vehicle\")\n",
    "\n",
    "#car\n",
    "df['vehicle_type'] = df['vehicle_type'].replace(to_replace=\"Taxi/Private hire car\", \n",
    "                                                        value=\"Car\")\n",
    "\n",
    "\n",
    "#bus\n",
    "df['vehicle_type'] = df['vehicle_type'].replace(to_replace=\"Minibus (8 - 16 passenger seats)\", \n",
    "                                                        value=\"Bus\")\n",
    "df['vehicle_type'] = df['vehicle_type'].replace(to_replace=\n",
    "                                                        \"Bus or coach (17 or more pass seats)\", \n",
    "                                                        value=\"Bus\")\n",
    "\n",
    "#other vehicle\n",
    "df['vehicle_type'] = df['vehicle_type'].replace(to_replace=\"Agricultural vehicle\", \n",
    "                                                        value=\"Other Vehicle\")\n",
    "df['vehicle_type'] = df['vehicle_type'].replace(to_replace=\"Other vehicle\", \n",
    "                                                        value=\"Other Vehicle\")\n"
   ]
  },
  {
   "cell_type": "code",
   "execution_count": 4,
   "metadata": {},
   "outputs": [
    {
     "data": {
      "text/plain": [
       "Car              88.984647\n",
       "Goods Vehicle     5.593663\n",
       "Motorcycle        5.118020\n",
       "Bus               0.165023\n",
       "Other Vehicle     0.138648\n",
       "Name: vehicle_type, dtype: float64"
      ]
     },
     "execution_count": 4,
     "metadata": {},
     "output_type": "execute_result"
    }
   ],
   "source": [
    "#vehicle_type\n",
    "df['vehicle_type'].value_counts()/df.shape[0]*100"
   ]
  },
  {
   "cell_type": "markdown",
   "metadata": {},
   "source": [
    "Create more condense groups for age band of driver in order to deal with some potential outliers."
   ]
  },
  {
   "cell_type": "code",
   "execution_count": 68,
   "metadata": {},
   "outputs": [
    {
     "data": {
      "text/plain": [
       "26 - 35    22.598662\n",
       "36 - 45    20.728345\n",
       "46 - 55    17.551213\n",
       "21 - 25    12.208827\n",
       "56 - 65    10.373796\n",
       "16 - 20     7.145696\n",
       "66 - 75     5.624850\n",
       "Over 75     3.757028\n",
       "11 - 15     0.011049\n",
       "6 - 10      0.000356\n",
       "0 - 5       0.000178\n",
       "Name: age_band_of_driver, dtype: float64"
      ]
     },
     "execution_count": 68,
     "metadata": {},
     "output_type": "execute_result"
    }
   ],
   "source": [
    "#age_band_of_driver \n",
    "df['age_band_of_driver'].value_counts()/df.shape[0]*100"
   ]
  },
  {
   "cell_type": "code",
   "execution_count": 69,
   "metadata": {},
   "outputs": [],
   "source": [
    "#I did this before hand because as \"Over 75\", it wouldnt convert in the codes below\n",
    "df['age_band_of_driver']=df['age_band_of_driver'].replace(\"Over 75\",\"75-100\")"
   ]
  },
  {
   "cell_type": "code",
   "execution_count": 70,
   "metadata": {},
   "outputs": [],
   "source": [
    "age1 = [\"0 - 5\", \"6 - 10\", \"11 - 15\"]\n",
    "age2 = [\"16 - 20\",\"21 - 25\"]\n",
    "age3 = [\"26 - 35\",\"36 - 45\"]\n",
    "age4 = [\"46 - 55\", \"56 - 65\"]\n",
    "age5 = [\"66 - 75\", \"75-100\"]"
   ]
  },
  {
   "cell_type": "code",
   "execution_count": 71,
   "metadata": {},
   "outputs": [],
   "source": [
    "#over 75 wouldnt work in the string so I did it separately\n",
    "for (row, col) in df.iterrows():\n",
    "\n",
    "    if str.lower(col.age_band_of_driver) in age1:\n",
    "        df['age_band_of_driver'].replace(to_replace=col.age_band_of_driver, \n",
    "                                         value='Under 16', inplace=True)\n",
    "\n",
    "    if str.lower(col.age_band_of_driver) in age2:\n",
    "        df['age_band_of_driver'].replace(to_replace=col.age_band_of_driver, \n",
    "                                         value='16-25', inplace=True)\n",
    "    \n",
    "    if str.lower(col.age_band_of_driver) in age3:\n",
    "        df['age_band_of_driver'].replace(to_replace=col.age_band_of_driver, \n",
    "                                         value='26-45', inplace=True)\n",
    "    if str.lower(col.age_band_of_driver) in age4:\n",
    "        df['age_band_of_driver'].replace(to_replace=col.age_band_of_driver, \n",
    "                                         value='46-65', inplace=True)\n",
    "    if str.lower(col.age_band_of_driver) in age5:\n",
    "        df['age_band_of_driver'].replace(to_replace=col.age_band_of_driver, \n",
    "                                         value='Over 65', inplace=True)"
   ]
  },
  {
   "cell_type": "code",
   "execution_count": 72,
   "metadata": {},
   "outputs": [
    {
     "name": "stdout",
     "output_type": "stream",
     "text": [
      "Distinct responses for age_band_of_driver:\n",
      " {'Over 65', 'Under 16', '46-65', '26-45', '16-25'}\n"
     ]
    }
   ],
   "source": [
    "#age_band_of_driver\n",
    "print(\"Distinct responses for age_band_of_driver:\\n\", set(df['age_band_of_driver']))"
   ]
  },
  {
   "cell_type": "code",
   "execution_count": 73,
   "metadata": {},
   "outputs": [
    {
     "data": {
      "text/plain": [
       "2     72.944835\n",
       "3     11.924403\n",
       "1     11.570121\n",
       "4      2.706122\n",
       "5      0.582747\n",
       "6      0.167874\n",
       "7      0.059166\n",
       "8      0.021385\n",
       "11     0.005881\n",
       "9      0.005881\n",
       "10     0.004277\n",
       "14     0.002317\n",
       "13     0.002139\n",
       "16     0.001782\n",
       "12     0.001069\n",
       "Name: number_of_vehicles, dtype: float64"
      ]
     },
     "execution_count": 73,
     "metadata": {},
     "output_type": "execute_result"
    }
   ],
   "source": [
    "# number_of_vehicles\n",
    "df['number_of_vehicles'].value_counts()/df.shape[0]*100"
   ]
  },
  {
   "cell_type": "code",
   "execution_count": 74,
   "metadata": {},
   "outputs": [],
   "source": [
    "#group number_of_vehicles\n",
    "\n",
    "def vehicles(num_veh):\n",
    "    if num_veh >=1 and num_veh <2:\n",
    "        return \"1\"\n",
    "    elif num_veh >=2 and num_veh <3:\n",
    "        return \"2\"\n",
    "    elif num_veh >=3 and num_veh <4:\n",
    "        return \"3\"\n",
    "    elif num_veh >= 4: \n",
    "        return \"4+\"\n",
    "  \n",
    "#apply function   \n",
    "df['number_of_vehicles']= df['number_of_vehicles'].apply(vehicles)"
   ]
  },
  {
   "cell_type": "code",
   "execution_count": 75,
   "metadata": {},
   "outputs": [
    {
     "data": {
      "text/plain": [
       "2     72.944835\n",
       "3     11.924403\n",
       "1     11.570121\n",
       "4+     3.560640\n",
       "Name: number_of_vehicles, dtype: float64"
      ]
     },
     "execution_count": 75,
     "metadata": {},
     "output_type": "execute_result"
    }
   ],
   "source": [
    "# number_of_vehicles\n",
    "df['number_of_vehicles'].value_counts()/df.shape[0]*100"
   ]
  },
  {
   "cell_type": "code",
   "execution_count": 76,
   "metadata": {},
   "outputs": [
    {
     "data": {
      "text/plain": [
       "dtype('O')"
      ]
     },
     "execution_count": 76,
     "metadata": {},
     "output_type": "execute_result"
    }
   ],
   "source": [
    "df['number_of_vehicles'].dtypes"
   ]
  },
  {
   "cell_type": "code",
   "execution_count": 77,
   "metadata": {},
   "outputs": [],
   "source": [
    "df['number_of_vehicles']=df['number_of_vehicles'].astype('object')"
   ]
  },
  {
   "cell_type": "code",
   "execution_count": 78,
   "metadata": {},
   "outputs": [],
   "source": [
    "#creating seasons column for ML\n",
    "\n",
    "#creating season column\n",
    "\n",
    "def getSeason(month):\n",
    "    if (month == 12 or month == 1 or month == 2):\n",
    "       return \"winter\"\n",
    "    elif(month == 3 or month == 4 or month == 5):\n",
    "       return \"spring\"\n",
    "    elif(month == 6 or month== 7 or month == 8):\n",
    "       return \"summer\"\n",
    "    else:\n",
    "       return \"fall\"\n",
    "\n",
    "df['season'] = df['month'].apply(getSeason)"
   ]
  },
  {
   "cell_type": "code",
   "execution_count": 79,
   "metadata": {},
   "outputs": [
    {
     "data": {
      "text/plain": [
       "fall      27.065858\n",
       "summer    25.502241\n",
       "spring    24.624912\n",
       "winter    22.806989\n",
       "Name: season, dtype: float64"
      ]
     },
     "execution_count": 79,
     "metadata": {},
     "output_type": "execute_result"
    }
   ],
   "source": [
    "# number_of_vehicles\n",
    "df['season'].value_counts()/df.shape[0]*100"
   ]
  },
  {
   "cell_type": "code",
   "execution_count": 80,
   "metadata": {},
   "outputs": [
    {
     "data": {
      "text/plain": [
       "<matplotlib.axes._subplots.AxesSubplot at 0x2b326feef60>"
      ]
     },
     "execution_count": 80,
     "metadata": {},
     "output_type": "execute_result"
    },
    {
     "data": {
      "image/png": "[encoded data removed]",
      "text/plain": [
       "<Figure size 432x288 with 1 Axes>"
      ]
     },
     "metadata": {},
     "output_type": "display_data"
    }
   ],
   "source": [
    "#go back to engine capacity CC and crete groups\n",
    "df.engine_capacity_cc.hist()"
   ]
  },
  {
   "cell_type": "code",
   "execution_count": 81,
   "metadata": {},
   "outputs": [],
   "source": [
    "def enginecap(eng_cc):\n",
    "    if eng_cc <=1500:\n",
    "        return \"small engine cc\"\n",
    "    if eng_cc >1500 and eng_cc <=2000:\n",
    "        return \"medium engine cc\"\n",
    "    if eng_cc >2000:\n",
    "        return \"large engine cc\"\n",
    "\n",
    "\n",
    "df['engine_capacity_cc_size'] = df['engine_capacity_cc'].apply(enginecap)"
   ]
  },
  {
   "cell_type": "code",
   "execution_count": 82,
   "metadata": {},
   "outputs": [
    {
     "data": {
      "text/plain": [
       "medium engine cc    259881\n",
       "small engine cc     231031\n",
       "large engine cc      70223\n",
       "Name: engine_capacity_cc_size, dtype: int64"
      ]
     },
     "execution_count": 82,
     "metadata": {},
     "output_type": "execute_result"
    }
   ],
   "source": [
    "df.engine_capacity_cc_size.value_counts()"
   ]
  },
  {
   "cell_type": "code",
   "execution_count": 83,
   "metadata": {},
   "outputs": [
    {
     "data": {
      "text/plain": [
       "(561135, 60)"
      ]
     },
     "execution_count": 83,
     "metadata": {},
     "output_type": "execute_result"
    }
   ],
   "source": [
    "#Put above pickle in next full run\n",
    "#create new column for Machine Learning and Visualizations with Not Serious and Serious\n",
    "df['accident_seriousness'] = df['accident_severity']\n",
    "df['accident_seriousness'] = df['accident_seriousness'].replace(to_replace=\"Slight\", \n",
    "                                                                value=\"Not Serious\")\n",
    "df['accident_seriousness'] = df['accident_seriousness'].replace(to_replace=\"Serious\",\n",
    "                                                                value=\"Serious\")\n",
    "df['accident_seriousness'] = df['accident_seriousness'].replace(to_replace=\"Fatal\", \n",
    "                                                                value=\"Serious\")\n",
    "df.shape"
   ]
  },
  {
   "cell_type": "code",
   "execution_count": 84,
   "metadata": {},
   "outputs": [
    {
     "data": {
      "text/plain": [
       "Not Serious    492804\n",
       "Serious         68331\n",
       "Name: accident_seriousness, dtype: int64"
      ]
     },
     "execution_count": 84,
     "metadata": {},
     "output_type": "execute_result"
    }
   ],
   "source": [
    "df.accident_seriousness.value_counts()"
   ]
  },
  {
   "cell_type": "code",
   "execution_count": 5,
   "metadata": {},
   "outputs": [],
   "source": [
    "#pickling everything to speed up restarting\n",
    "df.to_pickle(\"df.pkl\")"
   ]
  },
  {
   "cell_type": "code",
   "execution_count": 6,
   "metadata": {
    "scrolled": true
   },
   "outputs": [
    {
     "data": {
      "text/html": [
       "<div>\n",
       "<style scoped>\n",
       "    .dataframe tbody tr th:only-of-type {\n",
       "        vertical-align: middle;\n",
       "    }\n",
       "\n",
       "    .dataframe tbody tr th {\n",
       "        vertical-align: top;\n",
       "    }\n",
       "\n",
       "    .dataframe thead th {\n",
       "        text-align: right;\n",
       "    }\n",
       "</style>\n",
       "<table border=\"1\" class=\"dataframe\">\n",
       "  <thead>\n",
       "    <tr style=\"text-align: right;\">\n",
       "      <th></th>\n",
       "      <th>accident_index</th>\n",
       "      <th>1st_road_class</th>\n",
       "      <th>1st_road_number</th>\n",
       "      <th>2nd_road_number</th>\n",
       "      <th>accident_severity</th>\n",
       "      <th>carriageway_hazards</th>\n",
       "      <th>date</th>\n",
       "      <th>day_of_week</th>\n",
       "      <th>did_police_officer_attend_scene_of_accident</th>\n",
       "      <th>junction_control</th>\n",
       "      <th>...</th>\n",
       "      <th>vehicle_type</th>\n",
       "      <th>was_vehicle_left_hand_drive</th>\n",
       "      <th>x1st_point_of_impact</th>\n",
       "      <th>month</th>\n",
       "      <th>weekend</th>\n",
       "      <th>hour</th>\n",
       "      <th>time_of_day</th>\n",
       "      <th>season</th>\n",
       "      <th>engine_capacity_cc_size</th>\n",
       "      <th>accident_seriousness</th>\n",
       "    </tr>\n",
       "  </thead>\n",
       "  <tbody>\n",
       "    <tr>\n",
       "      <th>0</th>\n",
       "      <td>201001BS70003</td>\n",
       "      <td>B</td>\n",
       "      <td>302</td>\n",
       "      <td>0</td>\n",
       "      <td>Slight</td>\n",
       "      <td>None</td>\n",
       "      <td>2010-01-11</td>\n",
       "      <td>Monday</td>\n",
       "      <td>1</td>\n",
       "      <td>Give way or uncontrolled</td>\n",
       "      <td>...</td>\n",
       "      <td>Goods Vehicle</td>\n",
       "      <td>No</td>\n",
       "      <td>Front</td>\n",
       "      <td>1</td>\n",
       "      <td>0</td>\n",
       "      <td>7</td>\n",
       "      <td>1</td>\n",
       "      <td>winter</td>\n",
       "      <td>small engine cc</td>\n",
       "      <td>Not Serious</td>\n",
       "    </tr>\n",
       "    <tr>\n",
       "      <th>1</th>\n",
       "      <td>201001BS70004</td>\n",
       "      <td>A</td>\n",
       "      <td>402</td>\n",
       "      <td>4204</td>\n",
       "      <td>Slight</td>\n",
       "      <td>None</td>\n",
       "      <td>2010-01-11</td>\n",
       "      <td>Monday</td>\n",
       "      <td>1</td>\n",
       "      <td>Auto traffic signal</td>\n",
       "      <td>...</td>\n",
       "      <td>Car</td>\n",
       "      <td>No</td>\n",
       "      <td>Front</td>\n",
       "      <td>1</td>\n",
       "      <td>0</td>\n",
       "      <td>18</td>\n",
       "      <td>6</td>\n",
       "      <td>winter</td>\n",
       "      <td>medium engine cc</td>\n",
       "      <td>Not Serious</td>\n",
       "    </tr>\n",
       "    <tr>\n",
       "      <th>3</th>\n",
       "      <td>201001BS70007</td>\n",
       "      <td>Unclassified</td>\n",
       "      <td>0</td>\n",
       "      <td>0</td>\n",
       "      <td>Slight</td>\n",
       "      <td>None</td>\n",
       "      <td>2010-01-02</td>\n",
       "      <td>Saturday</td>\n",
       "      <td>1</td>\n",
       "      <td>Give way or uncontrolled</td>\n",
       "      <td>...</td>\n",
       "      <td>Car</td>\n",
       "      <td>No</td>\n",
       "      <td>Nearside</td>\n",
       "      <td>1</td>\n",
       "      <td>1</td>\n",
       "      <td>21</td>\n",
       "      <td>6</td>\n",
       "      <td>winter</td>\n",
       "      <td>medium engine cc</td>\n",
       "      <td>Not Serious</td>\n",
       "    </tr>\n",
       "    <tr>\n",
       "      <th>4</th>\n",
       "      <td>201001BS70007</td>\n",
       "      <td>Unclassified</td>\n",
       "      <td>0</td>\n",
       "      <td>0</td>\n",
       "      <td>Slight</td>\n",
       "      <td>None</td>\n",
       "      <td>2010-01-02</td>\n",
       "      <td>Saturday</td>\n",
       "      <td>1</td>\n",
       "      <td>Give way or uncontrolled</td>\n",
       "      <td>...</td>\n",
       "      <td>Car</td>\n",
       "      <td>No</td>\n",
       "      <td>Front</td>\n",
       "      <td>1</td>\n",
       "      <td>1</td>\n",
       "      <td>21</td>\n",
       "      <td>6</td>\n",
       "      <td>winter</td>\n",
       "      <td>small engine cc</td>\n",
       "      <td>Not Serious</td>\n",
       "    </tr>\n",
       "    <tr>\n",
       "      <th>5</th>\n",
       "      <td>201001BS70008</td>\n",
       "      <td>A</td>\n",
       "      <td>3217</td>\n",
       "      <td>3220</td>\n",
       "      <td>Slight</td>\n",
       "      <td>None</td>\n",
       "      <td>2010-01-04</td>\n",
       "      <td>Monday</td>\n",
       "      <td>1</td>\n",
       "      <td>Auto traffic signal</td>\n",
       "      <td>...</td>\n",
       "      <td>Car</td>\n",
       "      <td>No</td>\n",
       "      <td>Nearside</td>\n",
       "      <td>1</td>\n",
       "      <td>0</td>\n",
       "      <td>20</td>\n",
       "      <td>6</td>\n",
       "      <td>winter</td>\n",
       "      <td>medium engine cc</td>\n",
       "      <td>Not Serious</td>\n",
       "    </tr>\n",
       "  </tbody>\n",
       "</table>\n",
       "<p>5 rows × 60 columns</p>\n",
       "</div>"
      ],
      "text/plain": [
       "  accident_index 1st_road_class 1st_road_number 2nd_road_number  \\\n",
       "0  201001BS70003              B             302               0   \n",
       "1  201001BS70004              A             402            4204   \n",
       "3  201001BS70007   Unclassified               0               0   \n",
       "4  201001BS70007   Unclassified               0               0   \n",
       "5  201001BS70008              A            3217            3220   \n",
       "\n",
       "  accident_severity carriageway_hazards       date day_of_week  \\\n",
       "0            Slight                None 2010-01-11      Monday   \n",
       "1            Slight                None 2010-01-11      Monday   \n",
       "3            Slight                None 2010-01-02    Saturday   \n",
       "4            Slight                None 2010-01-02    Saturday   \n",
       "5            Slight                None 2010-01-04      Monday   \n",
       "\n",
       "  did_police_officer_attend_scene_of_accident          junction_control  ...  \\\n",
       "0                                           1  Give way or uncontrolled  ...   \n",
       "1                                           1       Auto traffic signal  ...   \n",
       "3                                           1  Give way or uncontrolled  ...   \n",
       "4                                           1  Give way or uncontrolled  ...   \n",
       "5                                           1       Auto traffic signal  ...   \n",
       "\n",
       "    vehicle_type  was_vehicle_left_hand_drive x1st_point_of_impact month  \\\n",
       "0  Goods Vehicle                           No                Front     1   \n",
       "1            Car                           No                Front     1   \n",
       "3            Car                           No             Nearside     1   \n",
       "4            Car                           No                Front     1   \n",
       "5            Car                           No             Nearside     1   \n",
       "\n",
       "  weekend  hour time_of_day  season engine_capacity_cc_size  \\\n",
       "0       0     7           1  winter         small engine cc   \n",
       "1       0    18           6  winter        medium engine cc   \n",
       "3       1    21           6  winter        medium engine cc   \n",
       "4       1    21           6  winter         small engine cc   \n",
       "5       0    20           6  winter        medium engine cc   \n",
       "\n",
       "  accident_seriousness  \n",
       "0          Not Serious  \n",
       "1          Not Serious  \n",
       "3          Not Serious  \n",
       "4          Not Serious  \n",
       "5          Not Serious  \n",
       "\n",
       "[5 rows x 60 columns]"
      ]
     },
     "execution_count": 6,
     "metadata": {},
     "output_type": "execute_result"
    }
   ],
   "source": [
    "#import pickled file\n",
    "df = pd.read_pickle(\"df.pkl\")\n",
    "df.head()"
   ]
  },
  {
   "cell_type": "markdown",
   "metadata": {},
   "source": [
    "__[UK Road Safety: Traffic Accidents and Vehicles Visualizations and Solution](UK_Road_Safety_Traffic_Accidents_and_Vehicles_Visualizations_and_Solution.ipynb)__<br>\n",
    "__[UK Road Safety: Traffic Accidents and Vehicles Visualizations and Solution: Github Link](https://github.com/GenTaylor/Traffic-Accident-Analysis/blob/master/UK_Road_Safety_Traffic_Accidents_and_Vehicles_Visualizations_and_Solution.ipynb)__<br>\n"
   ]
  },
  {
   "cell_type": "markdown",
   "metadata": {},
   "source": [
    "Genesis L. Taylor<br>\n",
    "[Github](https://github.com/GenTaylor/) | [Linkedin](https://linkedin.com/in/genesistaylor/) | [Tableau](https://public.tableau.com/profile/genesis.taylor#!/) | [genesisltaylor@gmail.com](mailto:genesisltaylor@gmail.com)\n"
   ]
  }
 ],
 "metadata": {
  "kernelspec": {
   "display_name": "Python 3",
   "language": "python",
   "name": "python3"
  },
  "language_info": {
   "codemirror_mode": {
    "name": "ipython",
    "version": 3
   },
   "file_extension": ".py",
   "mimetype": "text/x-python",
   "name": "python",
   "nbconvert_exporter": "python",
   "pygments_lexer": "ipython3",
   "version": "3.7.3"
  }
 },
 "nbformat": 4,
 "nbformat_minor": 4
}
