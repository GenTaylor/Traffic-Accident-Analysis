{
 "cells": [
  {
   "cell_type": "markdown",
   "metadata": {},
   "source": [
    " ## UK Road Safety: Traffic Accidents and Vehicles Machine Learning\n",
    " \n",
    " The goal of this project is the investigate what causes Serious and Fatal accidents in hopes of preventing and decreasing the number of them. The dataset consists of accident records from the UK over the course of 15+ years. I hope to show the causes of these accidents through visualizations and create an algorithm that can predict the severity of accidents. \n",
    " \n",
    "The UK government collects and publishes (usually on an annual basis) detailed information about traffic accidents across the country. This information includes, but is not limited to, geographical locations, weather conditions, type of vehicles, number of casualties and vehicle manoeuvres, making this a very interesting and comprehensive dataset for analysis and research.\n",
    "\n",
    "The data that I'm using is compiled and available through [Kaggle](https://www.kaggle.com/tsiaras/uk-road-safety-accidents-and-vehicles) and in a less compliled form, [here](https://beta.ukdataservice.ac.uk/datacatalogue/series/series?id=2000045). "
   ]
  },
  {
   "cell_type": "markdown",
   "metadata": {},
   "source": [
    "Genesis L. Taylor<br>\n",
    "[Github](https://github.com/GenTaylor/) | [Linkedin](https://linkedin.com/in/genesistaylor/) | [Tableau](https://public.tableau.com/profile/genesis.taylor#!/) | [genesisltaylor@gmail.com](mailto:genesisltaylor@gmail.com)\n"
   ]
  },
  {
   "cell_type": "markdown",
   "metadata": {},
   "source": [
    "Problem: Traffic Accidents<br>\n",
    "Solution Method: Use data to figure out how to lower the number of accidents and the severity of them."
   ]
  },
  {
   "cell_type": "markdown",
   "metadata": {},
   "source": [
    "* [Machine Learning](#Machine-Learning)<br>\n",
    "    * [Preprocessing](#Preprocessing)<br>\n",
    "    * [Imbalanced Data](#Imbalanced-Data)<br>\n",
    "    * [Resample: Undersampling](#Resample:-Undersampling)<br>\n",
    "    * [Unsupervised Learning](#Unsupervised-Learning)<br>\n",
    "    * [Supervised Learning with Resampling as Undersampling](#Supervised-Learning-with-Resampling-as-Undersampling)<br>\n",
    "    * [Supervised Learning Results](#Supervised-Learning-Results)<br>"
   ]
  },
  {
   "cell_type": "markdown",
   "metadata": {},
   "source": [
    "### Links to Other Notebooks And Presentation\n",
    "__[UK Road Safety: Traffic Accidents and Vehicles Introduction, Data Cleaning, and Feature Manipulation](UK_Road_Safety_Traffic_Accidents_and_Vehicles_Data_Cleaning_and_Feature_Manipulation.ipynb)__<br>\n",
    "__[UK Road Safety: Traffic Accidents and Vehicles Introduction, Data Cleaning, and Feature Manipulation: Github Link](https://github.com/GenTaylor/Traffic-Accident-Analysis/blob/master/UK_Road_Safety_Traffic_Accidents_and_Vehicles_Data_Cleaning_and_Feature_Manipulation.ipynb)__<br>\n",
    "<br>\n",
    "\n",
    "__[UK Road Safety: Traffic Accidents and Vehicles Visualizations and Solution](UK_Road_Safety_Traffic_Accidents_and_Vehicles_Visualizations_and_Solution.ipynb)__<br>\n",
    "__[UK Road Safety: Traffic Accidents and Vehicles Visualizations and Solution: Github Link](https://github.com/GenTaylor/Traffic-Accident-Analysis/blob/master/UK_Road_Safety_Traffic_Accidents_and_Vehicles_Visualizations_and_Solution.ipynb)__<br>\n",
    "<br>\n",
    "__[UK Road Safety: Traffic Accidents and Vehicles Machine Learning](UK_Road_Safety_Traffic_Accidents_and_Vehicles_Machine_Learning.ipynb)__<br>\n",
    "__[UK Road Safety: Traffic Accidents and Vehicles Machine Learning: Github Link](https://github.com/GenTaylor/Traffic-Accident-Analysis/blob/master/UK_Road_Safety_Traffic_Accidents_and_Vehicles_Machine_Learning.ipynb)__<br>\n",
    "<br>\n",
    "__[Traffic Analysis and Severity Prediction Powerpoint Presentation](\"Traffic_Analysis_and_Severity_Prediction.pptx\")__<br>\n",
    "__[Traffic Analysis and Severity Prediction Powerpoint Presentation: Github Link](https://github.com/GenTaylor/Traffic-Accident-Analysis/blob/master/Traffic_Analysis_and_Severity_Prediction.pptx)__<br>"
   ]
  },
  {
   "cell_type": "markdown",
   "metadata": {},
   "source": [
    "### Importing and Data Merging"
   ]
  },
  {
   "cell_type": "code",
   "execution_count": 1,
   "metadata": {},
   "outputs": [],
   "source": [
    "#Import modules\n",
    "import numpy as np\n",
    "import holidays\n",
    "import pandas as pd\n",
    "import seaborn as sns\n",
    "import pickle\n",
    "import time\n",
    "import timeit\n",
    "\n",
    "\n",
    "import matplotlib.pyplot as plt\n",
    "plt.style.use('dark_background')\n",
    "%matplotlib inline\n",
    "\n",
    "import datetime\n",
    "import math\n",
    "from collections import Counter\n",
    "\n",
    "#scipy\n",
    "import scipy.stats as stats\n",
    "from scipy import stats\n",
    "from scipy.stats import chi2_contingency\n",
    "\n",
    "#sklearn\n",
    "import sklearn\n",
    "from sklearn import ensemble\n",
    "from sklearn import preprocessing\n",
    "from sklearn.decomposition import PCA\n",
    "from sklearn.ensemble import AdaBoostClassifier, BaggingClassifier, ExtraTreesClassifier\n",
    "from sklearn.ensemble import RandomForestClassifier\n",
    "from sklearn.feature_selection import SelectFromModel\n",
    "from sklearn.impute import SimpleImputer\n",
    "from sklearn.linear_model import LogisticRegression\n",
    "from sklearn.metrics import accuracy_score, f1_score, precision_score, recall_score \n",
    "from sklearn.metrics import classification_report, confusion_matrix, roc_auc_score\n",
    "from sklearn.model_selection import cross_val_score, GridSearchCV, train_test_split\n",
    "from sklearn.preprocessing import LabelEncoder, OneHotEncoder, StandardScaler, OrdinalEncoder\n",
    "from sklearn.svm import SVC\n",
    "from sklearn.tree import DecisionTreeClassifier\n",
    "from sklearn.utils import resample\n",
    "\n",
    "#for clustering\n",
    "from sklearn.cluster import KMeans\n",
    "from sklearn.preprocessing import normalize\n",
    "from sklearn.decomposition import PCA\n",
    "from sklearn.cluster import MiniBatchKMeans\n",
    "from sklearn.metrics import silhouette_score\n",
    "\n",
    "#other learners\n",
    "from xgboost import XGBClassifier\n",
    "import lightgbm as lgb\n",
    "from kmodes.kmodes import KModes\n",
    "\n",
    "#imblearn\n",
    "from imblearn.ensemble import BalancedBaggingClassifier\n",
    "from imblearn.ensemble import EasyEnsembleClassifier\n",
    "from imblearn.ensemble import BalancedRandomForestClassifier\n",
    "\n",
    "#webscraping\n",
    "import requests\n",
    "from bs4 import BeautifulSoup\n",
    "import re\n",
    "import urllib\n",
    "from IPython.core.display import HTML\n",
    "\n",
    "#time series\n",
    "import statsmodels.api as sm\n",
    "from pylab import rcParams\n",
    "import itertools\n",
    "from statsmodels.tsa.stattools import adfuller\n",
    "from statsmodels.tsa.stattools import acf, pacf\n",
    "from statsmodels.tsa.seasonal import seasonal_decompose\n",
    "from statsmodels.tsa.arima_model import ARIMA\n",
    "\n",
    "\n",
    "#warning ignorer\n",
    "import warnings\n",
    "warnings.filterwarnings(\"ignore\")"
   ]
  },
  {
   "cell_type": "code",
   "execution_count": 2,
   "metadata": {},
   "outputs": [],
   "source": [
    "# # #DATAFRAME PICKLE CREATED IN CELLS BELOW INSTEAD OF RUNNING THROUGH ENTIRE PROCESS AFTER RESTARTING\n",
    "# # #import pickled file\n",
    "#df = pd.read_pickle(\"df.pkl\")\n",
    "# df.to_csv('uktraffic_acc.csv') "
   ]
  },
  {
   "cell_type": "markdown",
   "metadata": {},
   "source": [
    "## Machine Learning"
   ]
  },
  {
   "cell_type": "code",
   "execution_count": 6,
   "metadata": {},
   "outputs": [
    {
     "data": {
      "text/html": [
       "<div>\n",
       "<style scoped>\n",
       "    .dataframe tbody tr th:only-of-type {\n",
       "        vertical-align: middle;\n",
       "    }\n",
       "\n",
       "    .dataframe tbody tr th {\n",
       "        vertical-align: top;\n",
       "    }\n",
       "\n",
       "    .dataframe thead th {\n",
       "        text-align: right;\n",
       "    }\n",
       "</style>\n",
       "<table border=\"1\" class=\"dataframe\">\n",
       "  <thead>\n",
       "    <tr style=\"text-align: right;\">\n",
       "      <th></th>\n",
       "      <th>1st_road_class</th>\n",
       "      <th>1st_road_number</th>\n",
       "      <th>2nd_road_number</th>\n",
       "      <th>accident_severity</th>\n",
       "      <th>carriageway_hazards</th>\n",
       "      <th>date</th>\n",
       "      <th>day_of_week</th>\n",
       "      <th>did_police_officer_attend_scene_of_accident</th>\n",
       "      <th>junction_control</th>\n",
       "      <th>junction_detail</th>\n",
       "      <th>...</th>\n",
       "      <th>vehicle_type</th>\n",
       "      <th>was_vehicle_left_hand_drive</th>\n",
       "      <th>x1st_point_of_impact</th>\n",
       "      <th>month</th>\n",
       "      <th>weekend</th>\n",
       "      <th>hour</th>\n",
       "      <th>time_of_day</th>\n",
       "      <th>season</th>\n",
       "      <th>engine_capacity_cc_size</th>\n",
       "      <th>accident_seriousness</th>\n",
       "    </tr>\n",
       "    <tr>\n",
       "      <th>accident_index</th>\n",
       "      <th></th>\n",
       "      <th></th>\n",
       "      <th></th>\n",
       "      <th></th>\n",
       "      <th></th>\n",
       "      <th></th>\n",
       "      <th></th>\n",
       "      <th></th>\n",
       "      <th></th>\n",
       "      <th></th>\n",
       "      <th></th>\n",
       "      <th></th>\n",
       "      <th></th>\n",
       "      <th></th>\n",
       "      <th></th>\n",
       "      <th></th>\n",
       "      <th></th>\n",
       "      <th></th>\n",
       "      <th></th>\n",
       "      <th></th>\n",
       "      <th></th>\n",
       "    </tr>\n",
       "  </thead>\n",
       "  <tbody>\n",
       "    <tr>\n",
       "      <th>201001BS70003</th>\n",
       "      <td>B</td>\n",
       "      <td>302</td>\n",
       "      <td>0</td>\n",
       "      <td>Slight</td>\n",
       "      <td>None</td>\n",
       "      <td>2010-01-11</td>\n",
       "      <td>Monday</td>\n",
       "      <td>1</td>\n",
       "      <td>Give way or uncontrolled</td>\n",
       "      <td>T or staggered junction</td>\n",
       "      <td>...</td>\n",
       "      <td>Goods Vehicle</td>\n",
       "      <td>No</td>\n",
       "      <td>Front</td>\n",
       "      <td>1</td>\n",
       "      <td>0</td>\n",
       "      <td>7</td>\n",
       "      <td>1</td>\n",
       "      <td>winter</td>\n",
       "      <td>small engine cc</td>\n",
       "      <td>Not Serious</td>\n",
       "    </tr>\n",
       "    <tr>\n",
       "      <th>201001BS70004</th>\n",
       "      <td>A</td>\n",
       "      <td>402</td>\n",
       "      <td>4204</td>\n",
       "      <td>Slight</td>\n",
       "      <td>None</td>\n",
       "      <td>2010-01-11</td>\n",
       "      <td>Monday</td>\n",
       "      <td>1</td>\n",
       "      <td>Auto traffic signal</td>\n",
       "      <td>T or staggered junction</td>\n",
       "      <td>...</td>\n",
       "      <td>Car</td>\n",
       "      <td>No</td>\n",
       "      <td>Front</td>\n",
       "      <td>1</td>\n",
       "      <td>0</td>\n",
       "      <td>18</td>\n",
       "      <td>6</td>\n",
       "      <td>winter</td>\n",
       "      <td>medium engine cc</td>\n",
       "      <td>Not Serious</td>\n",
       "    </tr>\n",
       "    <tr>\n",
       "      <th>201001BS70007</th>\n",
       "      <td>Unclassified</td>\n",
       "      <td>0</td>\n",
       "      <td>0</td>\n",
       "      <td>Slight</td>\n",
       "      <td>None</td>\n",
       "      <td>2010-01-02</td>\n",
       "      <td>Saturday</td>\n",
       "      <td>1</td>\n",
       "      <td>Give way or uncontrolled</td>\n",
       "      <td>Mini-roundabout</td>\n",
       "      <td>...</td>\n",
       "      <td>Car</td>\n",
       "      <td>No</td>\n",
       "      <td>Nearside</td>\n",
       "      <td>1</td>\n",
       "      <td>1</td>\n",
       "      <td>21</td>\n",
       "      <td>6</td>\n",
       "      <td>winter</td>\n",
       "      <td>medium engine cc</td>\n",
       "      <td>Not Serious</td>\n",
       "    </tr>\n",
       "    <tr>\n",
       "      <th>201001BS70007</th>\n",
       "      <td>Unclassified</td>\n",
       "      <td>0</td>\n",
       "      <td>0</td>\n",
       "      <td>Slight</td>\n",
       "      <td>None</td>\n",
       "      <td>2010-01-02</td>\n",
       "      <td>Saturday</td>\n",
       "      <td>1</td>\n",
       "      <td>Give way or uncontrolled</td>\n",
       "      <td>Mini-roundabout</td>\n",
       "      <td>...</td>\n",
       "      <td>Car</td>\n",
       "      <td>No</td>\n",
       "      <td>Front</td>\n",
       "      <td>1</td>\n",
       "      <td>1</td>\n",
       "      <td>21</td>\n",
       "      <td>6</td>\n",
       "      <td>winter</td>\n",
       "      <td>small engine cc</td>\n",
       "      <td>Not Serious</td>\n",
       "    </tr>\n",
       "    <tr>\n",
       "      <th>201001BS70008</th>\n",
       "      <td>A</td>\n",
       "      <td>3217</td>\n",
       "      <td>3220</td>\n",
       "      <td>Slight</td>\n",
       "      <td>None</td>\n",
       "      <td>2010-01-04</td>\n",
       "      <td>Monday</td>\n",
       "      <td>1</td>\n",
       "      <td>Auto traffic signal</td>\n",
       "      <td>Crossroads</td>\n",
       "      <td>...</td>\n",
       "      <td>Car</td>\n",
       "      <td>No</td>\n",
       "      <td>Nearside</td>\n",
       "      <td>1</td>\n",
       "      <td>0</td>\n",
       "      <td>20</td>\n",
       "      <td>6</td>\n",
       "      <td>winter</td>\n",
       "      <td>medium engine cc</td>\n",
       "      <td>Not Serious</td>\n",
       "    </tr>\n",
       "  </tbody>\n",
       "</table>\n",
       "<p>5 rows × 59 columns</p>\n",
       "</div>"
      ],
      "text/plain": [
       "               1st_road_class 1st_road_number 2nd_road_number  \\\n",
       "accident_index                                                  \n",
       "201001BS70003               B             302               0   \n",
       "201001BS70004               A             402            4204   \n",
       "201001BS70007    Unclassified               0               0   \n",
       "201001BS70007    Unclassified               0               0   \n",
       "201001BS70008               A            3217            3220   \n",
       "\n",
       "               accident_severity carriageway_hazards       date day_of_week  \\\n",
       "accident_index                                                                \n",
       "201001BS70003             Slight                None 2010-01-11      Monday   \n",
       "201001BS70004             Slight                None 2010-01-11      Monday   \n",
       "201001BS70007             Slight                None 2010-01-02    Saturday   \n",
       "201001BS70007             Slight                None 2010-01-02    Saturday   \n",
       "201001BS70008             Slight                None 2010-01-04      Monday   \n",
       "\n",
       "               did_police_officer_attend_scene_of_accident  \\\n",
       "accident_index                                               \n",
       "201001BS70003                                            1   \n",
       "201001BS70004                                            1   \n",
       "201001BS70007                                            1   \n",
       "201001BS70007                                            1   \n",
       "201001BS70008                                            1   \n",
       "\n",
       "                        junction_control          junction_detail  ...  \\\n",
       "accident_index                                                     ...   \n",
       "201001BS70003   Give way or uncontrolled  T or staggered junction  ...   \n",
       "201001BS70004        Auto traffic signal  T or staggered junction  ...   \n",
       "201001BS70007   Give way or uncontrolled          Mini-roundabout  ...   \n",
       "201001BS70007   Give way or uncontrolled          Mini-roundabout  ...   \n",
       "201001BS70008        Auto traffic signal               Crossroads  ...   \n",
       "\n",
       "                 vehicle_type was_vehicle_left_hand_drive  \\\n",
       "accident_index                                              \n",
       "201001BS70003   Goods Vehicle                          No   \n",
       "201001BS70004             Car                          No   \n",
       "201001BS70007             Car                          No   \n",
       "201001BS70007             Car                          No   \n",
       "201001BS70008             Car                          No   \n",
       "\n",
       "               x1st_point_of_impact month  weekend hour time_of_day  season  \\\n",
       "accident_index                                                                \n",
       "201001BS70003                 Front     1        0    7           1  winter   \n",
       "201001BS70004                 Front     1        0   18           6  winter   \n",
       "201001BS70007              Nearside     1        1   21           6  winter   \n",
       "201001BS70007                 Front     1        1   21           6  winter   \n",
       "201001BS70008              Nearside     1        0   20           6  winter   \n",
       "\n",
       "               engine_capacity_cc_size accident_seriousness  \n",
       "accident_index                                               \n",
       "201001BS70003          small engine cc          Not Serious  \n",
       "201001BS70004         medium engine cc          Not Serious  \n",
       "201001BS70007         medium engine cc          Not Serious  \n",
       "201001BS70007          small engine cc          Not Serious  \n",
       "201001BS70008         medium engine cc          Not Serious  \n",
       "\n",
       "[5 rows x 59 columns]"
      ]
     },
     "execution_count": 6,
     "metadata": {},
     "output_type": "execute_result"
    }
   ],
   "source": [
    "#made separate dataframe w. set index that wouldnt effect data vis above\n",
    "df1=df\n",
    "#set index to accident_index\n",
    "df1.set_index('accident_index', inplace=True)\n",
    "df1.head()"
   ]
  },
  {
   "cell_type": "code",
   "execution_count": 7,
   "metadata": {},
   "outputs": [],
   "source": [
    "df1 = df1.drop(['accident_severity'],axis=1)"
   ]
  },
  {
   "cell_type": "code",
   "execution_count": 8,
   "metadata": {},
   "outputs": [
    {
     "data": {
      "text/html": [
       "<div>\n",
       "<style scoped>\n",
       "    .dataframe tbody tr th:only-of-type {\n",
       "        vertical-align: middle;\n",
       "    }\n",
       "\n",
       "    .dataframe tbody tr th {\n",
       "        vertical-align: top;\n",
       "    }\n",
       "\n",
       "    .dataframe thead th {\n",
       "        text-align: right;\n",
       "    }\n",
       "</style>\n",
       "<table border=\"1\" class=\"dataframe\">\n",
       "  <thead>\n",
       "    <tr style=\"text-align: right;\">\n",
       "      <th></th>\n",
       "      <th>1st_road_class</th>\n",
       "      <th>1st_road_number</th>\n",
       "      <th>2nd_road_number</th>\n",
       "      <th>carriageway_hazards</th>\n",
       "      <th>date</th>\n",
       "      <th>day_of_week</th>\n",
       "      <th>did_police_officer_attend_scene_of_accident</th>\n",
       "      <th>junction_control</th>\n",
       "      <th>junction_detail</th>\n",
       "      <th>latitude</th>\n",
       "      <th>...</th>\n",
       "      <th>vehicle_type</th>\n",
       "      <th>was_vehicle_left_hand_drive</th>\n",
       "      <th>x1st_point_of_impact</th>\n",
       "      <th>month</th>\n",
       "      <th>weekend</th>\n",
       "      <th>hour</th>\n",
       "      <th>time_of_day</th>\n",
       "      <th>season</th>\n",
       "      <th>engine_capacity_cc_size</th>\n",
       "      <th>accident_seriousness</th>\n",
       "    </tr>\n",
       "    <tr>\n",
       "      <th>accident_index</th>\n",
       "      <th></th>\n",
       "      <th></th>\n",
       "      <th></th>\n",
       "      <th></th>\n",
       "      <th></th>\n",
       "      <th></th>\n",
       "      <th></th>\n",
       "      <th></th>\n",
       "      <th></th>\n",
       "      <th></th>\n",
       "      <th></th>\n",
       "      <th></th>\n",
       "      <th></th>\n",
       "      <th></th>\n",
       "      <th></th>\n",
       "      <th></th>\n",
       "      <th></th>\n",
       "      <th></th>\n",
       "      <th></th>\n",
       "      <th></th>\n",
       "      <th></th>\n",
       "    </tr>\n",
       "  </thead>\n",
       "  <tbody>\n",
       "    <tr>\n",
       "      <th>201001BS70003</th>\n",
       "      <td>B</td>\n",
       "      <td>302</td>\n",
       "      <td>0</td>\n",
       "      <td>None</td>\n",
       "      <td>2010-01-11</td>\n",
       "      <td>Monday</td>\n",
       "      <td>1</td>\n",
       "      <td>Give way or uncontrolled</td>\n",
       "      <td>T or staggered junction</td>\n",
       "      <td>51.484087</td>\n",
       "      <td>...</td>\n",
       "      <td>Goods Vehicle</td>\n",
       "      <td>No</td>\n",
       "      <td>Front</td>\n",
       "      <td>1</td>\n",
       "      <td>0</td>\n",
       "      <td>7</td>\n",
       "      <td>1</td>\n",
       "      <td>winter</td>\n",
       "      <td>small engine cc</td>\n",
       "      <td>Not Serious</td>\n",
       "    </tr>\n",
       "    <tr>\n",
       "      <th>201001BS70004</th>\n",
       "      <td>A</td>\n",
       "      <td>402</td>\n",
       "      <td>4204</td>\n",
       "      <td>None</td>\n",
       "      <td>2010-01-11</td>\n",
       "      <td>Monday</td>\n",
       "      <td>1</td>\n",
       "      <td>Auto traffic signal</td>\n",
       "      <td>T or staggered junction</td>\n",
       "      <td>51.509212</td>\n",
       "      <td>...</td>\n",
       "      <td>Car</td>\n",
       "      <td>No</td>\n",
       "      <td>Front</td>\n",
       "      <td>1</td>\n",
       "      <td>0</td>\n",
       "      <td>18</td>\n",
       "      <td>6</td>\n",
       "      <td>winter</td>\n",
       "      <td>medium engine cc</td>\n",
       "      <td>Not Serious</td>\n",
       "    </tr>\n",
       "    <tr>\n",
       "      <th>201001BS70007</th>\n",
       "      <td>Unclassified</td>\n",
       "      <td>0</td>\n",
       "      <td>0</td>\n",
       "      <td>None</td>\n",
       "      <td>2010-01-02</td>\n",
       "      <td>Saturday</td>\n",
       "      <td>1</td>\n",
       "      <td>Give way or uncontrolled</td>\n",
       "      <td>Mini-roundabout</td>\n",
       "      <td>51.513314</td>\n",
       "      <td>...</td>\n",
       "      <td>Car</td>\n",
       "      <td>No</td>\n",
       "      <td>Nearside</td>\n",
       "      <td>1</td>\n",
       "      <td>1</td>\n",
       "      <td>21</td>\n",
       "      <td>6</td>\n",
       "      <td>winter</td>\n",
       "      <td>medium engine cc</td>\n",
       "      <td>Not Serious</td>\n",
       "    </tr>\n",
       "    <tr>\n",
       "      <th>201001BS70007</th>\n",
       "      <td>Unclassified</td>\n",
       "      <td>0</td>\n",
       "      <td>0</td>\n",
       "      <td>None</td>\n",
       "      <td>2010-01-02</td>\n",
       "      <td>Saturday</td>\n",
       "      <td>1</td>\n",
       "      <td>Give way or uncontrolled</td>\n",
       "      <td>Mini-roundabout</td>\n",
       "      <td>51.513314</td>\n",
       "      <td>...</td>\n",
       "      <td>Car</td>\n",
       "      <td>No</td>\n",
       "      <td>Front</td>\n",
       "      <td>1</td>\n",
       "      <td>1</td>\n",
       "      <td>21</td>\n",
       "      <td>6</td>\n",
       "      <td>winter</td>\n",
       "      <td>small engine cc</td>\n",
       "      <td>Not Serious</td>\n",
       "    </tr>\n",
       "    <tr>\n",
       "      <th>201001BS70008</th>\n",
       "      <td>A</td>\n",
       "      <td>3217</td>\n",
       "      <td>3220</td>\n",
       "      <td>None</td>\n",
       "      <td>2010-01-04</td>\n",
       "      <td>Monday</td>\n",
       "      <td>1</td>\n",
       "      <td>Auto traffic signal</td>\n",
       "      <td>Crossroads</td>\n",
       "      <td>51.484361</td>\n",
       "      <td>...</td>\n",
       "      <td>Car</td>\n",
       "      <td>No</td>\n",
       "      <td>Nearside</td>\n",
       "      <td>1</td>\n",
       "      <td>0</td>\n",
       "      <td>20</td>\n",
       "      <td>6</td>\n",
       "      <td>winter</td>\n",
       "      <td>medium engine cc</td>\n",
       "      <td>Not Serious</td>\n",
       "    </tr>\n",
       "  </tbody>\n",
       "</table>\n",
       "<p>5 rows × 58 columns</p>\n",
       "</div>"
      ],
      "text/plain": [
       "               1st_road_class 1st_road_number 2nd_road_number  \\\n",
       "accident_index                                                  \n",
       "201001BS70003               B             302               0   \n",
       "201001BS70004               A             402            4204   \n",
       "201001BS70007    Unclassified               0               0   \n",
       "201001BS70007    Unclassified               0               0   \n",
       "201001BS70008               A            3217            3220   \n",
       "\n",
       "               carriageway_hazards       date day_of_week  \\\n",
       "accident_index                                              \n",
       "201001BS70003                 None 2010-01-11      Monday   \n",
       "201001BS70004                 None 2010-01-11      Monday   \n",
       "201001BS70007                 None 2010-01-02    Saturday   \n",
       "201001BS70007                 None 2010-01-02    Saturday   \n",
       "201001BS70008                 None 2010-01-04      Monday   \n",
       "\n",
       "               did_police_officer_attend_scene_of_accident  \\\n",
       "accident_index                                               \n",
       "201001BS70003                                            1   \n",
       "201001BS70004                                            1   \n",
       "201001BS70007                                            1   \n",
       "201001BS70007                                            1   \n",
       "201001BS70008                                            1   \n",
       "\n",
       "                        junction_control          junction_detail   latitude  \\\n",
       "accident_index                                                                 \n",
       "201001BS70003   Give way or uncontrolled  T or staggered junction  51.484087   \n",
       "201001BS70004        Auto traffic signal  T or staggered junction  51.509212   \n",
       "201001BS70007   Give way or uncontrolled          Mini-roundabout  51.513314   \n",
       "201001BS70007   Give way or uncontrolled          Mini-roundabout  51.513314   \n",
       "201001BS70008        Auto traffic signal               Crossroads  51.484361   \n",
       "\n",
       "                ...   vehicle_type was_vehicle_left_hand_drive  \\\n",
       "accident_index  ...                                              \n",
       "201001BS70003   ...  Goods Vehicle                          No   \n",
       "201001BS70004   ...            Car                          No   \n",
       "201001BS70007   ...            Car                          No   \n",
       "201001BS70007   ...            Car                          No   \n",
       "201001BS70008   ...            Car                          No   \n",
       "\n",
       "               x1st_point_of_impact  month weekend hour time_of_day  season  \\\n",
       "accident_index                                                                \n",
       "201001BS70003                 Front      1       0    7           1  winter   \n",
       "201001BS70004                 Front      1       0   18           6  winter   \n",
       "201001BS70007              Nearside      1       1   21           6  winter   \n",
       "201001BS70007                 Front      1       1   21           6  winter   \n",
       "201001BS70008              Nearside      1       0   20           6  winter   \n",
       "\n",
       "               engine_capacity_cc_size accident_seriousness  \n",
       "accident_index                                               \n",
       "201001BS70003          small engine cc          Not Serious  \n",
       "201001BS70004         medium engine cc          Not Serious  \n",
       "201001BS70007         medium engine cc          Not Serious  \n",
       "201001BS70007          small engine cc          Not Serious  \n",
       "201001BS70008         medium engine cc          Not Serious  \n",
       "\n",
       "[5 rows x 58 columns]"
      ]
     },
     "execution_count": 8,
     "metadata": {},
     "output_type": "execute_result"
    }
   ],
   "source": [
    "df1.head()"
   ]
  },
  {
   "cell_type": "code",
   "execution_count": 9,
   "metadata": {},
   "outputs": [
    {
     "name": "stdout",
     "output_type": "stream",
     "text": [
      "Index(['1st_road_class', '1st_road_number', '2nd_road_number',\n",
      "       'carriageway_hazards', 'date', 'day_of_week',\n",
      "       'did_police_officer_attend_scene_of_accident', 'junction_control',\n",
      "       'junction_detail', 'latitude', 'light_conditions',\n",
      "       'local_authority_district', 'local_authority_highway', 'longitude',\n",
      "       'lsoa_of_accident_location', 'number_of_casualties',\n",
      "       'number_of_vehicles', 'pedestrian_crossing-human_control',\n",
      "       'pedestrian_crossing-physical_facilities', 'police_force',\n",
      "       'road_surface_conditions', 'road_type', 'special_conditions_at_site',\n",
      "       'speed_limit', 'time', 'urban_or_rural_area', 'weather_conditions',\n",
      "       'year', 'inscotland', 'age_band_of_driver', 'age_of_vehicle',\n",
      "       'driver_home_area_type', 'driver_imd_decile', 'engine_capacity_cc',\n",
      "       'hit_object_in_carriageway', 'hit_object_off_carriageway',\n",
      "       'journey_purpose_of_driver', 'junction_location', 'make', 'model',\n",
      "       'propulsion_code', 'sex_of_driver', 'skidding_and_overturning',\n",
      "       'towing_and_articulation', 'vehicle_leaving_carriageway',\n",
      "       'vehicle_locationrestricted_lane', 'vehicle_manoeuvre',\n",
      "       'vehicle_reference', 'vehicle_type', 'was_vehicle_left_hand_drive',\n",
      "       'x1st_point_of_impact', 'month', 'weekend', 'hour', 'time_of_day',\n",
      "       'season', 'engine_capacity_cc_size', 'accident_seriousness'],\n",
      "      dtype='object')\n"
     ]
    }
   ],
   "source": [
    "print(df1.columns)"
   ]
  },
  {
   "cell_type": "markdown",
   "metadata": {},
   "source": [
    "### Preprocessing"
   ]
  },
  {
   "cell_type": "code",
   "execution_count": 10,
   "metadata": {},
   "outputs": [
    {
     "name": "stdout",
     "output_type": "stream",
     "text": [
      "Objects Index(['1st_road_class', '1st_road_number', '2nd_road_number',\n",
      "       'carriageway_hazards', 'date', 'day_of_week',\n",
      "       'did_police_officer_attend_scene_of_accident', 'junction_control',\n",
      "       'junction_detail', 'light_conditions', 'local_authority_district',\n",
      "       'local_authority_highway', 'lsoa_of_accident_location',\n",
      "       'number_of_casualties', 'number_of_vehicles',\n",
      "       'pedestrian_crossing-human_control',\n",
      "       'pedestrian_crossing-physical_facilities', 'police_force',\n",
      "       'road_surface_conditions', 'road_type', 'special_conditions_at_site',\n",
      "       'time', 'urban_or_rural_area', 'weather_conditions', 'inscotland',\n",
      "       'age_band_of_driver', 'age_of_vehicle', 'driver_home_area_type',\n",
      "       'hit_object_in_carriageway', 'hit_object_off_carriageway',\n",
      "       'journey_purpose_of_driver', 'junction_location', 'make', 'model',\n",
      "       'propulsion_code', 'sex_of_driver', 'skidding_and_overturning',\n",
      "       'towing_and_articulation', 'vehicle_leaving_carriageway',\n",
      "       'vehicle_locationrestricted_lane', 'vehicle_manoeuvre',\n",
      "       'vehicle_reference', 'vehicle_type', 'was_vehicle_left_hand_drive',\n",
      "       'x1st_point_of_impact', 'time_of_day', 'season',\n",
      "       'engine_capacity_cc_size', 'accident_seriousness'],\n",
      "      dtype='object')\n",
      "\n",
      "NonObjects Index(['latitude', 'longitude', 'speed_limit', 'year', 'driver_imd_decile',\n",
      "       'engine_capacity_cc', 'month', 'weekend', 'hour'],\n",
      "      dtype='object')\n",
      "(561135, 58)\n",
      "(561135, 49)\n",
      "(561135, 9)\n"
     ]
    }
   ],
   "source": [
    "#separate dtypes\n",
    "notif=df1.select_dtypes(exclude=['int','float','int64'])\n",
    "intfldtypes = df1.select_dtypes(include=['int','float','int64'])\n",
    "print('Objects',notif.columns)\n",
    "print(\"\\nNonObjects\",intfldtypes.columns)\n",
    "\n",
    "#checking to make sure all are accounted for\n",
    "print(df1.shape)\n",
    "print(notif.shape)\n",
    "print(intfldtypes.shape)"
   ]
  },
  {
   "cell_type": "markdown",
   "metadata": {},
   "source": [
    "Label Encoder was used instead of OneHotEncoder due to the memory errors One Hot Encoder caused in the data. The algorithms used will be classifiers, through boosting and trees, and not linear. "
   ]
  },
  {
   "cell_type": "code",
   "execution_count": 11,
   "metadata": {},
   "outputs": [
    {
     "name": "stdout",
     "output_type": "stream",
     "text": [
      "(561135, 58)\n"
     ]
    }
   ],
   "source": [
    "#label encode objects\n",
    "obj_le= notif.apply(LabelEncoder().fit_transform)\n",
    "#re-add with non-objects\n",
    "df_ml= pd.concat([obj_le,intfldtypes], axis=1, sort=False)\n",
    "#check shape\n",
    "print(df_ml.shape)"
   ]
  },
  {
   "cell_type": "code",
   "execution_count": 12,
   "metadata": {},
   "outputs": [],
   "source": [
    "#Set up of X and Y\n",
    "X= df_ml.drop(['accident_seriousness'],axis=1)\n",
    "y= df_ml['accident_seriousness']"
   ]
  },
  {
   "cell_type": "code",
   "execution_count": 13,
   "metadata": {},
   "outputs": [
    {
     "data": {
      "text/plain": [
       "0    492804\n",
       "1     68331\n",
       "Name: accident_seriousness, dtype: int64"
      ]
     },
     "execution_count": 13,
     "metadata": {},
     "output_type": "execute_result"
    }
   ],
   "source": [
    "df_ml.accident_seriousness.value_counts()"
   ]
  },
  {
   "cell_type": "code",
   "execution_count": 14,
   "metadata": {},
   "outputs": [
    {
     "data": {
      "image/png": "[encoded data removed]",
      "text/plain": [
       "<Figure size 864x432 with 1 Axes>"
      ]
     },
     "metadata": {},
     "output_type": "display_data"
    }
   ],
   "source": [
    "plt.figure(figsize=(12,6))\n",
    "ax=sns.countplot(x=\"accident_seriousness\", palette=\"magma\", data=df)\n",
    "\n",
    "plt.style.use('dark_background')\n",
    "plt.title(\"Accident Seriousness\",fontsize=25,fontweight=\"bold\")\n",
    "plt.xlabel(\"\", fontsize=15, fontweight=\"bold\")\n",
    "plt.ylabel(\"\\nNumber of Accidents\\n\", fontsize=15, fontweight=\"bold\")\n",
    "plt.xticks(fontsize=18)\n",
    "plt.yticks(fontsize=12)\n",
    "sns.despine(top=True, right=True, left=True, bottom=False)\n",
    "plt.savefig('accident_seriousness.png')\n",
    "plt.show()"
   ]
  },
  {
   "cell_type": "markdown",
   "metadata": {},
   "source": [
    "### Imbalanced Data\n",
    "The data in this dataset is extremely imbalanced for what we are trying to predict. We are going to resample the data as undersampling, where we reduce the number of majority (Not Serious Accidents) samples.<br><br> \n",
    "***\n",
    "The machine learning classifier algorithms that we are going to use are as follows:\n",
    "* Bagging Classifier (sklearn)\n",
    "* AdaBoost Classifier (sklearn)\n",
    "* Random Forest Classifier (sklearn)\n",
    "* Gradient Boosting Classifier (sklearn)*\n",
    "* LightGBM Classifier (LightGBM)\n",
    "* XGBoost Classifier (xgboost)\n",
    "* Balanced Bagging Classifier(imblearn)\n",
    "* Balanced Random Forest Classifier (imblearn) \n",
    "* Easy Ensemble Classifier (imblearn)<br><br>\n",
    "***\n",
    "*Gradient Boosting was commented out because of the time it took to run (18hrs) and not having relevant enough results to still consider."
   ]
  },
  {
   "cell_type": "markdown",
   "metadata": {},
   "source": [
    "### Resample: Undersampling"
   ]
  },
  {
   "cell_type": "code",
   "execution_count": 15,
   "metadata": {},
   "outputs": [],
   "source": [
    "# setting up testing and training sets\n",
    "res_X_train, res_X_test, res_y_train, res_y_test = train_test_split(X, y, \n",
    "                                                                    test_size=0.25, random_state=27)"
   ]
  },
  {
   "cell_type": "code",
   "execution_count": 16,
   "metadata": {},
   "outputs": [],
   "source": [
    "# concatenate our training data back together\n",
    "res_X = pd.concat([res_X_train, res_y_train], axis=1)"
   ]
  },
  {
   "cell_type": "code",
   "execution_count": 17,
   "metadata": {},
   "outputs": [],
   "source": [
    "# separate minority and majority classes\n",
    "not_severe = res_X[res_X.accident_seriousness==0]\n",
    "severe = res_X[res_X.accident_seriousness==1]"
   ]
  },
  {
   "cell_type": "code",
   "execution_count": 18,
   "metadata": {},
   "outputs": [],
   "source": [
    "# decrease majority\n",
    "not_severe_decreased = resample(not_severe,\n",
    "                          replace=True, # sample with replacement\n",
    "                          n_samples=len(severe), # match number in majority class\n",
    "                          random_state=27) # reproducible results"
   ]
  },
  {
   "cell_type": "code",
   "execution_count": 19,
   "metadata": {},
   "outputs": [],
   "source": [
    "# combine majority and severe_increased minority\n",
    "newdf = pd.concat([severe, not_severe_decreased])"
   ]
  },
  {
   "cell_type": "code",
   "execution_count": 20,
   "metadata": {},
   "outputs": [
    {
     "data": {
      "text/plain": [
       "1    51357\n",
       "0    51357\n",
       "Name: accident_seriousness, dtype: int64"
      ]
     },
     "execution_count": 20,
     "metadata": {},
     "output_type": "execute_result"
    }
   ],
   "source": [
    "newdf.accident_seriousness.value_counts()"
   ]
  },
  {
   "cell_type": "code",
   "execution_count": 21,
   "metadata": {},
   "outputs": [],
   "source": [
    "res_X_train = newdf.drop('accident_seriousness', axis=1)\n",
    "res_y_train = newdf.accident_seriousness"
   ]
  },
  {
   "cell_type": "markdown",
   "metadata": {},
   "source": [
    "### Unsupervised Learning\n",
    "Before, we get in to predictions, we are going to complete some machine learning in ordered to see how the data relates to each other.\n",
    "We are going to do this on the resampled data as well, in order to avoid bias. We will use two clusters which, in theory, represent the two variables for accident_seriousness, Not Serious & Serious"
   ]
  },
  {
   "cell_type": "code",
   "execution_count": 39,
   "metadata": {},
   "outputs": [
    {
     "data": {
      "text/plain": [
       "array([1, 0, 1, ..., 1, 1, 1], dtype=uint16)"
      ]
     },
     "execution_count": 39,
     "metadata": {},
     "output_type": "execute_result"
    }
   ],
   "source": [
    "# \"clustering\" using kmode algorithm that is designed to handle mixed data\n",
    "km_huang = KModes(n_clusters=2, init = \"Huang\", n_init = 1)\n",
    "fitClusters_huang = km_huang.fit_predict(newdf)\n",
    "fitClusters_huang"
   ]
  },
  {
   "cell_type": "code",
   "execution_count": 40,
   "metadata": {},
   "outputs": [],
   "source": [
    "newdf1 = newdf.copy().reset_index()\n",
    "clustersDf = pd.DataFrame(fitClusters_huang)\n",
    "clustersDf.columns = ['cluster_predicted']\n",
    "combinedDf = pd.concat([newdf1, clustersDf], axis = 1).reset_index()\n",
    "combinedDf = combinedDf.drop(['index'], axis = 1)"
   ]
  },
  {
   "cell_type": "code",
   "execution_count": 41,
   "metadata": {},
   "outputs": [
    {
     "data": {
      "text/html": [
       "<div>\n",
       "<style scoped>\n",
       "    .dataframe tbody tr th:only-of-type {\n",
       "        vertical-align: middle;\n",
       "    }\n",
       "\n",
       "    .dataframe tbody tr th {\n",
       "        vertical-align: top;\n",
       "    }\n",
       "\n",
       "    .dataframe thead th {\n",
       "        text-align: right;\n",
       "    }\n",
       "</style>\n",
       "<table border=\"1\" class=\"dataframe\">\n",
       "  <thead>\n",
       "    <tr style=\"text-align: right;\">\n",
       "      <th></th>\n",
       "      <th>accident_index</th>\n",
       "      <th>1st_road_class</th>\n",
       "      <th>1st_road_number</th>\n",
       "      <th>2nd_road_number</th>\n",
       "      <th>carriageway_hazards</th>\n",
       "      <th>date</th>\n",
       "      <th>day_of_week</th>\n",
       "      <th>did_police_officer_attend_scene_of_accident</th>\n",
       "      <th>junction_control</th>\n",
       "      <th>junction_detail</th>\n",
       "      <th>...</th>\n",
       "      <th>longitude</th>\n",
       "      <th>speed_limit</th>\n",
       "      <th>year</th>\n",
       "      <th>driver_imd_decile</th>\n",
       "      <th>engine_capacity_cc</th>\n",
       "      <th>month</th>\n",
       "      <th>weekend</th>\n",
       "      <th>hour</th>\n",
       "      <th>accident_seriousness</th>\n",
       "      <th>cluster_predicted</th>\n",
       "    </tr>\n",
       "  </thead>\n",
       "  <tbody>\n",
       "    <tr>\n",
       "      <th>0</th>\n",
       "      <td>201554A415715</td>\n",
       "      <td>0</td>\n",
       "      <td>429</td>\n",
       "      <td>0</td>\n",
       "      <td>1</td>\n",
       "      <td>2148</td>\n",
       "      <td>4</td>\n",
       "      <td>0</td>\n",
       "      <td>2</td>\n",
       "      <td>8</td>\n",
       "      <td>...</td>\n",
       "      <td>-2.110741</td>\n",
       "      <td>30.0</td>\n",
       "      <td>2015</td>\n",
       "      <td>8.0</td>\n",
       "      <td>1299.0</td>\n",
       "      <td>11</td>\n",
       "      <td>0</td>\n",
       "      <td>6</td>\n",
       "      <td>1</td>\n",
       "      <td>1</td>\n",
       "    </tr>\n",
       "    <tr>\n",
       "      <th>1</th>\n",
       "      <td>2010440174154</td>\n",
       "      <td>0</td>\n",
       "      <td>27</td>\n",
       "      <td>2391</td>\n",
       "      <td>1</td>\n",
       "      <td>119</td>\n",
       "      <td>0</td>\n",
       "      <td>0</td>\n",
       "      <td>2</td>\n",
       "      <td>6</td>\n",
       "      <td>...</td>\n",
       "      <td>-1.319297</td>\n",
       "      <td>30.0</td>\n",
       "      <td>2010</td>\n",
       "      <td>5.0</td>\n",
       "      <td>1997.0</td>\n",
       "      <td>4</td>\n",
       "      <td>1</td>\n",
       "      <td>0</td>\n",
       "      <td>1</td>\n",
       "      <td>0</td>\n",
       "    </tr>\n",
       "    <tr>\n",
       "      <th>2</th>\n",
       "      <td>201506N097860</td>\n",
       "      <td>5</td>\n",
       "      <td>0</td>\n",
       "      <td>0</td>\n",
       "      <td>1</td>\n",
       "      <td>1880</td>\n",
       "      <td>5</td>\n",
       "      <td>0</td>\n",
       "      <td>2</td>\n",
       "      <td>8</td>\n",
       "      <td>...</td>\n",
       "      <td>-2.295013</td>\n",
       "      <td>30.0</td>\n",
       "      <td>2015</td>\n",
       "      <td>8.0</td>\n",
       "      <td>2143.0</td>\n",
       "      <td>2</td>\n",
       "      <td>0</td>\n",
       "      <td>12</td>\n",
       "      <td>1</td>\n",
       "      <td>1</td>\n",
       "    </tr>\n",
       "    <tr>\n",
       "      <th>3</th>\n",
       "      <td>2016460101917</td>\n",
       "      <td>0</td>\n",
       "      <td>252</td>\n",
       "      <td>251</td>\n",
       "      <td>1</td>\n",
       "      <td>2426</td>\n",
       "      <td>5</td>\n",
       "      <td>0</td>\n",
       "      <td>2</td>\n",
       "      <td>6</td>\n",
       "      <td>...</td>\n",
       "      <td>0.878850</td>\n",
       "      <td>40.0</td>\n",
       "      <td>2016</td>\n",
       "      <td>8.0</td>\n",
       "      <td>1560.0</td>\n",
       "      <td>8</td>\n",
       "      <td>0</td>\n",
       "      <td>18</td>\n",
       "      <td>1</td>\n",
       "      <td>0</td>\n",
       "    </tr>\n",
       "    <tr>\n",
       "      <th>4</th>\n",
       "      <td>201342I085803</td>\n",
       "      <td>0</td>\n",
       "      <td>120</td>\n",
       "      <td>0</td>\n",
       "      <td>1</td>\n",
       "      <td>1182</td>\n",
       "      <td>4</td>\n",
       "      <td>0</td>\n",
       "      <td>2</td>\n",
       "      <td>8</td>\n",
       "      <td>...</td>\n",
       "      <td>0.674514</td>\n",
       "      <td>60.0</td>\n",
       "      <td>2013</td>\n",
       "      <td>9.0</td>\n",
       "      <td>1149.0</td>\n",
       "      <td>3</td>\n",
       "      <td>0</td>\n",
       "      <td>19</td>\n",
       "      <td>1</td>\n",
       "      <td>0</td>\n",
       "    </tr>\n",
       "  </tbody>\n",
       "</table>\n",
       "<p>5 rows × 60 columns</p>\n",
       "</div>"
      ],
      "text/plain": [
       "  accident_index  1st_road_class  1st_road_number  2nd_road_number  \\\n",
       "0  201554A415715  0               429              0                 \n",
       "1  2010440174154  0               27               2391              \n",
       "2  201506N097860  5               0                0                 \n",
       "3  2016460101917  0               252              251               \n",
       "4  201342I085803  0               120              0                 \n",
       "\n",
       "   carriageway_hazards  date  day_of_week  \\\n",
       "0  1                    2148  4             \n",
       "1  1                    119   0             \n",
       "2  1                    1880  5             \n",
       "3  1                    2426  5             \n",
       "4  1                    1182  4             \n",
       "\n",
       "   did_police_officer_attend_scene_of_accident  junction_control  \\\n",
       "0  0                                            2                  \n",
       "1  0                                            2                  \n",
       "2  0                                            2                  \n",
       "3  0                                            2                  \n",
       "4  0                                            2                  \n",
       "\n",
       "   junction_detail  ...  longitude  speed_limit  year  driver_imd_decile  \\\n",
       "0  8                ... -2.110741   30.0         2015  8.0                 \n",
       "1  6                ... -1.319297   30.0         2010  5.0                 \n",
       "2  8                ... -2.295013   30.0         2015  8.0                 \n",
       "3  6                ...  0.878850   40.0         2016  8.0                 \n",
       "4  8                ...  0.674514   60.0         2013  9.0                 \n",
       "\n",
       "   engine_capacity_cc  month  weekend  hour  accident_seriousness  \\\n",
       "0  1299.0              11     0        6     1                      \n",
       "1  1997.0              4      1        0     1                      \n",
       "2  2143.0              2      0        12    1                      \n",
       "3  1560.0              8      0        18    1                      \n",
       "4  1149.0              3      0        19    1                      \n",
       "\n",
       "   cluster_predicted  \n",
       "0  1                  \n",
       "1  0                  \n",
       "2  1                  \n",
       "3  0                  \n",
       "4  0                  \n",
       "\n",
       "[5 rows x 60 columns]"
      ]
     },
     "execution_count": 41,
     "metadata": {},
     "output_type": "execute_result"
    }
   ],
   "source": [
    "combinedDf.head()"
   ]
  },
  {
   "cell_type": "code",
   "execution_count": 44,
   "metadata": {},
   "outputs": [
    {
     "data": {
      "image/png": "[encoded data removed]",
      "text/plain": [
       "<Figure size 1080x576 with 3 Axes>"
      ]
     },
     "metadata": {
      "needs_background": "dark"
     },
     "output_type": "display_data"
    },
    {
     "data": {
      "image/png": "[encoded data removed]",
      "text/plain": [
       "<Figure size 1080x576 with 3 Axes>"
      ]
     },
     "metadata": {
      "needs_background": "dark"
     },
     "output_type": "display_data"
    },
    {
     "data": {
      "image/png": "[encoded data removed]",
      "text/plain": [
       "<Figure size 1080x576 with 3 Axes>"
      ]
     },
     "metadata": {
      "needs_background": "dark"
     },
     "output_type": "display_data"
    },
    {
     "data": {
      "image/png": "[encoded data removed]",
      "text/plain": [
       "<Figure size 1080x576 with 3 Axes>"
      ]
     },
     "metadata": {
      "needs_background": "dark"
     },
     "output_type": "display_data"
    },
    {
     "data": {
      "image/png": "[encoded data removed]",
      "text/plain": [
       "<Figure size 1080x576 with 3 Axes>"
      ]
     },
     "metadata": {
      "needs_background": "dark"
     },
     "output_type": "display_data"
    },
    {
     "data": {
      "image/png": "[encoded data removed]",
      "text/plain": [
       "<Figure size 1080x576 with 3 Axes>"
      ]
     },
     "metadata": {
      "needs_background": "dark"
     },
     "output_type": "display_data"
    }
   ],
   "source": [
    "#plotting a few of these features just to see how they relate to the clustering for seriousness\n",
    "f, axs = plt.subplots(1,3,figsize = (15,8))\n",
    "sns.countplot(x=combinedDf['did_police_officer_attend_scene_of_accident'],\n",
    "              order=combinedDf['did_police_officer_attend_scene_of_accident'].value_counts().index,\n",
    "              hue=combinedDf['cluster_predicted'], palette='PuBu', ax=axs[0])\n",
    "\n",
    "sns.countplot(x=combinedDf['x1st_point_of_impact'],\n",
    "              order=combinedDf['x1st_point_of_impact'].value_counts().index,\n",
    "              hue=combinedDf['cluster_predicted'], palette='PuBu', ax=axs[1])\n",
    "\n",
    "sns.countplot(x=combinedDf['number_of_vehicles'],\n",
    "              order=combinedDf['number_of_vehicles'].value_counts().index,\n",
    "              hue=combinedDf['cluster_predicted'], palette='PuBu', ax=axs[2])\n",
    "plt.tight_layout()\n",
    "plt.savefig('clusterplot1.png')\n",
    "plt.show()\n",
    "\n",
    "\n",
    "f, axs = plt.subplots(1,3,figsize = (15,8))\n",
    "\n",
    "sns.countplot(x=combinedDf['speed_limit'],\n",
    "              order=combinedDf['speed_limit'].value_counts().index,\n",
    "              hue=combinedDf['cluster_predicted'], palette='PuBu', ax=axs[0])\n",
    "sns.countplot(x=combinedDf['urban_or_rural_area'],\n",
    "              order=combinedDf['urban_or_rural_area'].value_counts().index,\n",
    "              hue=combinedDf['cluster_predicted'], palette='PuBu', ax=axs[1])\n",
    "sns.countplot(x=combinedDf['skidding_and_overturning'],\n",
    "              order=combinedDf['skidding_and_overturning'].value_counts().index,\n",
    "              hue=combinedDf['cluster_predicted'], palette='PuBu', ax=axs[2])\n",
    "plt.tight_layout()\n",
    "plt.savefig('clusterplot2.png')\n",
    "plt.show()\n",
    "\n",
    "\n",
    "\n",
    "f, axs = plt.subplots(1,3,figsize = (15,8))\n",
    "\n",
    "sns.countplot(x=combinedDf['vehicle_leaving_carriageway'],\n",
    "              order=combinedDf['vehicle_leaving_carriageway'].value_counts().index,\n",
    "              hue=combinedDf['cluster_predicted'], palette='PuBu', ax=axs[0])\n",
    "sns.countplot(x=combinedDf['sex_of_driver'],\n",
    "              order=combinedDf['sex_of_driver'].value_counts().index,\n",
    "              hue=combinedDf['cluster_predicted'], palette='PuBu', ax=axs[1])\n",
    "sns.countplot(x=combinedDf['vehicle_type'],\n",
    "              order=combinedDf['vehicle_type'].value_counts().index,\n",
    "              hue=combinedDf['cluster_predicted'], palette='PuBu', ax=axs[2])\n",
    "plt.tight_layout()\n",
    "plt.savefig('clusterplot3.png')\n",
    "plt.show()\n",
    "\n",
    "\n",
    "f, axs = plt.subplots(1,3,figsize = (15,8))\n",
    "\n",
    "sns.countplot(x=combinedDf['junction_control'],\n",
    "              order=combinedDf['junction_control'].value_counts().index,\n",
    "              hue=combinedDf['cluster_predicted'], palette='PuBu', ax=axs[0])\n",
    "sns.countplot(x=combinedDf['number_of_casualties'],\n",
    "              order=combinedDf['number_of_casualties'].value_counts().index,\n",
    "              hue=combinedDf['cluster_predicted'], palette='PuBu', ax=axs[1])\n",
    "sns.countplot(x=combinedDf['age_band_of_driver'],\n",
    "              order=combinedDf['age_band_of_driver'].value_counts().index,\n",
    "              hue=combinedDf['cluster_predicted'], palette='PuBu', ax=axs[2])\n",
    "plt.tight_layout()\n",
    "plt.savefig('clusterplot4.png')\n",
    "plt.show()\n",
    "\n",
    "\n",
    "\n",
    "f, axs = plt.subplots(1,3,figsize = (15,8))\n",
    "\n",
    "sns.countplot(x=combinedDf['junction_detail'],\n",
    "              order=combinedDf['junction_detail'].value_counts().index,\n",
    "              hue=combinedDf['cluster_predicted'], palette='PuBu', ax=axs[0])\n",
    "sns.countplot(x=combinedDf['junction_location'],\n",
    "              order=combinedDf['junction_location'].value_counts().index,\n",
    "              hue=combinedDf['cluster_predicted'], palette='PuBu', ax=axs[1])\n",
    "sns.countplot(x=combinedDf['driver_imd_decile'],\n",
    "              order=combinedDf['driver_imd_decile'].value_counts().index,\n",
    "              hue=combinedDf['cluster_predicted'], palette='PuBu', ax=axs[2])\n",
    "plt.tight_layout()\n",
    "plt.savefig('clusterplot5.png')\n",
    "plt.show()\n",
    "\n",
    "\n",
    "f, axs = plt.subplots(1,3,figsize = (15,8))\n",
    "\n",
    "sns.countplot(x=combinedDf['junction_detail'],\n",
    "              order=combinedDf['junction_detail'].value_counts().index,\n",
    "              hue=combinedDf['cluster_predicted'], palette='PuBu', ax=axs[0])\n",
    "sns.countplot(x=combinedDf['junction_location'],\n",
    "              order=combinedDf['junction_location'].value_counts().index,\n",
    "              hue=combinedDf['cluster_predicted'], palette='PuBu', ax=axs[1])\n",
    "sns.countplot(x=combinedDf['driver_imd_decile'],\n",
    "              order=combinedDf['driver_imd_decile'].value_counts().index,\n",
    "              hue=combinedDf['cluster_predicted'], palette='PuBu', ax=axs[2])\n",
    "plt.tight_layout()\n",
    "plt.savefig('clusterplot6.png')\n",
    "plt.show()"
   ]
  },
  {
   "cell_type": "markdown",
   "metadata": {},
   "source": [
    "Looking at these graphs we can see the patterns of how each category of eacch column pairs off with the clustering on accident_seriousness."
   ]
  },
  {
   "cell_type": "markdown",
   "metadata": {},
   "source": [
    "### Supervised Learning with Resampling as Undersampling"
   ]
  },
  {
   "cell_type": "markdown",
   "metadata": {},
   "source": [
    "#### Bagging Classifier with Resampling"
   ]
  },
  {
   "cell_type": "code",
   "execution_count": 30,
   "metadata": {},
   "outputs": [
    {
     "name": "stdout",
     "output_type": "stream",
     "text": [
      "Resampled Bagging Classifier Accuracy Score: 66.97%\n",
      "Resampled Bagging Classifier F1 Score: 55.81%\n",
      "Resampled Bagging Classifier Precision Score: 58.10%\n",
      "Resampled Bagging Classifier Recall Score: 67.88%\n",
      "Resampled Bagging Classifier Cross Validation Score: 69.11%\n",
      "\n",
      "\n"
     ]
    },
    {
     "data": {
      "image/png": "[encoded data removed]",
      "text/plain": [
       "<Figure size 1080x360 with 2 Axes>"
      ]
     },
     "metadata": {
      "needs_background": "dark"
     },
     "output_type": "display_data"
    },
    {
     "name": "stdout",
     "output_type": "stream",
     "text": [
      "Resampled Bagging Classifier Time: 5531.351397275925\n"
     ]
    }
   ],
   "source": [
    "#start timming\n",
    "start_bagc_res = time.time()\n",
    "\n",
    "#Resampled Bagging Classifier\n",
    "bagc_res = BaggingClassifier(max_features=X.shape[1], n_estimators=500, random_state=42)\n",
    "\n",
    "bagc_res.fit(res_X_train, res_y_train)\n",
    "pred_bagc_res = bagc_res.predict(res_X_test)\n",
    "\n",
    "\n",
    "#Check Scores\n",
    "\n",
    "print(\"Resampled Bagging Classifier Accuracy Score: {:0.2f}%\".format(accuracy_score(res_y_test,\n",
    "                                                                               pred_bagc_res )*100))\n",
    "print(\"Resampled Bagging Classifier F1 Score: {:0.2f}%\".format(f1_score(res_y_test,\n",
    "                                                                   pred_bagc_res,average=\"macro\")*100))\n",
    "print(\"Resampled Bagging Classifier Precision Score: {:0.2f}%\".format(precision_score(res_y_test,\n",
    "                                                                                 pred_bagc_res, \n",
    "                                                                                 average=\"macro\")*100))\n",
    "print(\"Resampled Bagging Classifier Recall Score: {:0.2f}%\".format(recall_score(res_y_test, \n",
    "                                                                           pred_bagc_res,\n",
    "                                                                           average=\"macro\")*100))\n",
    "print(\"Resampled Bagging Classifier Cross Validation Score: {:0.2f}%\"\n",
    "      .format(np.mean(cross_val_score(bagc_res, res_X_train, res_y_train, cv=5)*100)))\n",
    "print('\\n')\n",
    "\n",
    "# Creates a confusion matrix\n",
    "bagc_res_cm = confusion_matrix(res_y_test,pred_bagc_res)\n",
    "\n",
    "# Transform to df for easier plotting\n",
    "bagc_res_cm_df = pd.DataFrame(bagc_res_cm,\n",
    "                     index = ['Not Serious','Serious'], \n",
    "                     columns = ['Not Serious','Serious'])\n",
    "\n",
    "plt.figure(figsize=(15,5))\n",
    "\n",
    "sns.heatmap(bagc_res_cm_df, annot=True, fmt=\"d\", cmap='viridis', linecolor='black', linewidths=1)\n",
    "plt.title('Resampled Bagging Classifier Accuracy: {0:.2f}%'\n",
    "          .format(accuracy_score(res_y_test,pred_bagc_res )*100),fontsize=15)\n",
    "plt.ylabel('Actual\\n')\n",
    "plt.xlabel('Predicted\\n')\n",
    "plt.show()\n",
    "\n",
    "#end time\n",
    "end_bagc_res = time.time()\n",
    "print(\"Resampled Bagging Classifier Time:\", end_bagc_res - start_bagc_res)"
   ]
  },
  {
   "cell_type": "code",
   "execution_count": 31,
   "metadata": {},
   "outputs": [
    {
     "name": "stdout",
     "output_type": "stream",
     "text": [
      "Resampled Bagging Classifier Specificity Score: 66.68%\n",
      "Resampled Bagging Classifier False Positive Rate Score: 33.32%\n",
      "Resampled Bagging Classifier  Error Rate Score: 33.03%\n",
      "Resampled Bagging Classifier Roc Auc Score: 67.88%\n"
     ]
    }
   ],
   "source": [
    "#extracting true_positives, false_positives, true_negatives, false_negatives\n",
    "tn, fp, fn, tp = confusion_matrix(res_y_test,pred_bagc_res).ravel()\n",
    "\n",
    "accuracy = accuracy_score(res_y_test,pred_bagc_res )*100\n",
    "specificity = tn/(tn+fp)*100\n",
    "fpr = fp/(tn+fp)*100\n",
    "ers = 100-accuracy\n",
    "\n",
    "print(\"Resampled Bagging Classifier Specificity Score: {0:.2f}%\".format(specificity))\n",
    "print(\"Resampled Bagging Classifier False Positive Rate Score: {0:.2f}%\".format(fpr))\n",
    "print(\"Resampled Bagging Classifier  Error Rate Score: {0:.2f}%\".format(ers))\n",
    "print(\"Resampled Bagging Classifier Roc Auc Score: {0:.2f}%\"\n",
    "      .format(roc_auc_score(res_y_test,pred_bagc_res)*100))"
   ]
  },
  {
   "cell_type": "markdown",
   "metadata": {},
   "source": [
    "#### AdaBoost Classifier with Resampling"
   ]
  },
  {
   "cell_type": "markdown",
   "metadata": {},
   "source": [
    "AdaBoost is a boosting algorithm and is widely used to process imbalanced data. It uses a single-layer decision tree as a weak classifier. In each training iteration, the weight of the misclassified samples generated by the previous iteration is increased, and the weight of the correctly classified samples is reduced, improving the significance of the misclassified samples in the next iteration. Although the AdaBoost algorithm can be directly used to process imbalanced data, the algorithm focuses more on the misclassified samples than samples of minority class. In addition, it may generate many redundant or useless weak classifiers, increasing the processing overhead and causing performance reduction.<br><br>\n",
    "\n",
    "With this being said, we will use AdaBoost on the resampled set and below for the class_weight sets we will use it regularly to see how it handles the imbalanced data on it's own vs resampling.<br><br>\n",
    "\n",
    "See: [Improved PSO_AdaBoost Ensemble Algorithm for Imbalanced Data](https://www.ncbi.nlm.nih.gov/pmc/articles/PMC6471212/)"
   ]
  },
  {
   "cell_type": "code",
   "execution_count": 32,
   "metadata": {},
   "outputs": [
    {
     "name": "stdout",
     "output_type": "stream",
     "text": [
      "Resampled AdaBoost Classifier Cross Validation Score: 65.73%\n",
      "\n",
      "\n"
     ]
    },
    {
     "data": {
      "image/png": "[encoded data removed]",
      "text/plain": [
       "<Figure size 1080x360 with 2 Axes>"
      ]
     },
     "metadata": {
      "needs_background": "dark"
     },
     "output_type": "display_data"
    },
    {
     "name": "stdout",
     "output_type": "stream",
     "text": [
      "Resampled AdaBoost Classifier Time: 389.8358860015869\n"
     ]
    }
   ],
   "source": [
    "#start\n",
    "start_res_adbc = time.time()\n",
    "\n",
    "\n",
    "#Resampled AdaBoost Classifier \n",
    "res_adbc = AdaBoostClassifier( n_estimators=500, learning_rate=0.05, random_state=42)\n",
    "res_adbc.fit(res_X_train, res_y_train)\n",
    "pred_res_adbc = res_adbc.predict(res_X_test)\n",
    "\n",
    "#Check scores\n",
    "\n",
    "print(\"Resampled AdaBoost Classifier Cross Validation Score: {:0.2f}%\"\n",
    "      .format(np.mean(cross_val_score(res_adbc, res_X_train, res_y_train, cv=3)*100)))\n",
    "print('\\n')\n",
    "\n",
    "# Creates a confusion matrix\n",
    "res_adbc_cm = confusion_matrix(res_y_test,pred_res_adbc)\n",
    "\n",
    "# Transform to dataframe for easier plotting\n",
    "res_adbc_cm_df = pd.DataFrame(res_adbc_cm,\n",
    "                     index = ['Not Serious','Serious'], \n",
    "                     columns = ['Not Serious','Serious'])\n",
    "\n",
    "plt.figure(figsize=(15,5))\n",
    "\n",
    "sns.heatmap(res_adbc_cm_df, annot=True, fmt=\"d\", cmap='viridis', linecolor='black', linewidths=1)\n",
    "plt.title('Resampled AdaBoost Classifier Accuracy: {0:.2f}%'\n",
    "          .format(accuracy_score(res_y_test,pred_res_adbc )*100),fontsize=15)\n",
    "plt.ylabel('Actual\\n')\n",
    "plt.xlabel('Predicted\\n')\n",
    "plt.show()\n",
    "\n",
    "#end time\n",
    "end_res_adbc = time.time()\n",
    "print(\"Resampled AdaBoost Classifier Time:\", end_res_adbc - start_res_adbc)"
   ]
  },
  {
   "cell_type": "code",
   "execution_count": 33,
   "metadata": {},
   "outputs": [
    {
     "name": "stdout",
     "output_type": "stream",
     "text": [
      "Resampled AdaBoost Classifier Specificity Score: 67.12%\n",
      "Resampled AdaBoost Classifier False Positive Rate Score: 32.88%\n",
      "Resampled AdaBoost Classifier Error Rate Score: 33.26%\n",
      "Resampled AdaBoost Classifier Accuracy Score: 66.74%\n",
      "Resampled AdaBoost Classifier F1 Score: 54.90%\n",
      "Resampled AdaBoost Classifier Precision Score: 57.14%\n",
      "Resampled AdaBoost Classifier Recall Score: 65.58%\n",
      "Resampled AdaBoost Classifier Roc Auc Score: 65.58%\n"
     ]
    }
   ],
   "source": [
    "#extracting true_positives, false_positives, true_negatives, false_negatives\n",
    "tn, fp, fn, tp = confusion_matrix(res_y_test,pred_res_adbc).ravel()\n",
    "\n",
    "accuracy = accuracy_score(res_y_test,pred_res_adbc)*100\n",
    "specificity = tn/(tn+fp)*100\n",
    "fpr = fp/(tn+fp)*100\n",
    "ers = 100-accuracy\n",
    "\n",
    "print(\"Resampled AdaBoost Classifier Specificity Score: {0:.2f}%\".format(specificity))\n",
    "print(\"Resampled AdaBoost Classifier False Positive Rate Score: {0:.2f}%\".format(fpr))\n",
    "print(\"Resampled AdaBoost Classifier Error Rate Score: {0:.2f}%\".format(ers))\n",
    "print(\"Resampled AdaBoost Classifier Accuracy Score: {:0.2f}%\"\n",
    "      .format(accuracy_score(res_y_test,pred_res_adbc )*100))\n",
    "print(\"Resampled AdaBoost Classifier F1 Score: {:0.2f}%\"\n",
    "      .format(f1_score(res_y_test, pred_res_adbc,average=\"macro\")*100))\n",
    "print(\"Resampled AdaBoost Classifier Precision Score: {:0.2f}%\"\n",
    "      .format(precision_score(res_y_test, pred_res_adbc, average=\"macro\")*100))\n",
    "print(\"Resampled AdaBoost Classifier Recall Score: {:0.2f}%\"\n",
    "      .format(recall_score(res_y_test, pred_res_adbc, average=\"macro\")*100))\n",
    "print(\"Resampled AdaBoost Classifier Roc Auc Score: {0:.2f}%\"\n",
    "      .format(roc_auc_score(res_y_test,pred_res_adbc)*100))"
   ]
  },
  {
   "cell_type": "markdown",
   "metadata": {},
   "source": [
    "#### Random Forest Classifier with Resampling"
   ]
  },
  {
   "cell_type": "code",
   "execution_count": 34,
   "metadata": {},
   "outputs": [
    {
     "name": "stdout",
     "output_type": "stream",
     "text": [
      "Resampled Random Forest Classifier Cross Validation Score: 68.85%\n",
      "\n",
      "\n"
     ]
    },
    {
     "data": {
      "image/png": "[encoded data removed]",
      "text/plain": [
       "<Figure size 1080x360 with 2 Axes>"
      ]
     },
     "metadata": {
      "needs_background": "dark"
     },
     "output_type": "display_data"
    },
    {
     "name": "stdout",
     "output_type": "stream",
     "text": [
      "\n",
      "Resampled Random Forest Time:  4370.322077035904\n"
     ]
    }
   ],
   "source": [
    "#start\n",
    "start_res_rfc = time.time()\n",
    "\n",
    "#random forest\n",
    "res_rfc = RandomForestClassifier(criterion='entropy', max_depth=40,\n",
    "                                 max_features=X.shape[1], min_samples_split=8,\n",
    "                                 n_estimators=500, random_state=42)\n",
    "res_rfc.fit(res_X_train, res_y_train)\n",
    "pred_res_rfc = res_rfc.predict(res_X_test)\n",
    "\n",
    "\n",
    "#cv\n",
    "\n",
    "print(\"Resampled Random Forest Classifier Cross Validation Score: {:0.2f}%\"\n",
    "      .format(np.mean(cross_val_score(res_rfc, res_X_train, res_y_train, cv=3)*100)))\n",
    "print('\\n')\n",
    "\n",
    "# Creates a confusion matrix\n",
    "res_rfc_cm = confusion_matrix(res_y_test,pred_res_rfc)\n",
    "\n",
    "# Transform to df for easier plotting\n",
    "res_rfc_cm_df = pd.DataFrame(res_rfc_cm,\n",
    "                     index = ['Not Serious','Serious'], \n",
    "                     columns = ['Not Serious','Serious'])\n",
    "\n",
    "plt.figure(figsize=(15,5))\n",
    "\n",
    "sns.heatmap(res_rfc_cm_df, annot=True, fmt=\"d\", cmap='viridis', linecolor='black', linewidths=1)\n",
    "plt.title('Resampled Random Forest Accuracy: {0:.2f}%'.format(accuracy_score(res_y_test,\n",
    "                                                                            pred_res_rfc)*100),\n",
    "          fontsize=15)\n",
    "plt.ylabel('Actual\\n')\n",
    "plt.xlabel('Predicted\\n')\n",
    "plt.show()\n",
    "end_res_rfc = time.time()\n",
    "print(\"\\nResampled Random Forest Time: \", end_res_rfc - start_res_rfc)"
   ]
  },
  {
   "cell_type": "code",
   "execution_count": 35,
   "metadata": {},
   "outputs": [
    {
     "name": "stdout",
     "output_type": "stream",
     "text": [
      "Resampled Random Forest Classifier Specificity Score: 66.84%\n",
      "Resampled Random Forest Classifier False Positive Rate Score: 33.16%\n",
      "Resampled Random Forest Classifier Error Rate Score: 32.91%\n",
      "Resampled Random Forest Classifier Accuracy Score: 67.09%\n",
      "Resampled Random Forest Classifier F1 Score: 55.87%\n",
      "Resampled Random Forest Classifier Precision Score: 58.10%\n",
      "Resampled Random Forest Classifier Recall Score: 67.85%\n",
      "Resampled Random Forest Classifier Roc Auc Score: 67.85%\n"
     ]
    }
   ],
   "source": [
    "#extracting true_positives, false_positives, true_negatives, false_negatives\n",
    "tn, fp, fn, tp = confusion_matrix(res_y_test,pred_res_rfc).ravel()\n",
    "\n",
    "accuracy = accuracy_score(res_y_test,pred_res_rfc)*100\n",
    "specificity = tn/(tn+fp)*100\n",
    "fpr = fp/(tn+fp)*100\n",
    "ers = 100-accuracy\n",
    "\n",
    "print(\"Resampled Random Forest Classifier Specificity Score: {0:.2f}%\".format(specificity))\n",
    "print(\"Resampled Random Forest Classifier False Positive Rate Score: {0:.2f}%\".format(fpr))\n",
    "print(\"Resampled Random Forest Classifier Error Rate Score: {0:.2f}%\".format(ers))\n",
    "print(\"Resampled Random Forest Classifier Accuracy Score: {:0.2f}%\"\n",
    "      .format(accuracy_score(res_y_test,pred_res_rfc )*100))\n",
    "print(\"Resampled Random Forest Classifier F1 Score: {:0.2f}%\"\n",
    "      .format(f1_score(res_y_test, pred_res_rfc,average=\"macro\")*100))\n",
    "print(\"Resampled Random Forest Classifier Precision Score: {:0.2f}%\"\n",
    "      .format(precision_score(res_y_test, pred_res_rfc, average=\"macro\")*100))\n",
    "print(\"Resampled Random Forest Classifier Recall Score: {:0.2f}%\"\n",
    "      .format(recall_score(res_y_test, pred_res_rfc, average=\"macro\")*100))\n",
    "print(\"Resampled Random Forest Classifier Roc Auc Score: {0:.2f}%\"\n",
    "      .format(roc_auc_score(res_y_test, pred_res_rfc)*100))"
   ]
  },
  {
   "cell_type": "markdown",
   "metadata": {},
   "source": [
    "#### Gradient Boosting Classifier with Resampling"
   ]
  },
  {
   "cell_type": "code",
   "execution_count": 36,
   "metadata": {},
   "outputs": [],
   "source": [
    "# #Resampled Gradient Boosting Classifier was taken out of the running due to its run time of almost a day\n",
    "# start_res_gbc = time.time()\n",
    "# res_gbc = ensemble.GradientBoostingClassifier(learning_rate=0.05, max_depth=40,\n",
    "#                                               min_samples_leaf=1, n_estimators=500,\n",
    "#                                               random_state = 42)\n",
    "# res_gbc.fit(res_X_train, res_y_train)\n",
    "# pred_res_gbc = res_gbc.predict(res_X_test)\n",
    "\n",
    "# #Check accuracy\n",
    "# print(\"Resampled Gradient Boosting Classifier Accuracy Score: {:0.2f}%\"\n",
    "#       .format(accuracy_score(res_y_test,pred_res_gbc )*100))\n",
    "# print(\"Resampled Gradient Boosting Classifier F1 Score: {:0.2f}%\"\n",
    "#       .format(f1_score(res_y_test, pred_res_gbc,average=\"macro\")*100))\n",
    "# print(\"Resampled Gradient Boosting Classifier Precision Score: {:0.2f}%\"\n",
    "#       .format(precision_score(res_y_test, pred_res_gbc, average=\"macro\")*100))\n",
    "# print(\"Resampled Gradient Boosting Classifier Recall Score: {:0.2f}%\"\n",
    "#       .format(recall_score(res_y_test, pred_res_gbc, average=\"macro\")*100))\n",
    "# print(\"Resampled Gradient Boosting Classifier Cross Validation Score: {:0.2f}%\"\n",
    "#       .format(np.mean(cross_val_score(res_gbc, res_X_train, res_y_train, cv=5)*100)))\n",
    "# print('\\n')\n",
    "\n",
    "# # Creates a confusion matrix\n",
    "# res_gbc_cm = confusion_matrix(res_y_test,pred_res_gbc)\n",
    "\n",
    "# # Transform to df for easier plotting\n",
    "# res_gbc_cm_df = pd.DataFrame(res_gbc_cm,\n",
    "#                      index = ['Not Serious','Serious'], \n",
    "#                      columns = ['Not Serious','Serious'])\n",
    "\n",
    "# plt.figure(figsize=(15,5))\n",
    "\n",
    "# sns.heatmap(res_gbc_cm_df, annot=True, fmt=\"d\", cmap='viridis', linecolor='black', linewidths=1)\n",
    "# plt.title('Resampled Gradient Boosting Classifier Accuracy: {0:.2f}%'.format(accuracy_score(res_y_test,\n",
    "#                                                                             pred_res_gbc)*100),\n",
    "#           fontsize=15)\n",
    "# plt.ylabel('Actual\\n')\n",
    "# plt.xlabel('Predicted\\n')\n",
    "# plt.show()\n",
    "# end_res_gbc = time.time()\n",
    "# print(\"\\nResampled Gradient Boosting Time: \", end_res_gbc - start_res_gbc)\n",
    "# print(\"Resampled Gradient Boosting Time:\", end_res_gbc - start_res_gbc)\n",
    "\n",
    "\n",
    "\n",
    "#place results for Gradient Boosting here (from machine learning notebook) but do NOT re-run.\n",
    "\n",
    "# Resampled Gradient Boosting Classifier Accuracy Score: 58.26%\n",
    "# Resampled Gradient Boosting Classifier F1 Score: 48.58%\n",
    "# Resampled Gradient Boosting Classifier Precision Score: 54.15%\n",
    "# Resampled Gradient Boosting Classifier Recall Score: 59.65%\n",
    "# Resampled Gradient Boosting Classifier Cross Validation Score: 61.43%\n",
    "\n",
    "# Resampled Gradient Boosting Time:  67961.71300411224\n",
    "\n",
    "# Confusion Matrix: \n",
    "# [[71301,52009],\n",
    "# [6540,10434]]\n"
   ]
  },
  {
   "cell_type": "markdown",
   "metadata": {},
   "source": [
    "#### LightGBM Classifier with Resampling"
   ]
  },
  {
   "cell_type": "code",
   "execution_count": 22,
   "metadata": {},
   "outputs": [
    {
     "name": "stdout",
     "output_type": "stream",
     "text": [
      "Resampled LightGBM Classifier Cross Validation Score: 68.32%\n",
      "\n",
      "\n"
     ]
    },
    {
     "data": {
      "image/png": "[encoded data removed]",
      "text/plain": [
       "<Figure size 1080x360 with 2 Axes>"
      ]
     },
     "metadata": {},
     "output_type": "display_data"
    },
    {
     "name": "stdout",
     "output_type": "stream",
     "text": [
      "\n",
      "Resampled LightGBM Time:  72.83225631713867\n"
     ]
    }
   ],
   "source": [
    "#Light GBM\n",
    "\n",
    "start_res_lgbm = time.time()\n",
    "res_lgbm = lgb.LGBMClassifier(learning_rate =0.03, max_depth=40, min_data_in_leaf=10,\n",
    "                           n_estimators=500, num_leaves=50, random_state = 42)\n",
    "res_lgbm.fit(res_X_train, res_y_train)\n",
    "pred_res_lgbm = res_lgbm.predict(res_X_test)\n",
    "\n",
    "#check cv\n",
    "print(\"Resampled LightGBM Classifier Cross Validation Score: {:0.2f}%\"\n",
    "      .format(np.mean(cross_val_score(res_lgbm, res_X_train, res_y_train, cv=5)*100)))\n",
    "print('\\n')\n",
    "\n",
    "\n",
    "res_lgbm_cm = confusion_matrix(res_y_test, pred_res_lgbm)\n",
    "# Transform to df for easier plotting\n",
    "res_lgbm_cm_df = pd.DataFrame(res_lgbm_cm,\n",
    "                     index = ['Not Serious','Serious'], \n",
    "                     columns = ['Not Serious','Serious'])\n",
    "\n",
    "plt.figure(figsize=(15,5))\n",
    "\n",
    "sns.heatmap(res_lgbm_cm_df, annot=True, fmt=\"d\", cmap='viridis', linecolor='black', linewidths=1)\n",
    "plt.title('Resampled LightGBM Accuracy: {0:.2f}%'.format(accuracy_score(res_y_test,\n",
    "                                                                            pred_res_lgbm)*100),\n",
    "          fontsize=15)\n",
    "plt.ylabel('Actual\\n')\n",
    "plt.xlabel('Predicted\\n')\n",
    "plt.show()\n",
    "end_res_lgbm = time.time()\n",
    "print(\"\\nResampled LightGBM Time: \", end_res_lgbm - start_res_lgbm)\n"
   ]
  },
  {
   "cell_type": "code",
   "execution_count": 19,
   "metadata": {},
   "outputs": [
    {
     "name": "stdout",
     "output_type": "stream",
     "text": [
      "Resampled LightGBM Classifier Specificity Score: 67.74%\n",
      "Resampled LightGBM Classifier False Positive Rate Score: 32.26%\n",
      "Resampled LightGBM Classifier Error Rate Score: 32.19%\n",
      "Resampled LightGBM Classifier Accuracy Score: 67.81%\n",
      "Resampled LightGBM Classifier F1 Score: 56.33%\n",
      "Resampled LightGBM Classifier Precision Score: 58.27%\n",
      "Resampled LightGBM Classifier Recall Score: 68.04%\n",
      "Resampled LightGBM Classifier Roc Auc Score: 68.04%\n"
     ]
    }
   ],
   "source": [
    "#extracting true_positives, false_positives, true_negatives, false_negatives\n",
    "tn, fp, fn, tp = confusion_matrix(res_y_test,pred_res_lgbm).ravel()\n",
    "\n",
    "accuracy = accuracy_score(res_y_test,pred_res_lgbm)*100\n",
    "specificity = tn/(tn+fp)*100\n",
    "fpr = fp/(tn+fp)*100\n",
    "ers = 100-accuracy\n",
    "\n",
    "print(\"Resampled LightGBM Classifier Specificity Score: {0:.2f}%\".format(specificity))\n",
    "print(\"Resampled LightGBM Classifier False Positive Rate Score: {0:.2f}%\".format(fpr))\n",
    "print(\"Resampled LightGBM Classifier Error Rate Score: {0:.2f}%\".format(ers))\n",
    "#check accuracy\n",
    "print(\"Resampled LightGBM Classifier Accuracy Score: {:0.2f}%\"\n",
    "      .format(accuracy_score(res_y_test,pred_res_lgbm )*100))\n",
    "print(\"Resampled LightGBM Classifier F1 Score: {:0.2f}%\"\n",
    "      .format(f1_score(res_y_test, pred_res_lgbm,average=\"macro\")*100))\n",
    "print(\"Resampled LightGBM Classifier Precision Score: {:0.2f}%\"\n",
    "      .format(precision_score(res_y_test, pred_res_lgbm, average=\"macro\")*100))\n",
    "print(\"Resampled LightGBM Classifier Recall Score: {:0.2f}%\"\n",
    "      .format(recall_score(res_y_test, pred_res_lgbm, average=\"macro\")*100))\n",
    "print(\"Resampled LightGBM Classifier Roc Auc Score: {0:.2f}%\"\n",
    "      .format(roc_auc_score(res_y_test, pred_res_lgbm)*100))"
   ]
  },
  {
   "cell_type": "markdown",
   "metadata": {},
   "source": [
    "#### XGBoost Classifier with Resampling"
   ]
  },
  {
   "cell_type": "code",
   "execution_count": 20,
   "metadata": {},
   "outputs": [
    {
     "name": "stdout",
     "output_type": "stream",
     "text": [
      "Resampled XGBoost Classifier Cross Validation Score: 68.79%\n",
      "\n",
      "\n"
     ]
    },
    {
     "data": {
      "image/png": "[encoded data removed]",
      "text/plain": [
       "<Figure size 1080x360 with 2 Axes>"
      ]
     },
     "metadata": {
      "needs_background": "dark"
     },
     "output_type": "display_data"
    },
    {
     "name": "stdout",
     "output_type": "stream",
     "text": [
      "Resampled XGBoost Time: 4441.273263931274\n"
     ]
    }
   ],
   "source": [
    "#XGBoost\n",
    "start_res_xgb = time.time()\n",
    "res_xgb = XGBClassifier(learning_rate=0.05, n_estimators=500, subsample= 1,random_state = 42,\n",
    "                        gamma = 1, max_depth=40)\n",
    "res_xgb.fit(res_X_train, res_y_train)\n",
    "\n",
    "pred_res_xgb = res_xgb.predict(res_X_test)\n",
    "\n",
    "#check accuracy\n",
    "print(\"Resampled XGBoost Classifier Cross Validation Score: {:0.2f}%\"\n",
    "      .format(np.mean(cross_val_score(res_xgb, res_X_train, res_y_train, cv=3)*100)))\n",
    "print('\\n')\n",
    "# Transform to df for easier plotting of confusion matrix\n",
    "res_xgb_cm = confusion_matrix(res_y_test, pred_res_xgb)\n",
    "res_xgb_cm_df = pd.DataFrame(res_xgb_cm,\n",
    "                     index = ['Not Serious','Serious'], \n",
    "                     columns = ['Not Serious','Serious'])\n",
    "\n",
    "plt.figure(figsize=(15,5))\n",
    "\n",
    "sns.heatmap(res_xgb_cm_df, annot=True, fmt=\"d\", cmap='viridis', linecolor='black', linewidths=1)\n",
    "plt.title('Resampled XGBoost Accuracy: {0:.2f}%'.format(accuracy_score(res_y_test,\n",
    "                                                                            pred_res_xgb)*100),\n",
    "          fontsize=15)\n",
    "plt.ylabel('Actual\\n')\n",
    "plt.xlabel('Predicted\\n')\n",
    "plt.show()\n",
    "\n",
    "end_res_xgb = time.time()\n",
    "print(\"Resampled XGBoost Time:\", end_res_xgb - start_res_xgb)\n"
   ]
  },
  {
   "cell_type": "code",
   "execution_count": 21,
   "metadata": {},
   "outputs": [
    {
     "name": "stdout",
     "output_type": "stream",
     "text": [
      "Resampled XGBoost Classifier Specificity Score: 66.38%\n",
      "Resampled XGBoost Classifier False Positive Rate Score: 33.62%\n",
      "Resampled XGBoost Classifier Error Rate Score: 33.20%\n",
      "Resampled XGBoost Classifier Accuracy Score: 66.80%\n",
      "Resampled XGBoost Classifier F1 Score: 55.79%\n",
      "Resampled XGBoost Classifier Precision Score: 58.17%\n",
      "Resampled XGBoost Classifier Recall Score: 68.10%\n",
      "Resampled XGBoost Classifier Roc Auc Score: 68.10%\n"
     ]
    }
   ],
   "source": [
    "#extracting true_positives, false_positives, true_negatives, false_negatives\n",
    "tn, fp, fn, tp = confusion_matrix(res_y_test,pred_res_xgb).ravel()\n",
    "\n",
    "accuracy = accuracy_score(res_y_test,pred_res_xgb)*100\n",
    "specificity = tn/(tn+fp)*100\n",
    "fpr = fp/(tn+fp)*100\n",
    "ers = 100-accuracy\n",
    "\n",
    "print(\"Resampled XGBoost Classifier Specificity Score: {0:.2f}%\".format(specificity))\n",
    "print(\"Resampled XGBoost Classifier False Positive Rate Score: {0:.2f}%\".format(fpr))\n",
    "print(\"Resampled XGBoost Classifier Error Rate Score: {0:.2f}%\".format(ers))\n",
    "print(\"Resampled XGBoost Classifier Accuracy Score: {:0.2f}%\"\n",
    "      .format(accuracy_score(res_y_test,pred_res_xgb)*100))\n",
    "print(\"Resampled XGBoost Classifier F1 Score: {:0.2f}%\"\n",
    "      .format(f1_score(res_y_test, pred_res_xgb,average=\"macro\")*100))\n",
    "print(\"Resampled XGBoost Classifier Precision Score: {:0.2f}%\"\n",
    "      .format(precision_score(res_y_test, pred_res_xgb, average=\"macro\")*100))\n",
    "print(\"Resampled XGBoost Classifier Recall Score: {:0.2f}%\"\n",
    "      .format(recall_score(res_y_test, pred_res_xgb, average=\"macro\")*100))\n",
    "print(\"Resampled XGBoost Classifier Roc Auc Score: {0:.2f}%\"\n",
    "      .format(roc_auc_score(res_y_test, pred_res_xgb)*100))"
   ]
  },
  {
   "cell_type": "markdown",
   "metadata": {},
   "source": [
    "For the following \"Balanced\" algorithms from imblearn we will be using the standard testing and training sets (X_train, X_test, y_train, y_test) and will allow the algorithms to do the resampling.<br> <br>For the sampling_strategy, we will be using \"majority\" as the solution.<br><br>'majority': resample only the majority class\n"
   ]
  },
  {
   "cell_type": "code",
   "execution_count": 24,
   "metadata": {},
   "outputs": [],
   "source": [
    "X_train, X_test, y_train, y_test = train_test_split(X, y, test_size=0.25, random_state=27)"
   ]
  },
  {
   "cell_type": "markdown",
   "metadata": {},
   "source": [
    "#### Balanced Bagging Classifier"
   ]
  },
  {
   "cell_type": "code",
   "execution_count": 43,
   "metadata": {},
   "outputs": [
    {
     "data": {
      "image/png": "[encoded data removed]",
      "text/plain": [
       "<Figure size 1080x360 with 2 Axes>"
      ]
     },
     "metadata": {
      "needs_background": "dark"
     },
     "output_type": "display_data"
    },
    {
     "name": "stdout",
     "output_type": "stream",
     "text": [
      "Resampled Balanced Bagging Classifier Cross Validation Score: 78.47%\n",
      "\n",
      "\n",
      "\n",
      "Resampled Balanced Bagging Time:  12142.180311203003\n"
     ]
    }
   ],
   "source": [
    "#start\n",
    "start_res_bbag = time.time()\n",
    "\n",
    "# Balanced Bagging Classifier\n",
    "res_bbag = BalancedBaggingClassifier(max_features=X.shape[1], n_estimators=500, replacement=True, \n",
    "                                     sampling_strategy='majority', random_state=42)\n",
    "\n",
    "res_bbag.fit(X_train, y_train)\n",
    "pred_res_bbag = res_bbag.predict(X_test)\n",
    "\n",
    "\n",
    "# Creates a confusion matrix\n",
    "res_bbag_cm = confusion_matrix(y_test,pred_res_bbag)\n",
    "\n",
    "# Transform to df for easier plotting\n",
    "res_bbag_cm_df = pd.DataFrame(res_bbag_cm,\n",
    "                     index = ['Not Serious','Serious'], \n",
    "                     columns = ['Not Serious','Serious'])\n",
    "\n",
    "plt.figure(figsize=(15,5))\n",
    "\n",
    "sns.heatmap(res_bbag_cm_df, annot=True, fmt=\"d\", cmap='viridis', linecolor='black', linewidths=1)\n",
    "plt.title('Resampled Balanced Bagging Accuracy: {0:.2f}%'.format(accuracy_score(y_test,pred_res_bbag )*100),\n",
    "          fontsize=15)\n",
    "plt.ylabel('Actual\\n')\n",
    "plt.xlabel('Predicted\\n')\n",
    "plt.show()\n",
    "print(\"Resampled Balanced Bagging Classifier Cross Validation Score: {:0.2f}%\"\n",
    "      .format(np.mean(cross_val_score(res_bbag, X_train, y_train, cv=5)*100)))\n",
    "print('\\n')\n",
    "#end\n",
    "end_res_bbag = time.time()\n",
    "print(\"\\nResampled Balanced Bagging Time: \",end_res_bbag - start_res_bbag)"
   ]
  },
  {
   "cell_type": "code",
   "execution_count": 44,
   "metadata": {},
   "outputs": [
    {
     "name": "stdout",
     "output_type": "stream",
     "text": [
      "Resampled Balanced Bagging Classifier Specificity Score: 82.21%\n",
      "Resampled Balanced Bagging Classifier False Positive Rate Score: 17.79%\n",
      "Resampled Balanced Bagging Classifier Error Rate Score: 21.47%\n",
      "Resampled Balanced Bagging Classifier Accuracy Score: 78.53%\n",
      "Resampled Balanced Bagging Classifier F1 Score: 61.97%\n",
      "Resampled Balanced Bagging Classifier Precision Score: 60.58%\n",
      "Resampled Balanced Bagging Classifier Recall Score: 67.01%\n",
      "Resampled Balanced Bagging  Classifier Roc Auc Score: 67.01%\n"
     ]
    }
   ],
   "source": [
    "#extracting true_positives, false_positives, true_negatives, false_negatives\n",
    "tn, fp, fn, tp = confusion_matrix(y_test,pred_res_bbag).ravel()\n",
    "\n",
    "accuracy = accuracy_score(y_test,pred_res_bbag)*100\n",
    "specificity = tn/(tn+fp)*100\n",
    "fpr = fp/(tn+fp)*100\n",
    "ers = 100-accuracy\n",
    "\n",
    "print(\"Resampled Balanced Bagging Classifier Specificity Score: {0:.2f}%\".format(specificity))\n",
    "print(\"Resampled Balanced Bagging Classifier False Positive Rate Score: {0:.2f}%\".format(fpr))\n",
    "print(\"Resampled Balanced Bagging Classifier Error Rate Score: {0:.2f}%\".format(ers))\n",
    "\n",
    "#Check scores\n",
    "print(\"Resampled Balanced Bagging Classifier Accuracy Score: {:0.2f}%\"\n",
    "      .format(accuracy_score(y_test,pred_res_bbag )*100))\n",
    "print(\"Resampled Balanced Bagging Classifier F1 Score: {:0.2f}%\"\n",
    "      .format(f1_score(y_test, pred_res_bbag,average=\"macro\")*100))\n",
    "print(\"Resampled Balanced Bagging Classifier Precision Score: {:0.2f}%\"\n",
    "      .format(precision_score(y_test, pred_res_bbag, average=\"macro\")*100))\n",
    "print(\"Resampled Balanced Bagging Classifier Recall Score: {:0.2f}%\"\n",
    "      .format(recall_score(y_test, pred_res_bbag, average=\"macro\")*100))\n",
    "print(\"Resampled Balanced Bagging  Classifier Roc Auc Score: {0:.2f}%\"\n",
    "      .format(roc_auc_score(y_test, pred_res_bbag)*100))"
   ]
  },
  {
   "cell_type": "markdown",
   "metadata": {},
   "source": [
    "#### Resampled Easy Ensemble Classifier (Imblearn's AdaBoost)"
   ]
  },
  {
   "cell_type": "code",
   "execution_count": 45,
   "metadata": {},
   "outputs": [
    {
     "name": "stdout",
     "output_type": "stream",
     "text": [
      "Resampled Balanced Easy Ensemble Classifier Cross Validation Score: 66.83%\n",
      "\n",
      "\n"
     ]
    },
    {
     "data": {
      "image/png": "[encoded data removed]",
      "text/plain": [
       "<Figure size 1080x360 with 2 Axes>"
      ]
     },
     "metadata": {
      "needs_background": "dark"
     },
     "output_type": "display_data"
    },
    {
     "name": "stdout",
     "output_type": "stream",
     "text": [
      "\n",
      "Resampled Balanced Easy Ensemble Time:  37473.19004392624\n"
     ]
    }
   ],
   "source": [
    "#start\n",
    "start_res_eec = time.time()\n",
    "\n",
    "#EasyEnsembleClassifier\n",
    "res_eec = EasyEnsembleClassifier(n_estimators=500, random_state=42, replacement=True, \n",
    "                                 sampling_strategy='majority')\n",
    "\n",
    "res_eec.fit(X_train, y_train)\n",
    "pred_res_eec = res_eec.predict(X_test)\n",
    "\n",
    "print(\"Resampled Balanced Easy Ensemble Classifier Cross Validation Score: {:0.2f}%\"\n",
    "      .format(np.mean(cross_val_score(res_eec, X_train, y_train, cv=5)*100)))\n",
    "print('\\n')\n",
    "# Creates a confusion matrix\n",
    "res_eec_cm = confusion_matrix(y_test,pred_res_eec)\n",
    "\n",
    "# Transform to df for easier plotting\n",
    "res_eec_cm_df = pd.DataFrame(res_eec_cm,\n",
    "                     index = ['Not Serious','Serious'], \n",
    "                     columns = ['Not Serious','Serious'])\n",
    "\n",
    "plt.figure(figsize=(15,5))\n",
    "\n",
    "sns.heatmap(res_eec_cm_df, annot=True, fmt=\"d\", cmap='viridis', linecolor='black', linewidths=1)\n",
    "plt.title('Resampled Balanced Easy Ensemble Accuracy: {0:.2f}%'.format(accuracy_score(y_test,pred_res_eec )*100),\n",
    "          fontsize=15)\n",
    "plt.ylabel('Actual\\n')\n",
    "plt.xlabel('Predicted\\n')\n",
    "plt.show()\n",
    "\n",
    "#end\n",
    "end_res_eec = time.time()\n",
    "print(\"\\nResampled Balanced Easy Ensemble Time: \",end_res_eec - start_res_eec)"
   ]
  },
  {
   "cell_type": "code",
   "execution_count": 46,
   "metadata": {},
   "outputs": [
    {
     "name": "stdout",
     "output_type": "stream",
     "text": [
      "Resampled Balanced Easy Ensemble Classifier Specificity Score: 66.82%\n",
      "Resampled Balanced Easy Ensemble Classifier False Positive Rate Score: 33.18%\n",
      "Resampled Balanced Easy Ensemble Classifier Error Rate Score: 33.39%\n",
      "Resampled Balanced Easy Ensemble Classifier Accuracy Score: 66.61%\n",
      "Resampled Balanced Easy Ensemble Classifier F1 Score: 54.96%\n",
      "Resampled Balanced Easy Ensemble Classifier Precision Score: 57.27%\n",
      "Resampled Balanced Easy Ensemble Classifier Recall Score: 65.95%\n",
      "Resampled Balanced Easy Ensemble  Classifier Roc Auc Score: 65.95%\n"
     ]
    }
   ],
   "source": [
    "#extracting true_positives, false_positives, true_negatives, false_negatives\n",
    "tn, fp, fn, tp = confusion_matrix(res_y_test,pred_res_eec).ravel()\n",
    "\n",
    "accuracy = accuracy_score(res_y_test,pred_res_eec)*100\n",
    "specificity = tn/(tn+fp)*100\n",
    "fpr = fp/(tn+fp)*100\n",
    "ers = 100-accuracy\n",
    "\n",
    "print(\"Resampled Balanced Easy Ensemble Classifier Specificity Score: {0:.2f}%\".format(specificity))\n",
    "print(\"Resampled Balanced Easy Ensemble Classifier False Positive Rate Score: {0:.2f}%\".format(fpr))\n",
    "print(\"Resampled Balanced Easy Ensemble Classifier Error Rate Score: {0:.2f}%\".format(ers))\n",
    "\n",
    "#Check accuracy\n",
    "print(\"Resampled Balanced Easy Ensemble Classifier Accuracy Score: {:0.2f}%\"\n",
    "      .format(accuracy_score(y_test,pred_res_eec )*100))\n",
    "print(\"Resampled Balanced Easy Ensemble Classifier F1 Score: {:0.2f}%\"\n",
    "      .format(f1_score(y_test, pred_res_eec,average=\"macro\")*100))\n",
    "print(\"Resampled Balanced Easy Ensemble Classifier Precision Score: {:0.2f}%\"\n",
    "      .format(precision_score(y_test, pred_res_eec, average=\"macro\")*100))\n",
    "print(\"Resampled Balanced Easy Ensemble Classifier Recall Score: {:0.2f}%\"\n",
    "      .format(recall_score(y_test, pred_res_eec, average=\"macro\")*100))\n",
    "print(\"Resampled Balanced Easy Ensemble  Classifier Roc Auc Score: {0:.2f}%\"\n",
    "      .format(roc_auc_score(y_test, pred_res_eec)*100))"
   ]
  },
  {
   "cell_type": "markdown",
   "metadata": {},
   "source": [
    "#### Resampled Balanced Random Forest Classifier"
   ]
  },
  {
   "cell_type": "code",
   "execution_count": 47,
   "metadata": {},
   "outputs": [
    {
     "data": {
      "image/png": "[encoded data removed]",
      "text/plain": [
       "<Figure size 1080x360 with 2 Axes>"
      ]
     },
     "metadata": {
      "needs_background": "dark"
     },
     "output_type": "display_data"
    },
    {
     "name": "stdout",
     "output_type": "stream",
     "text": [
      "Resampled Balanced Random Forest Classifier Cross Validation Score: 67.28%\n",
      "\n",
      "\n",
      "\n",
      "Resampled Balanced Random Forest Time:  7261.670822143555\n"
     ]
    }
   ],
   "source": [
    "#start\n",
    "start_res_brfc = time.time()\n",
    "\n",
    "# Balanced Random Forest Classifier\n",
    "res_brfc = BalancedRandomForestClassifier(criterion='entropy', max_depth=40,\n",
    "                                          min_samples_leaf = 1, max_features=X.shape[1], \n",
    "                                          sampling_strategy='majority', replacement=True,\n",
    "                                          min_samples_split=8, n_estimators=500, \n",
    "                                          random_state=42)\n",
    "\n",
    "res_brfc.fit(X_train, y_train)\n",
    "pred_res_brfc = res_brfc.predict(X_test)\n",
    "\n",
    "# Creates a confusion matrix\n",
    "res_brfc_cm = confusion_matrix(y_test,pred_res_brfc)\n",
    "\n",
    "# Transform to df for easier plotting\n",
    "res_brfc_cm_df = pd.DataFrame(res_brfc_cm,\n",
    "                     index = ['Not Serious','Serious'], \n",
    "                     columns = ['Not Serious','Serious'])\n",
    "\n",
    "plt.figure(figsize=(15,5))\n",
    "\n",
    "sns.heatmap(res_brfc_cm_df, annot=True, fmt=\"d\", cmap='viridis', linecolor='black', linewidths=1)\n",
    "plt.title('Resampled Balanced Random Forest Accuracy: {0:.2f}%'.format(accuracy_score(y_test,pred_res_brfc )*100),\n",
    "          fontsize=15)\n",
    "plt.ylabel('Actual\\n')\n",
    "plt.xlabel('Predicted\\n')\n",
    "plt.show()\n",
    "print(\"Resampled Balanced Random Forest Classifier Cross Validation Score: {:0.2f}%\"\n",
    "      .format(np.mean(cross_val_score(res_brfc, X_train, y_train, cv=5)*100)))\n",
    "print('\\n')\n",
    "\n",
    "#end\n",
    "end_res_brfc = time.time()\n",
    "print(\"\\nResampled Balanced Random Forest Time: \",end_res_brfc - start_res_brfc)"
   ]
  },
  {
   "cell_type": "code",
   "execution_count": 48,
   "metadata": {},
   "outputs": [
    {
     "name": "stdout",
     "output_type": "stream",
     "text": [
      "Resampled Balanced Random Forest Classifier Specificity Score: 66.96%\n",
      "Resampled Balanced Random Forest Classifier False Positive Rate Score: 33.04%\n",
      "Resampled Balanced Random Forest Classifier Error Rate Score: 32.72%\n",
      "Resampled Balanced Random Forest Classifier Accuracy Score: 67.28%\n",
      "Resampled Balanced Random Forest Classifier F1 Score: 56.12%\n",
      "Resampled Balanced Random Forest Classifier Precision Score: 58.30%\n",
      "Resampled Balanced Random Forest Classifier Recall Score: 68.28%\n",
      "Resampled Balanced Random Forest Classifier Roc Auc Score: 68.28%\n"
     ]
    }
   ],
   "source": [
    "#extracting true_positives, false_positives, true_negatives, false_negatives\n",
    "tn, fp, fn, tp = confusion_matrix(res_y_test,pred_res_brfc).ravel()\n",
    "\n",
    "accuracy = accuracy_score(res_y_test,pred_res_brfc)*100\n",
    "specificity = tn/(tn+fp)*100\n",
    "fpr = fp/(tn+fp)*100\n",
    "ers = 100-accuracy\n",
    "\n",
    "print(\"Resampled Balanced Random Forest Classifier Specificity Score: {0:.2f}%\".format(specificity))\n",
    "print(\"Resampled Balanced Random Forest Classifier False Positive Rate Score: {0:.2f}%\".format(fpr))\n",
    "print(\"Resampled Balanced Random Forest Classifier Error Rate Score: {0:.2f}%\".format(ers))\n",
    "#Check accuracy\n",
    "\n",
    "\n",
    "#Check accuracy\n",
    "print(\"Resampled Balanced Random Forest Classifier Accuracy Score: {:0.2f}%\"\n",
    "      .format(accuracy_score(y_test,pred_res_brfc )*100))\n",
    "print(\"Resampled Balanced Random Forest Classifier F1 Score: {:0.2f}%\"\n",
    "      .format(f1_score(y_test, pred_res_brfc,average=\"macro\")*100))\n",
    "print(\"Resampled Balanced Random Forest Classifier Precision Score: {:0.2f}%\"\n",
    "      .format(precision_score(y_test, pred_res_brfc, average=\"macro\")*100))\n",
    "print(\"Resampled Balanced Random Forest Classifier Recall Score: {:0.2f}%\"\n",
    "      .format(recall_score(y_test, pred_res_brfc, average=\"macro\")*100))\n",
    "print(\"Resampled Balanced Random Forest Classifier Roc Auc Score: {0:.2f}%\"\n",
    "      .format(roc_auc_score(y_test, pred_res_brfc)*100))"
   ]
  },
  {
   "cell_type": "markdown",
   "metadata": {},
   "source": [
    "#### Supervised Learning Results\n",
    "Below we have compiled a dataframe and visualization of the scores above in order to determine which algorithm would be best for this data."
   ]
  },
  {
   "cell_type": "code",
   "execution_count": 22,
   "metadata": {},
   "outputs": [
    {
     "data": {
      "text/html": [
       "<div>\n",
       "<style scoped>\n",
       "    .dataframe tbody tr th:only-of-type {\n",
       "        vertical-align: middle;\n",
       "    }\n",
       "\n",
       "    .dataframe tbody tr th {\n",
       "        vertical-align: top;\n",
       "    }\n",
       "\n",
       "    .dataframe thead th {\n",
       "        text-align: right;\n",
       "    }\n",
       "</style>\n",
       "<table border=\"1\" class=\"dataframe\">\n",
       "  <thead>\n",
       "    <tr style=\"text-align: right;\">\n",
       "      <th></th>\n",
       "      <th>Learning Algorithm</th>\n",
       "      <th>Accuracy  Score</th>\n",
       "      <th>F1 Score</th>\n",
       "      <th>Precision Score</th>\n",
       "      <th>Recall Score</th>\n",
       "      <th>Cross Validation Score</th>\n",
       "      <th>Specificity Score</th>\n",
       "      <th>Error Rate</th>\n",
       "      <th>False Positive Rate</th>\n",
       "      <th>Roc Auc Score</th>\n",
       "      <th>Time</th>\n",
       "      <th>Learning Library</th>\n",
       "    </tr>\n",
       "  </thead>\n",
       "  <tbody>\n",
       "    <tr>\n",
       "      <th>0</th>\n",
       "      <td>Bagging</td>\n",
       "      <td>66.97</td>\n",
       "      <td>55.81</td>\n",
       "      <td>58.10</td>\n",
       "      <td>67.88</td>\n",
       "      <td>69.11</td>\n",
       "      <td>66.68</td>\n",
       "      <td>33.03</td>\n",
       "      <td>33.32</td>\n",
       "      <td>67.88</td>\n",
       "      <td>5531.351397</td>\n",
       "      <td>Sklearn</td>\n",
       "    </tr>\n",
       "    <tr>\n",
       "      <th>1</th>\n",
       "      <td>AdaBoost</td>\n",
       "      <td>66.74</td>\n",
       "      <td>54.90</td>\n",
       "      <td>57.14</td>\n",
       "      <td>65.58</td>\n",
       "      <td>65.73</td>\n",
       "      <td>67.12</td>\n",
       "      <td>33.26</td>\n",
       "      <td>32.88</td>\n",
       "      <td>65.58</td>\n",
       "      <td>389.835886</td>\n",
       "      <td>Sklearn</td>\n",
       "    </tr>\n",
       "    <tr>\n",
       "      <th>2</th>\n",
       "      <td>Random Forest</td>\n",
       "      <td>67.09</td>\n",
       "      <td>55.87</td>\n",
       "      <td>58.10</td>\n",
       "      <td>67.85</td>\n",
       "      <td>69.15</td>\n",
       "      <td>66.84</td>\n",
       "      <td>32.91</td>\n",
       "      <td>33.16</td>\n",
       "      <td>67.85</td>\n",
       "      <td>4370.322077</td>\n",
       "      <td>Sklearn</td>\n",
       "    </tr>\n",
       "    <tr>\n",
       "      <th>3</th>\n",
       "      <td>LightGBM</td>\n",
       "      <td>67.81</td>\n",
       "      <td>56.33</td>\n",
       "      <td>58.27</td>\n",
       "      <td>68.04</td>\n",
       "      <td>68.32</td>\n",
       "      <td>67.74</td>\n",
       "      <td>32.19</td>\n",
       "      <td>32.26</td>\n",
       "      <td>68.04</td>\n",
       "      <td>61.458355</td>\n",
       "      <td>LightGBM</td>\n",
       "    </tr>\n",
       "    <tr>\n",
       "      <th>4</th>\n",
       "      <td>XGBoost</td>\n",
       "      <td>66.80</td>\n",
       "      <td>55.79</td>\n",
       "      <td>58.17</td>\n",
       "      <td>68.10</td>\n",
       "      <td>69.24</td>\n",
       "      <td>66.38</td>\n",
       "      <td>33.20</td>\n",
       "      <td>33.62</td>\n",
       "      <td>68.10</td>\n",
       "      <td>4441.273264</td>\n",
       "      <td>XGBoost</td>\n",
       "    </tr>\n",
       "    <tr>\n",
       "      <th>5</th>\n",
       "      <td>Balanced Bagging</td>\n",
       "      <td>78.53</td>\n",
       "      <td>61.97</td>\n",
       "      <td>60.58</td>\n",
       "      <td>67.01</td>\n",
       "      <td>78.47</td>\n",
       "      <td>82.21</td>\n",
       "      <td>17.79</td>\n",
       "      <td>21.47</td>\n",
       "      <td>67.01</td>\n",
       "      <td>12142.180310</td>\n",
       "      <td>Imblearn</td>\n",
       "    </tr>\n",
       "    <tr>\n",
       "      <th>6</th>\n",
       "      <td>Easy Ensemble</td>\n",
       "      <td>66.61</td>\n",
       "      <td>54.96</td>\n",
       "      <td>57.27</td>\n",
       "      <td>65.95</td>\n",
       "      <td>66.83</td>\n",
       "      <td>66.82</td>\n",
       "      <td>33.39</td>\n",
       "      <td>33.18</td>\n",
       "      <td>65.95</td>\n",
       "      <td>37473.190040</td>\n",
       "      <td>Imblearn</td>\n",
       "    </tr>\n",
       "    <tr>\n",
       "      <th>7</th>\n",
       "      <td>Balanced Random Forest</td>\n",
       "      <td>67.28</td>\n",
       "      <td>56.12</td>\n",
       "      <td>58.30</td>\n",
       "      <td>68.28</td>\n",
       "      <td>67.28</td>\n",
       "      <td>66.96</td>\n",
       "      <td>32.72</td>\n",
       "      <td>33.04</td>\n",
       "      <td>68.28</td>\n",
       "      <td>7261.670822</td>\n",
       "      <td>Imblearn</td>\n",
       "    </tr>\n",
       "  </tbody>\n",
       "</table>\n",
       "</div>"
      ],
      "text/plain": [
       "       Learning Algorithm  Accuracy  Score  F1 Score   Precision Score  \\\n",
       "0                 Bagging            66.97      55.81            58.10   \n",
       "1                AdaBoost            66.74      54.90            57.14   \n",
       "2           Random Forest            67.09      55.87            58.10   \n",
       "3                LightGBM            67.81      56.33            58.27   \n",
       "4                 XGBoost            66.80      55.79            58.17   \n",
       "5        Balanced Bagging            78.53      61.97            60.58   \n",
       "6           Easy Ensemble            66.61      54.96            57.27   \n",
       "7  Balanced Random Forest            67.28      56.12            58.30   \n",
       "\n",
       "   Recall Score  Cross Validation Score  Specificity Score  Error Rate  \\\n",
       "0         67.88                   69.11              66.68       33.03   \n",
       "1         65.58                   65.73              67.12       33.26   \n",
       "2         67.85                   69.15              66.84       32.91   \n",
       "3         68.04                   68.32              67.74       32.19   \n",
       "4         68.10                   69.24              66.38       33.20   \n",
       "5         67.01                   78.47              82.21       17.79   \n",
       "6         65.95                   66.83              66.82       33.39   \n",
       "7         68.28                   67.28              66.96       32.72   \n",
       "\n",
       "   False Positive Rate  Roc Auc Score          Time Learning Library  \n",
       "0                33.32          67.88   5531.351397          Sklearn  \n",
       "1                32.88          65.58    389.835886          Sklearn  \n",
       "2                33.16          67.85   4370.322077          Sklearn  \n",
       "3                32.26          68.04     61.458355         LightGBM  \n",
       "4                33.62          68.10   4441.273264          XGBoost  \n",
       "5                21.47          67.01  12142.180310         Imblearn  \n",
       "6                33.18          65.95  37473.190040         Imblearn  \n",
       "7                33.04          68.28   7261.670822         Imblearn  "
      ]
     },
     "execution_count": 22,
     "metadata": {},
     "output_type": "execute_result"
    }
   ],
   "source": [
    "#create list of results\n",
    "results_data={'Learning Algorithm':['Bagging','AdaBoost', 'Random Forest', 'LightGBM','XGBoost',\n",
    "                                    'Balanced Bagging', 'Easy Ensemble', 'Balanced Random Forest'],\n",
    "              'Accuracy  Score':[66.97,66.74,67.09,67.81,66.8,78.53,66.61,67.28],\n",
    "              'F1 Score ':[55.81,54.9,55.87,56.33,55.79,61.97,54.96,56.12],\n",
    "              'Precision Score':[58.1,57.14,58.1,58.27,58.17,60.58,57.27,58.3],\n",
    "              'Recall Score':[67.88,65.58,67.85,68.04,68.1,67.01,65.95,68.28],\n",
    "              'Cross Validation Score':[69.11,65.73,69.15,68.32,69.24,78.47,66.83,67.28],\n",
    "              'Specificity Score':[66.68,67.12,66.84,67.74,66.38,82.21,66.82,66.96], \n",
    "              'Error Rate':[33.03,33.26,32.91,32.19,33.2,17.79,33.39,32.72],\n",
    "              'False Positive Rate':[33.32,32.88,33.16,32.26,33.62,21.47,33.18,33.04],\n",
    "              'Roc Auc Score':[67.88,65.58,67.85,68.04,68.1,67.01,65.95,68.28],\n",
    "              'Time':[5531.351397,389.835886,4370.322077,61.45835494995117,4441.273263931274,\n",
    "                      12142.18031,37473.19004,7261.670822],\n",
    "              'Learning Library':['Sklearn', 'Sklearn', 'Sklearn', 'LightGBM', 'XGBoost',\n",
    "                                  'Imblearn', 'Imblearn', 'Imblearn']}\n",
    "#create dataframe\n",
    "results=pd.DataFrame(results_data) \n",
    "\n",
    "results.head(10)"
   ]
  },
  {
   "cell_type": "code",
   "execution_count": 23,
   "metadata": {},
   "outputs": [
    {
     "data": {
      "text/html": [
       "<div>\n",
       "<style scoped>\n",
       "    .dataframe tbody tr th:only-of-type {\n",
       "        vertical-align: middle;\n",
       "    }\n",
       "\n",
       "    .dataframe tbody tr th {\n",
       "        vertical-align: top;\n",
       "    }\n",
       "\n",
       "    .dataframe thead th {\n",
       "        text-align: right;\n",
       "    }\n",
       "</style>\n",
       "<table border=\"1\" class=\"dataframe\">\n",
       "  <thead>\n",
       "    <tr style=\"text-align: right;\">\n",
       "      <th></th>\n",
       "      <th>Accuracy  Score</th>\n",
       "      <th>F1 Score</th>\n",
       "      <th>Precision Score</th>\n",
       "      <th>Recall Score</th>\n",
       "      <th>Cross Validation Score</th>\n",
       "      <th>Specificity Score</th>\n",
       "      <th>Error Rate</th>\n",
       "      <th>False Positive Rate</th>\n",
       "      <th>Roc Auc Score</th>\n",
       "      <th>Time in Minutes</th>\n",
       "      <th>Learning Library</th>\n",
       "    </tr>\n",
       "    <tr>\n",
       "      <th>Learning Algorithm</th>\n",
       "      <th></th>\n",
       "      <th></th>\n",
       "      <th></th>\n",
       "      <th></th>\n",
       "      <th></th>\n",
       "      <th></th>\n",
       "      <th></th>\n",
       "      <th></th>\n",
       "      <th></th>\n",
       "      <th></th>\n",
       "      <th></th>\n",
       "    </tr>\n",
       "  </thead>\n",
       "  <tbody>\n",
       "    <tr>\n",
       "      <th>Bagging</th>\n",
       "      <td>66.97</td>\n",
       "      <td>55.81</td>\n",
       "      <td>58.10</td>\n",
       "      <td>67.88</td>\n",
       "      <td>69.11</td>\n",
       "      <td>66.68</td>\n",
       "      <td>33.03</td>\n",
       "      <td>33.32</td>\n",
       "      <td>67.88</td>\n",
       "      <td>92.19</td>\n",
       "      <td>Sklearn</td>\n",
       "    </tr>\n",
       "    <tr>\n",
       "      <th>AdaBoost</th>\n",
       "      <td>66.74</td>\n",
       "      <td>54.90</td>\n",
       "      <td>57.14</td>\n",
       "      <td>65.58</td>\n",
       "      <td>65.73</td>\n",
       "      <td>67.12</td>\n",
       "      <td>33.26</td>\n",
       "      <td>32.88</td>\n",
       "      <td>65.58</td>\n",
       "      <td>6.50</td>\n",
       "      <td>Sklearn</td>\n",
       "    </tr>\n",
       "    <tr>\n",
       "      <th>Random Forest</th>\n",
       "      <td>67.09</td>\n",
       "      <td>55.87</td>\n",
       "      <td>58.10</td>\n",
       "      <td>67.85</td>\n",
       "      <td>69.15</td>\n",
       "      <td>66.84</td>\n",
       "      <td>32.91</td>\n",
       "      <td>33.16</td>\n",
       "      <td>67.85</td>\n",
       "      <td>72.84</td>\n",
       "      <td>Sklearn</td>\n",
       "    </tr>\n",
       "    <tr>\n",
       "      <th>LightGBM</th>\n",
       "      <td>67.81</td>\n",
       "      <td>56.33</td>\n",
       "      <td>58.27</td>\n",
       "      <td>68.04</td>\n",
       "      <td>68.32</td>\n",
       "      <td>67.74</td>\n",
       "      <td>32.19</td>\n",
       "      <td>32.26</td>\n",
       "      <td>68.04</td>\n",
       "      <td>1.02</td>\n",
       "      <td>LightGBM</td>\n",
       "    </tr>\n",
       "    <tr>\n",
       "      <th>XGBoost</th>\n",
       "      <td>66.80</td>\n",
       "      <td>55.79</td>\n",
       "      <td>58.17</td>\n",
       "      <td>68.10</td>\n",
       "      <td>69.24</td>\n",
       "      <td>66.38</td>\n",
       "      <td>33.20</td>\n",
       "      <td>33.62</td>\n",
       "      <td>68.10</td>\n",
       "      <td>74.02</td>\n",
       "      <td>XGBoost</td>\n",
       "    </tr>\n",
       "    <tr>\n",
       "      <th>Balanced Bagging</th>\n",
       "      <td>78.53</td>\n",
       "      <td>61.97</td>\n",
       "      <td>60.58</td>\n",
       "      <td>67.01</td>\n",
       "      <td>78.47</td>\n",
       "      <td>82.21</td>\n",
       "      <td>17.79</td>\n",
       "      <td>21.47</td>\n",
       "      <td>67.01</td>\n",
       "      <td>202.37</td>\n",
       "      <td>Imblearn</td>\n",
       "    </tr>\n",
       "    <tr>\n",
       "      <th>Easy Ensemble</th>\n",
       "      <td>66.61</td>\n",
       "      <td>54.96</td>\n",
       "      <td>57.27</td>\n",
       "      <td>65.95</td>\n",
       "      <td>66.83</td>\n",
       "      <td>66.82</td>\n",
       "      <td>33.39</td>\n",
       "      <td>33.18</td>\n",
       "      <td>65.95</td>\n",
       "      <td>624.55</td>\n",
       "      <td>Imblearn</td>\n",
       "    </tr>\n",
       "    <tr>\n",
       "      <th>Balanced Random Forest</th>\n",
       "      <td>67.28</td>\n",
       "      <td>56.12</td>\n",
       "      <td>58.30</td>\n",
       "      <td>68.28</td>\n",
       "      <td>67.28</td>\n",
       "      <td>66.96</td>\n",
       "      <td>32.72</td>\n",
       "      <td>33.04</td>\n",
       "      <td>68.28</td>\n",
       "      <td>121.03</td>\n",
       "      <td>Imblearn</td>\n",
       "    </tr>\n",
       "  </tbody>\n",
       "</table>\n",
       "</div>"
      ],
      "text/plain": [
       "                        Accuracy  Score  F1 Score   Precision Score  \\\n",
       "Learning Algorithm                                                    \n",
       "Bagging                           66.97      55.81            58.10   \n",
       "AdaBoost                          66.74      54.90            57.14   \n",
       "Random Forest                     67.09      55.87            58.10   \n",
       "LightGBM                          67.81      56.33            58.27   \n",
       "XGBoost                           66.80      55.79            58.17   \n",
       "Balanced Bagging                  78.53      61.97            60.58   \n",
       "Easy Ensemble                     66.61      54.96            57.27   \n",
       "Balanced Random Forest            67.28      56.12            58.30   \n",
       "\n",
       "                        Recall Score  Cross Validation Score  \\\n",
       "Learning Algorithm                                             \n",
       "Bagging                        67.88                   69.11   \n",
       "AdaBoost                       65.58                   65.73   \n",
       "Random Forest                  67.85                   69.15   \n",
       "LightGBM                       68.04                   68.32   \n",
       "XGBoost                        68.10                   69.24   \n",
       "Balanced Bagging               67.01                   78.47   \n",
       "Easy Ensemble                  65.95                   66.83   \n",
       "Balanced Random Forest         68.28                   67.28   \n",
       "\n",
       "                        Specificity Score  Error Rate  False Positive Rate  \\\n",
       "Learning Algorithm                                                           \n",
       "Bagging                             66.68       33.03                33.32   \n",
       "AdaBoost                            67.12       33.26                32.88   \n",
       "Random Forest                       66.84       32.91                33.16   \n",
       "LightGBM                            67.74       32.19                32.26   \n",
       "XGBoost                             66.38       33.20                33.62   \n",
       "Balanced Bagging                    82.21       17.79                21.47   \n",
       "Easy Ensemble                       66.82       33.39                33.18   \n",
       "Balanced Random Forest              66.96       32.72                33.04   \n",
       "\n",
       "                        Roc Auc Score  Time in Minutes Learning Library  \n",
       "Learning Algorithm                                                       \n",
       "Bagging                         67.88            92.19          Sklearn  \n",
       "AdaBoost                        65.58             6.50          Sklearn  \n",
       "Random Forest                   67.85            72.84          Sklearn  \n",
       "LightGBM                        68.04             1.02         LightGBM  \n",
       "XGBoost                         68.10            74.02          XGBoost  \n",
       "Balanced Bagging                67.01           202.37         Imblearn  \n",
       "Easy Ensemble                   65.95           624.55         Imblearn  \n",
       "Balanced Random Forest          68.28           121.03         Imblearn  "
      ]
     },
     "execution_count": 23,
     "metadata": {},
     "output_type": "execute_result"
    }
   ],
   "source": [
    "#change time to minutes\n",
    "results['Time in Minutes'] = round(results['Time']/60, 2)\n",
    "\n",
    "#drop actual Time column\n",
    "results=results.drop('Time',axis=1)\n",
    "\n",
    "#rearrange columns\n",
    "results = results[['Learning Algorithm', 'Accuracy  Score', 'F1 Score ', 'Precision Score',\n",
    "                   'Recall Score', 'Cross Validation Score', 'Specificity Score', 'Error Rate',\n",
    "                   'False Positive Rate','Roc Auc Score','Time in Minutes', 'Learning Library']]\n",
    "results.set_index('Learning Algorithm', inplace=True)\n",
    "results.head(10)"
   ]
  },
  {
   "cell_type": "code",
   "execution_count": 24,
   "metadata": {},
   "outputs": [],
   "source": [
    "#csv file for Tableau \n",
    "results.to_csv('learning_results.csv') "
   ]
  },
  {
   "cell_type": "markdown",
   "metadata": {},
   "source": [
    "##### Scores"
   ]
  },
  {
   "cell_type": "code",
   "execution_count": 24,
   "metadata": {},
   "outputs": [
    {
     "data": {
      "text/html": [
       "<div class='tableauPlaceholder' id='viz1572177218898' style='position: relative'><noscript><a href='https:&#47;&#47;github.com&#47;GenTaylor&#47;Traffic-Accident-Analysis'><img alt=' ' src='https:&#47;&#47;public.tableau.com&#47;static&#47;images&#47;Le&#47;LearningAlgorithmResults&#47;LearningAlgorithmsScores&#47;1_rss.png' style='border: none' /></a></noscript><object class='tableauViz'  style='display:none;'><param name='host_url' value='https%3A%2F%2Fpublic.tableau.com%2F' /> <param name='embed_code_version' value='3' /> <param name='site_root' value='' /><param name='name' value='LearningAlgorithmResults&#47;LearningAlgorithmsScores' /><param name='tabs' value='no' /><param name='toolbar' value='yes' /><param name='static_image' value='https:&#47;&#47;public.tableau.com&#47;static&#47;images&#47;Le&#47;LearningAlgorithmResults&#47;LearningAlgorithmsScores&#47;1.png' /> <param name='animate_transition' value='yes' /><param name='display_static_image' value='yes' /><param name='display_spinner' value='yes' /><param name='display_overlay' value='yes' /><param name='display_count' value='yes' /></object></div>                <script type='text/javascript'>                    var divElement = document.getElementById('viz1572177218898');                    var vizElement = divElement.getElementsByTagName('object')[0];                    vizElement.style.width='100%';vizElement.style.height=(divElement.offsetWidth*0.75)+'px';                    var scriptElement = document.createElement('script');                    scriptElement.src = 'https://public.tableau.com/javascripts/api/viz_v1.js';                    vizElement.parentNode.insertBefore(scriptElement, vizElement);                </script>\n"
      ],
      "text/plain": [
       "<IPython.core.display.HTML object>"
      ]
     },
     "metadata": {},
     "output_type": "display_data"
    }
   ],
   "source": [
    "%%HTML\n",
    "<div class='tableauPlaceholder' id='viz1572177218898' style='position: relative'><noscript><a href='https:&#47;&#47;github.com&#47;GenTaylor&#47;Traffic-Accident-Analysis'><img alt=' ' src='https:&#47;&#47;public.tableau.com&#47;static&#47;images&#47;Le&#47;LearningAlgorithmResults&#47;LearningAlgorithmsScores&#47;1_rss.png' style='border: none' /></a></noscript><object class='tableauViz'  style='display:none;'><param name='host_url' value='https%3A%2F%2Fpublic.tableau.com%2F' /> <param name='embed_code_version' value='3' /> <param name='site_root' value='' /><param name='name' value='LearningAlgorithmResults&#47;LearningAlgorithmsScores' /><param name='tabs' value='no' /><param name='toolbar' value='yes' /><param name='static_image' value='https:&#47;&#47;public.tableau.com&#47;static&#47;images&#47;Le&#47;LearningAlgorithmResults&#47;LearningAlgorithmsScores&#47;1.png' /> <param name='animate_transition' value='yes' /><param name='display_static_image' value='yes' /><param name='display_spinner' value='yes' /><param name='display_overlay' value='yes' /><param name='display_count' value='yes' /></object></div>                <script type='text/javascript'>                    var divElement = document.getElementById('viz1572177218898');                    var vizElement = divElement.getElementsByTagName('object')[0];                    vizElement.style.width='100%';vizElement.style.height=(divElement.offsetWidth*0.75)+'px';                    var scriptElement = document.createElement('script');                    scriptElement.src = 'https://public.tableau.com/javascripts/api/viz_v1.js';                    vizElement.parentNode.insertBefore(scriptElement, vizElement);                </script>"
   ]
  },
  {
   "cell_type": "markdown",
   "metadata": {},
   "source": [
    "##### Rates"
   ]
  },
  {
   "cell_type": "code",
   "execution_count": 25,
   "metadata": {},
   "outputs": [
    {
     "data": {
      "text/html": [
       "<div class='tableauPlaceholder' id='viz1572079997269' style='position: relative'><noscript><a href='https:&#47;&#47;github.com&#47;GenTaylor&#47;Traffic-Accident-Analysis'><img alt=' ' src='https:&#47;&#47;public.tableau.com&#47;static&#47;images&#47;Le&#47;LearningAlgorithmResults&#47;LearningAlgorithmsRates&#47;1_rss.png' style='border: none' /></a></noscript><object class='tableauViz'  style='display:none;'><param name='host_url' value='https%3A%2F%2Fpublic.tableau.com%2F' /> <param name='embed_code_version' value='3' /> <param name='site_root' value='' /><param name='name' value='LearningAlgorithmResults&#47;LearningAlgorithmsRates' /><param name='tabs' value='no' /><param name='toolbar' value='yes' /><param name='static_image' value='https:&#47;&#47;public.tableau.com&#47;static&#47;images&#47;Le&#47;LearningAlgorithmResults&#47;LearningAlgorithmsRates&#47;1.png' /> <param name='animate_transition' value='yes' /><param name='display_static_image' value='yes' /><param name='display_spinner' value='yes' /><param name='display_overlay' value='yes' /><param name='display_count' value='yes' /><param name='useGuest' value='true' /></object></div>                <script type='text/javascript'>                    var divElement = document.getElementById('viz1572079997269');                    var vizElement = divElement.getElementsByTagName('object')[0];                    vizElement.style.width='100%';vizElement.style.height=(divElement.offsetWidth*0.75)+'px';                    var scriptElement = document.createElement('script');                    scriptElement.src = 'https://public.tableau.com/javascripts/api/viz_v1.js';                    vizElement.parentNode.insertBefore(scriptElement, vizElement);                </script>\n"
      ],
      "text/plain": [
       "<IPython.core.display.HTML object>"
      ]
     },
     "metadata": {},
     "output_type": "display_data"
    }
   ],
   "source": [
    "%%HTML\n",
    "<div class='tableauPlaceholder' id='viz1572079997269' style='position: relative'><noscript><a href='https:&#47;&#47;github.com&#47;GenTaylor&#47;Traffic-Accident-Analysis'><img alt=' ' src='https:&#47;&#47;public.tableau.com&#47;static&#47;images&#47;Le&#47;LearningAlgorithmResults&#47;LearningAlgorithmsRates&#47;1_rss.png' style='border: none' /></a></noscript><object class='tableauViz'  style='display:none;'><param name='host_url' value='https%3A%2F%2Fpublic.tableau.com%2F' /> <param name='embed_code_version' value='3' /> <param name='site_root' value='' /><param name='name' value='LearningAlgorithmResults&#47;LearningAlgorithmsRates' /><param name='tabs' value='no' /><param name='toolbar' value='yes' /><param name='static_image' value='https:&#47;&#47;public.tableau.com&#47;static&#47;images&#47;Le&#47;LearningAlgorithmResults&#47;LearningAlgorithmsRates&#47;1.png' /> <param name='animate_transition' value='yes' /><param name='display_static_image' value='yes' /><param name='display_spinner' value='yes' /><param name='display_overlay' value='yes' /><param name='display_count' value='yes' /><param name='useGuest' value='true' /></object></div>                <script type='text/javascript'>                    var divElement = document.getElementById('viz1572079997269');                    var vizElement = divElement.getElementsByTagName('object')[0];                    vizElement.style.width='100%';vizElement.style.height=(divElement.offsetWidth*0.75)+'px';                    var scriptElement = document.createElement('script');                    scriptElement.src = 'https://public.tableau.com/javascripts/api/viz_v1.js';                    vizElement.parentNode.insertBefore(scriptElement, vizElement);                </script>"
   ]
  },
  {
   "cell_type": "markdown",
   "metadata": {},
   "source": [
    "##### Timing"
   ]
  },
  {
   "cell_type": "code",
   "execution_count": 26,
   "metadata": {},
   "outputs": [
    {
     "data": {
      "text/html": [
       "<div class='tableauPlaceholder' id='viz1572080028730' style='position: relative'><noscript><a href='https:&#47;&#47;github.com&#47;GenTaylor&#47;Traffic-Accident-Analysis'><img alt=' ' src='https:&#47;&#47;public.tableau.com&#47;static&#47;images&#47;Le&#47;LearningAlgorithmResults&#47;LearningAlgorithmsTime&#47;1_rss.png' style='border: none' /></a></noscript><object class='tableauViz'  style='display:none;'><param name='host_url' value='https%3A%2F%2Fpublic.tableau.com%2F' /> <param name='embed_code_version' value='3' /> <param name='site_root' value='' /><param name='name' value='LearningAlgorithmResults&#47;LearningAlgorithmsTime' /><param name='tabs' value='no' /><param name='toolbar' value='yes' /><param name='static_image' value='https:&#47;&#47;public.tableau.com&#47;static&#47;images&#47;Le&#47;LearningAlgorithmResults&#47;LearningAlgorithmsTime&#47;1.png' /> <param name='animate_transition' value='yes' /><param name='display_static_image' value='yes' /><param name='display_spinner' value='yes' /><param name='display_overlay' value='yes' /><param name='display_count' value='yes' /><param name='useGuest' value='true' /></object></div>                <script type='text/javascript'>                    var divElement = document.getElementById('viz1572080028730');                    var vizElement = divElement.getElementsByTagName('object')[0];                    vizElement.style.width='100%';vizElement.style.height=(divElement.offsetWidth*0.75)+'px';                    var scriptElement = document.createElement('script');                    scriptElement.src = 'https://public.tableau.com/javascripts/api/viz_v1.js';                    vizElement.parentNode.insertBefore(scriptElement, vizElement);                </script>\n"
      ],
      "text/plain": [
       "<IPython.core.display.HTML object>"
      ]
     },
     "metadata": {},
     "output_type": "display_data"
    }
   ],
   "source": [
    "%%HTML\n",
    "<div class='tableauPlaceholder' id='viz1572080028730' style='position: relative'><noscript><a href='https:&#47;&#47;github.com&#47;GenTaylor&#47;Traffic-Accident-Analysis'><img alt=' ' src='https:&#47;&#47;public.tableau.com&#47;static&#47;images&#47;Le&#47;LearningAlgorithmResults&#47;LearningAlgorithmsTime&#47;1_rss.png' style='border: none' /></a></noscript><object class='tableauViz'  style='display:none;'><param name='host_url' value='https%3A%2F%2Fpublic.tableau.com%2F' /> <param name='embed_code_version' value='3' /> <param name='site_root' value='' /><param name='name' value='LearningAlgorithmResults&#47;LearningAlgorithmsTime' /><param name='tabs' value='no' /><param name='toolbar' value='yes' /><param name='static_image' value='https:&#47;&#47;public.tableau.com&#47;static&#47;images&#47;Le&#47;LearningAlgorithmResults&#47;LearningAlgorithmsTime&#47;1.png' /> <param name='animate_transition' value='yes' /><param name='display_static_image' value='yes' /><param name='display_spinner' value='yes' /><param name='display_overlay' value='yes' /><param name='display_count' value='yes' /><param name='useGuest' value='true' /></object></div>                <script type='text/javascript'>                    var divElement = document.getElementById('viz1572080028730');                    var vizElement = divElement.getElementsByTagName('object')[0];                    vizElement.style.width='100%';vizElement.style.height=(divElement.offsetWidth*0.75)+'px';                    var scriptElement = document.createElement('script');                    scriptElement.src = 'https://public.tableau.com/javascripts/api/viz_v1.js';                    vizElement.parentNode.insertBefore(scriptElement, vizElement);                </script>"
   ]
  },
  {
   "cell_type": "markdown",
   "metadata": {},
   "source": [
    "##### Choice\n",
    "\n",
    "Based on the visualizations above, Balanced Bagging Classifier from imblearn is the algorithm of choice for this data. While some of the scores may have been close, Balanced Bagging Classifier had higher scores in Accuracy, Cross Validation, and Specificity. The algorithm also had the lower Error Rate and False Positive Rates of the group."
   ]
  },
  {
   "cell_type": "markdown",
   "metadata": {},
   "source": [
    "#### Balanced Bagging Classifier with LightGBM\n",
    "Balanced Bagging Classifier performed thest best of the classifiers, however, I was not comfortable with how close  its predictions were for Serious Accidents in the confusion matrix. Due to this, I decided to combine Balanced Bagging Classifier with the second highest performing algorithm, LightGBM to see what results I would get."
   ]
  },
  {
   "cell_type": "code",
   "execution_count": 26,
   "metadata": {},
   "outputs": [
    {
     "data": {
      "image/png": "[encoded data removed]",
      "text/plain": [
       "<Figure size 1080x360 with 2 Axes>"
      ]
     },
     "metadata": {},
     "output_type": "display_data"
    },
    {
     "name": "stdout",
     "output_type": "stream",
     "text": [
      "\n",
      "Resampled Balanced Bagging with LightGBM Time:  14753.382143974304\n"
     ]
    }
   ],
   "source": [
    "#start\n",
    "start_res_bbag_w_lgbm = time.time()\n",
    "\n",
    "# Balanced Bagging Classifier\n",
    "res_bbag_w_lgbm = BalancedBaggingClassifier(base_estimator=res_lgbm, max_features=X.shape[1], n_estimators=500, replacement=True, \n",
    "                                     sampling_strategy='majority', random_state=42)\n",
    "\n",
    "res_bbag_w_lgbm.fit(X_train, y_train)\n",
    "pred_res_bbag_w_lgbm = res_bbag_w_lgbm.predict(X_test)\n",
    "\n",
    "\n",
    "# Creates a confusion matrix\n",
    "res_bbag_w_lgbm_cm = confusion_matrix(y_test,pred_res_bbag_w_lgbm)\n",
    "\n",
    "# Transform to df for easier plotting\n",
    "res_bbag_w_lgbm_cm_df = pd.DataFrame(res_bbag_w_lgbm_cm,\n",
    "                     index = ['Not Serious','Serious'], \n",
    "                     columns = ['Not Serious','Serious'])\n",
    "\n",
    "plt.figure(figsize=(15,5))\n",
    "\n",
    "sns.heatmap(res_bbag_w_lgbm_cm_df, annot=True, fmt=\"d\", cmap='viridis', linecolor='black', linewidths=1)\n",
    "plt.title('Resampled Balanced Bagging with LightGBM Accuracy: {0:.2f}%'.format(accuracy_score(y_test,pred_res_bbag_w_lgbm )*100),\n",
    "          fontsize=15)\n",
    "plt.ylabel('Actual\\n')\n",
    "plt.xlabel('Predicted\\n')\n",
    "plt.show()\n",
    "\n",
    "'''\n",
    "# print(\"Resampled Balanced Bagging with LightGBM Classifier Cross Validation Score: {:0.2f}%\"\n",
    "#       .format(np.mean(cross_val_score(res_bbag_w_lgbm, X_train, y_train, cv=5)*100)))\n",
    "# print('\\n')\n",
    "\n",
    "To save time in this notebook I commented out the cross validation score, however the score from it was:\n",
    "Resampled Balanced Bagging with LightGBM Classifier Cross Validation Score: 69.57%.\n",
    "\n",
    "(This can be seen by either running it with it commented in or checking the main notebook)\n",
    "'''\n",
    "\n",
    "#end\n",
    "end_res_bbag_w_lgbm = time.time()\n",
    "print(\"\\nResampled Balanced Bagging with LightGBM Time: \",end_res_bbag_w_lgbm - start_res_bbag_w_lgbm)"
   ]
  },
  {
   "cell_type": "code",
   "execution_count": 27,
   "metadata": {},
   "outputs": [
    {
     "name": "stdout",
     "output_type": "stream",
     "text": [
      "Resampled Balanced Bagging Classifier with LightGBM Score Specificity Score: 69.43%\n",
      "Resampled Balanced Bagging Classifier with LightGBM Score False Positive Rate Score: 30.57%\n",
      "Resampled Balanced Bagging Classifier with LightGBM Score Error Rate Score: 30.86%\n",
      "Resampled Balanced Bagging Classifier with LightGBM Score Accuracy Score: 69.14%\n",
      "Resampled Balanced Bagging Classifier with LightGBM Score F1 Score: 57.14%\n",
      "Resampled Balanced Bagging Classifier with LightGBM Score Precision Scoreres_: 58.53%\n",
      "Resampled Balanced Bagging Classifier with LightGBM Score Recall Score: 68.24%\n",
      "Resampled Balanced Bagging  Classifier with LightGBM Score Roc Auc Score: 68.24%\n"
     ]
    }
   ],
   "source": [
    "#extracting true_positives, false_positives, true_negatives, false_negatives\n",
    "tn, fp, fn, tp = confusion_matrix(y_test,pred_res_bbag_w_lgbm).ravel()\n",
    "\n",
    "accuracy = accuracy_score(y_test,pred_res_bbag_w_lgbm)*100\n",
    "specificity = tn/(tn+fp)*100\n",
    "fpr = fp/(tn+fp)*100\n",
    "ers = 100-accuracy\n",
    "\n",
    "print(\"Resampled Balanced Bagging Classifier with LightGBM Score Specificity Score: {0:.2f}%\".format(specificity))\n",
    "print(\"Resampled Balanced Bagging Classifier with LightGBM Score False Positive Rate Score: {0:.2f}%\".format(fpr))\n",
    "print(\"Resampled Balanced Bagging Classifier with LightGBM Score Error Rate Score: {0:.2f}%\".format(ers))\n",
    "\n",
    "#Check scores\n",
    "print(\"Resampled Balanced Bagging Classifier with LightGBM Score Accuracy Score: {:0.2f}%\"\n",
    "      .format(accuracy_score(res_y_test,pred_res_bbag_w_lgbm )*100))\n",
    "print(\"Resampled Balanced Bagging Classifier with LightGBM Score F1 Score: {:0.2f}%\"\n",
    "      .format(f1_score(y_test, pred_res_bbag_w_lgbm,average=\"macro\")*100))\n",
    "print(\"Resampled Balanced Bagging Classifier with LightGBM Score Precision Scoreres_: {:0.2f}%\"\n",
    "      .format(precision_score(y_test, pred_res_bbag_w_lgbm, average=\"macro\")*100))\n",
    "print(\"Resampled Balanced Bagging Classifier with LightGBM Score Recall Score: {:0.2f}%\"\n",
    "      .format(recall_score(y_test, pred_res_bbag_w_lgbm, average=\"macro\")*100))\n",
    "print(\"Resampled Balanced Bagging  Classifier with LightGBM Score Roc Auc Score: {0:.2f}%\"\n",
    "      .format(roc_auc_score(y_test, pred_res_bbag_w_lgbm)*100))"
   ]
  },
  {
   "cell_type": "markdown",
   "metadata": {},
   "source": [
    "The results were better than the other learning algorithms but lower accuracy wise than the previous Balanced Bagging Algorithm. It also took longer than any other algorithm used. Taking all of that into consideration, I have decided that depending on what was the goal, either Balanced Bagging Classifier algorithm could be used. If I were more concerned with overall accuracy, the regular Balanced Bagging Classifier would be used. If I were more concerned with making sure \"Serious\" predictions were achieved, Balanced Bagging Classifier with LightGBM would be used."
   ]
  },
  {
   "cell_type": "code",
   "execution_count": 28,
   "metadata": {},
   "outputs": [
    {
     "data": {
      "text/html": [
       "<div>\n",
       "<style scoped>\n",
       "    .dataframe tbody tr th:only-of-type {\n",
       "        vertical-align: middle;\n",
       "    }\n",
       "\n",
       "    .dataframe tbody tr th {\n",
       "        vertical-align: top;\n",
       "    }\n",
       "\n",
       "    .dataframe thead th {\n",
       "        text-align: right;\n",
       "    }\n",
       "</style>\n",
       "<table border=\"1\" class=\"dataframe\">\n",
       "  <thead>\n",
       "    <tr style=\"text-align: right;\">\n",
       "      <th></th>\n",
       "      <th>Learning Algorithm</th>\n",
       "      <th>Accuracy  Score</th>\n",
       "      <th>F1 Score</th>\n",
       "      <th>Precision Score</th>\n",
       "      <th>Recall Score</th>\n",
       "      <th>Cross Validation Score</th>\n",
       "      <th>Specificity Score</th>\n",
       "      <th>Error Rate</th>\n",
       "      <th>False Positive Rate</th>\n",
       "      <th>Roc Auc Score</th>\n",
       "      <th>Time</th>\n",
       "      <th>Learning Library</th>\n",
       "    </tr>\n",
       "  </thead>\n",
       "  <tbody>\n",
       "    <tr>\n",
       "      <th>0</th>\n",
       "      <td>Balanced Bagging</td>\n",
       "      <td>78.53</td>\n",
       "      <td>61.97</td>\n",
       "      <td>60.58</td>\n",
       "      <td>67.01</td>\n",
       "      <td>78.47</td>\n",
       "      <td>82.21</td>\n",
       "      <td>17.79</td>\n",
       "      <td>21.47</td>\n",
       "      <td>67.01</td>\n",
       "      <td>12142.18031</td>\n",
       "      <td>Imblearn</td>\n",
       "    </tr>\n",
       "    <tr>\n",
       "      <th>1</th>\n",
       "      <td>Balanced Bagging w/ LGBM</td>\n",
       "      <td>69.14</td>\n",
       "      <td>57.14</td>\n",
       "      <td>58.53</td>\n",
       "      <td>68.24</td>\n",
       "      <td>69.57</td>\n",
       "      <td>69.43</td>\n",
       "      <td>30.86</td>\n",
       "      <td>30.57</td>\n",
       "      <td>68.24</td>\n",
       "      <td>60178.96671</td>\n",
       "      <td>Imblearn</td>\n",
       "    </tr>\n",
       "  </tbody>\n",
       "</table>\n",
       "</div>"
      ],
      "text/plain": [
       "         Learning Algorithm  Accuracy  Score  F1 Score   Precision Score  \\\n",
       "0          Balanced Bagging            78.53      61.97            60.58   \n",
       "1  Balanced Bagging w/ LGBM            69.14      57.14            58.53   \n",
       "\n",
       "   Recall Score  Cross Validation Score  Specificity Score  Error Rate  \\\n",
       "0         67.01                   78.47              82.21       17.79   \n",
       "1         68.24                   69.57              69.43       30.86   \n",
       "\n",
       "   False Positive Rate  Roc Auc Score         Time Learning Library  \n",
       "0                21.47          67.01  12142.18031         Imblearn  \n",
       "1                30.57          68.24  60178.96671         Imblearn  "
      ]
     },
     "execution_count": 28,
     "metadata": {},
     "output_type": "execute_result"
    }
   ],
   "source": [
    "#create list of b_bagging\n",
    "b_bagging_data={'Learning Algorithm':['Balanced Bagging','Balanced Bagging w/ LGBM' ],\n",
    "           'Accuracy  Score':[78.53,69.14], 'F1 Score ':[61.97,57.14],\n",
    "           'Precision Score':[60.58,58.53],'Recall Score':[67.01,68.24],\n",
    "           'Cross Validation Score':[78.47,69.57],'Specificity Score':[82.21,69.43],\n",
    "           'Error Rate':[17.79,30.86],'False Positive Rate':[21.47,30.57],\n",
    "           'Roc Auc Score':[67.01,68.24],'Time':[12142.18031,60178.96671],\n",
    "           'Learning Library':['Imblearn', 'Imblearn']}\n",
    "#create dataframe\n",
    "b_bagging=pd.DataFrame(b_bagging_data) \n",
    "\n",
    "b_bagging.head(10)"
   ]
  },
  {
   "cell_type": "code",
   "execution_count": 29,
   "metadata": {},
   "outputs": [
    {
     "data": {
      "text/html": [
       "<div>\n",
       "<style scoped>\n",
       "    .dataframe tbody tr th:only-of-type {\n",
       "        vertical-align: middle;\n",
       "    }\n",
       "\n",
       "    .dataframe tbody tr th {\n",
       "        vertical-align: top;\n",
       "    }\n",
       "\n",
       "    .dataframe thead th {\n",
       "        text-align: right;\n",
       "    }\n",
       "</style>\n",
       "<table border=\"1\" class=\"dataframe\">\n",
       "  <thead>\n",
       "    <tr style=\"text-align: right;\">\n",
       "      <th></th>\n",
       "      <th>Accuracy  Score</th>\n",
       "      <th>F1 Score</th>\n",
       "      <th>Precision Score</th>\n",
       "      <th>Recall Score</th>\n",
       "      <th>Cross Validation Score</th>\n",
       "      <th>Specificity Score</th>\n",
       "      <th>Error Rate</th>\n",
       "      <th>False Positive Rate</th>\n",
       "      <th>Roc Auc Score</th>\n",
       "      <th>Time in Minutes</th>\n",
       "      <th>Learning Library</th>\n",
       "    </tr>\n",
       "    <tr>\n",
       "      <th>Learning Algorithm</th>\n",
       "      <th></th>\n",
       "      <th></th>\n",
       "      <th></th>\n",
       "      <th></th>\n",
       "      <th></th>\n",
       "      <th></th>\n",
       "      <th></th>\n",
       "      <th></th>\n",
       "      <th></th>\n",
       "      <th></th>\n",
       "      <th></th>\n",
       "    </tr>\n",
       "  </thead>\n",
       "  <tbody>\n",
       "    <tr>\n",
       "      <th>Balanced Bagging</th>\n",
       "      <td>78.53</td>\n",
       "      <td>61.97</td>\n",
       "      <td>60.58</td>\n",
       "      <td>67.01</td>\n",
       "      <td>78.47</td>\n",
       "      <td>82.21</td>\n",
       "      <td>17.79</td>\n",
       "      <td>21.47</td>\n",
       "      <td>67.01</td>\n",
       "      <td>202.37</td>\n",
       "      <td>Imblearn</td>\n",
       "    </tr>\n",
       "    <tr>\n",
       "      <th>Balanced Bagging w/ LGBM</th>\n",
       "      <td>69.14</td>\n",
       "      <td>57.14</td>\n",
       "      <td>58.53</td>\n",
       "      <td>68.24</td>\n",
       "      <td>69.57</td>\n",
       "      <td>69.43</td>\n",
       "      <td>30.86</td>\n",
       "      <td>30.57</td>\n",
       "      <td>68.24</td>\n",
       "      <td>1002.98</td>\n",
       "      <td>Imblearn</td>\n",
       "    </tr>\n",
       "  </tbody>\n",
       "</table>\n",
       "</div>"
      ],
      "text/plain": [
       "                          Accuracy  Score  F1 Score   Precision Score  \\\n",
       "Learning Algorithm                                                      \n",
       "Balanced Bagging                    78.53      61.97            60.58   \n",
       "Balanced Bagging w/ LGBM            69.14      57.14            58.53   \n",
       "\n",
       "                          Recall Score  Cross Validation Score  \\\n",
       "Learning Algorithm                                               \n",
       "Balanced Bagging                 67.01                   78.47   \n",
       "Balanced Bagging w/ LGBM         68.24                   69.57   \n",
       "\n",
       "                          Specificity Score  Error Rate  False Positive Rate  \\\n",
       "Learning Algorithm                                                             \n",
       "Balanced Bagging                      82.21       17.79                21.47   \n",
       "Balanced Bagging w/ LGBM              69.43       30.86                30.57   \n",
       "\n",
       "                          Roc Auc Score  Time in Minutes Learning Library  \n",
       "Learning Algorithm                                                         \n",
       "Balanced Bagging                  67.01           202.37         Imblearn  \n",
       "Balanced Bagging w/ LGBM          68.24          1002.98         Imblearn  "
      ]
     },
     "execution_count": 29,
     "metadata": {},
     "output_type": "execute_result"
    }
   ],
   "source": [
    "#change time to minutes\n",
    "b_bagging['Time in Minutes'] = round(b_bagging['Time']/60, 2)\n",
    "\n",
    "#drop actual Time column\n",
    "b_bagging=b_bagging.drop('Time',axis=1)\n",
    "\n",
    "#rearrange columns\n",
    "b_bagging = b_bagging[['Learning Algorithm', 'Accuracy  Score', 'F1 Score ', 'Precision Score',\n",
    "                   'Recall Score', 'Cross Validation Score', 'Specificity Score', 'Error Rate',\n",
    "                   'False Positive Rate','Roc Auc Score','Time in Minutes', 'Learning Library']]\n",
    "b_bagging.set_index('Learning Algorithm', inplace=True)\n",
    "b_bagging.head(10)"
   ]
  },
  {
   "cell_type": "code",
   "execution_count": 30,
   "metadata": {},
   "outputs": [],
   "source": [
    "#csv file for Tableau \n",
    "b_bagging.to_csv('b_bagging_results.csv') "
   ]
  },
  {
   "cell_type": "code",
   "execution_count": 31,
   "metadata": {},
   "outputs": [
    {
     "data": {
      "text/html": [
       "<div class='tableauPlaceholder' id='viz1572537010623' style='position: relative'><noscript><a href='#'><img alt=' ' src='https:&#47;&#47;public.tableau.com&#47;static&#47;images&#47;Ba&#47;BalancedBaggingComparisons&#47;Sheet1&#47;1_rss.png' style='border: none' /></a></noscript><object class='tableauViz'  style='display:none;'><param name='host_url' value='https%3A%2F%2Fpublic.tableau.com%2F' /> <param name='embed_code_version' value='3' /> <param name='site_root' value='' /><param name='name' value='BalancedBaggingComparisons&#47;Sheet1' /><param name='tabs' value='no' /><param name='toolbar' value='yes' /><param name='static_image' value='https:&#47;&#47;public.tableau.com&#47;static&#47;images&#47;Ba&#47;BalancedBaggingComparisons&#47;Sheet1&#47;1.png' /> <param name='animate_transition' value='yes' /><param name='display_static_image' value='yes' /><param name='display_spinner' value='yes' /><param name='display_overlay' value='yes' /><param name='display_count' value='yes' /><param name='filter' value='publish=yes' /></object></div>                <script type='text/javascript'>                    var divElement = document.getElementById('viz1572537010623');                    var vizElement = divElement.getElementsByTagName('object')[0];                    vizElement.style.width='100%';vizElement.style.height=(divElement.offsetWidth*0.75)+'px';                    var scriptElement = document.createElement('script');                    scriptElement.src = 'https://public.tableau.com/javascripts/api/viz_v1.js';                    vizElement.parentNode.insertBefore(scriptElement, vizElement);                </script>\n"
      ],
      "text/plain": [
       "<IPython.core.display.HTML object>"
      ]
     },
     "metadata": {},
     "output_type": "display_data"
    }
   ],
   "source": [
    "%%HTML\n",
    "<div class='tableauPlaceholder' id='viz1572537010623' style='position: relative'><noscript><a href='#'><img alt=' ' src='https:&#47;&#47;public.tableau.com&#47;static&#47;images&#47;Ba&#47;BalancedBaggingComparisons&#47;Sheet1&#47;1_rss.png' style='border: none' /></a></noscript><object class='tableauViz'  style='display:none;'><param name='host_url' value='https%3A%2F%2Fpublic.tableau.com%2F' /> <param name='embed_code_version' value='3' /> <param name='site_root' value='' /><param name='name' value='BalancedBaggingComparisons&#47;Sheet1' /><param name='tabs' value='no' /><param name='toolbar' value='yes' /><param name='static_image' value='https:&#47;&#47;public.tableau.com&#47;static&#47;images&#47;Ba&#47;BalancedBaggingComparisons&#47;Sheet1&#47;1.png' /> <param name='animate_transition' value='yes' /><param name='display_static_image' value='yes' /><param name='display_spinner' value='yes' /><param name='display_overlay' value='yes' /><param name='display_count' value='yes' /><param name='filter' value='publish=yes' /></object></div>                <script type='text/javascript'>                    var divElement = document.getElementById('viz1572537010623');                    var vizElement = divElement.getElementsByTagName('object')[0];                    vizElement.style.width='100%';vizElement.style.height=(divElement.offsetWidth*0.75)+'px';                    var scriptElement = document.createElement('script');                    scriptElement.src = 'https://public.tableau.com/javascripts/api/viz_v1.js';                    vizElement.parentNode.insertBefore(scriptElement, vizElement);                </script>"
   ]
  },
  {
   "cell_type": "markdown",
   "metadata": {},
   "source": [
    "Genesis L. Taylor<br>\n",
    "[Github](https://github.com/GenTaylor/) | [Linkedin](https://linkedin.com/in/genesistaylor/) | [Tableau](https://public.tableau.com/profile/genesis.taylor#!/) | [genesisltaylor@gmail.com](mailto:genesisltaylor@gmail.com)\n"
   ]
  }
 ],
 "metadata": {
  "kernelspec": {
   "display_name": "Python 3",
   "language": "python",
   "name": "python3"
  },
  "language_info": {
   "codemirror_mode": {
    "name": "ipython",
    "version": 3
   },
   "file_extension": ".py",
   "mimetype": "text/x-python",
   "name": "python",
   "nbconvert_exporter": "python",
   "pygments_lexer": "ipython3",
   "version": "3.7.3"
  }
 },
 "nbformat": 4,
 "nbformat_minor": 4
}
